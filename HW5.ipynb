{
 "cells": [
  {
   "cell_type": "code",
   "execution_count": 1,
   "id": "c710b218",
   "metadata": {},
   "outputs": [],
   "source": [
    "import numpy as np\n",
    "import pandas as pd\n",
    "import matplotlib.pyplot as plt\n",
    "\n",
    "from sklearn.cluster import KMeans, AgglomerativeClustering, DBSCAN\n",
    "from sklearn.decomposition import PCA\n",
    "from sklearn.preprocessing import StandardScaler\n",
    "from sklearn.model_selection import train_test_split\n",
    "from sklearn.metrics import silhouette_score\n",
    "from sklearn.datasets import load_wine\n",
    "from sklearn.manifold import TSNE\n",
    "\n",
    "import seaborn as sns\n",
    "\n",
    "import plotly.graph_objects as go"
   ]
  },
  {
   "cell_type": "code",
   "execution_count": 2,
   "id": "cc106a60",
   "metadata": {},
   "outputs": [
    {
     "data": {
      "text/html": [
       "<div>\n",
       "<style scoped>\n",
       "    .dataframe tbody tr th:only-of-type {\n",
       "        vertical-align: middle;\n",
       "    }\n",
       "\n",
       "    .dataframe tbody tr th {\n",
       "        vertical-align: top;\n",
       "    }\n",
       "\n",
       "    .dataframe thead th {\n",
       "        text-align: right;\n",
       "    }\n",
       "</style>\n",
       "<table border=\"1\" class=\"dataframe\">\n",
       "  <thead>\n",
       "    <tr style=\"text-align: right;\">\n",
       "      <th></th>\n",
       "      <th>alcohol</th>\n",
       "      <th>malic_acid</th>\n",
       "      <th>ash</th>\n",
       "      <th>alcalinity_of_ash</th>\n",
       "      <th>magnesium</th>\n",
       "      <th>total_phenols</th>\n",
       "      <th>flavanoids</th>\n",
       "      <th>nonflavanoid_phenols</th>\n",
       "      <th>proanthocyanins</th>\n",
       "      <th>color_intensity</th>\n",
       "      <th>hue</th>\n",
       "      <th>od280/od315_of_diluted_wines</th>\n",
       "      <th>proline</th>\n",
       "      <th>target</th>\n",
       "    </tr>\n",
       "  </thead>\n",
       "  <tbody>\n",
       "    <tr>\n",
       "      <th>0</th>\n",
       "      <td>14.23</td>\n",
       "      <td>1.71</td>\n",
       "      <td>2.43</td>\n",
       "      <td>15.6</td>\n",
       "      <td>127.0</td>\n",
       "      <td>2.80</td>\n",
       "      <td>3.06</td>\n",
       "      <td>0.28</td>\n",
       "      <td>2.29</td>\n",
       "      <td>5.64</td>\n",
       "      <td>1.04</td>\n",
       "      <td>3.92</td>\n",
       "      <td>1065.0</td>\n",
       "      <td>0</td>\n",
       "    </tr>\n",
       "    <tr>\n",
       "      <th>1</th>\n",
       "      <td>13.20</td>\n",
       "      <td>1.78</td>\n",
       "      <td>2.14</td>\n",
       "      <td>11.2</td>\n",
       "      <td>100.0</td>\n",
       "      <td>2.65</td>\n",
       "      <td>2.76</td>\n",
       "      <td>0.26</td>\n",
       "      <td>1.28</td>\n",
       "      <td>4.38</td>\n",
       "      <td>1.05</td>\n",
       "      <td>3.40</td>\n",
       "      <td>1050.0</td>\n",
       "      <td>0</td>\n",
       "    </tr>\n",
       "    <tr>\n",
       "      <th>2</th>\n",
       "      <td>13.16</td>\n",
       "      <td>2.36</td>\n",
       "      <td>2.67</td>\n",
       "      <td>18.6</td>\n",
       "      <td>101.0</td>\n",
       "      <td>2.80</td>\n",
       "      <td>3.24</td>\n",
       "      <td>0.30</td>\n",
       "      <td>2.81</td>\n",
       "      <td>5.68</td>\n",
       "      <td>1.03</td>\n",
       "      <td>3.17</td>\n",
       "      <td>1185.0</td>\n",
       "      <td>0</td>\n",
       "    </tr>\n",
       "    <tr>\n",
       "      <th>3</th>\n",
       "      <td>14.37</td>\n",
       "      <td>1.95</td>\n",
       "      <td>2.50</td>\n",
       "      <td>16.8</td>\n",
       "      <td>113.0</td>\n",
       "      <td>3.85</td>\n",
       "      <td>3.49</td>\n",
       "      <td>0.24</td>\n",
       "      <td>2.18</td>\n",
       "      <td>7.80</td>\n",
       "      <td>0.86</td>\n",
       "      <td>3.45</td>\n",
       "      <td>1480.0</td>\n",
       "      <td>0</td>\n",
       "    </tr>\n",
       "    <tr>\n",
       "      <th>4</th>\n",
       "      <td>13.24</td>\n",
       "      <td>2.59</td>\n",
       "      <td>2.87</td>\n",
       "      <td>21.0</td>\n",
       "      <td>118.0</td>\n",
       "      <td>2.80</td>\n",
       "      <td>2.69</td>\n",
       "      <td>0.39</td>\n",
       "      <td>1.82</td>\n",
       "      <td>4.32</td>\n",
       "      <td>1.04</td>\n",
       "      <td>2.93</td>\n",
       "      <td>735.0</td>\n",
       "      <td>0</td>\n",
       "    </tr>\n",
       "  </tbody>\n",
       "</table>\n",
       "</div>"
      ],
      "text/plain": [
       "   alcohol  malic_acid   ash  alcalinity_of_ash  magnesium  total_phenols  \\\n",
       "0    14.23        1.71  2.43               15.6      127.0           2.80   \n",
       "1    13.20        1.78  2.14               11.2      100.0           2.65   \n",
       "2    13.16        2.36  2.67               18.6      101.0           2.80   \n",
       "3    14.37        1.95  2.50               16.8      113.0           3.85   \n",
       "4    13.24        2.59  2.87               21.0      118.0           2.80   \n",
       "\n",
       "   flavanoids  nonflavanoid_phenols  proanthocyanins  color_intensity   hue  \\\n",
       "0        3.06                  0.28             2.29             5.64  1.04   \n",
       "1        2.76                  0.26             1.28             4.38  1.05   \n",
       "2        3.24                  0.30             2.81             5.68  1.03   \n",
       "3        3.49                  0.24             2.18             7.80  0.86   \n",
       "4        2.69                  0.39             1.82             4.32  1.04   \n",
       "\n",
       "   od280/od315_of_diluted_wines  proline  target  \n",
       "0                          3.92   1065.0       0  \n",
       "1                          3.40   1050.0       0  \n",
       "2                          3.17   1185.0       0  \n",
       "3                          3.45   1480.0       0  \n",
       "4                          2.93    735.0       0  "
      ]
     },
     "execution_count": 2,
     "metadata": {},
     "output_type": "execute_result"
    }
   ],
   "source": [
    "df = load_wine(as_frame=True)\n",
    "df = df.frame\n",
    "df.head()"
   ]
  },
  {
   "cell_type": "code",
   "execution_count": 3,
   "id": "6ef84666",
   "metadata": {},
   "outputs": [
    {
     "name": "stdout",
     "output_type": "stream",
     "text": [
      "<class 'pandas.core.frame.DataFrame'>\n",
      "RangeIndex: 178 entries, 0 to 177\n",
      "Data columns (total 13 columns):\n",
      " #   Column                        Non-Null Count  Dtype  \n",
      "---  ------                        --------------  -----  \n",
      " 0   alcohol                       178 non-null    float64\n",
      " 1   malic_acid                    178 non-null    float64\n",
      " 2   ash                           178 non-null    float64\n",
      " 3   alcalinity_of_ash             178 non-null    float64\n",
      " 4   magnesium                     178 non-null    float64\n",
      " 5   total_phenols                 178 non-null    float64\n",
      " 6   flavanoids                    178 non-null    float64\n",
      " 7   nonflavanoid_phenols          178 non-null    float64\n",
      " 8   proanthocyanins               178 non-null    float64\n",
      " 9   color_intensity               178 non-null    float64\n",
      " 10  hue                           178 non-null    float64\n",
      " 11  od280/od315_of_diluted_wines  178 non-null    float64\n",
      " 12  proline                       178 non-null    float64\n",
      "dtypes: float64(13)\n",
      "memory usage: 18.2 KB\n"
     ]
    }
   ],
   "source": [
    "df.drop('target', axis=1, inplace=True)\n",
    "df.info()"
   ]
  },
  {
   "cell_type": "code",
   "execution_count": 4,
   "id": "d8de9795",
   "metadata": {},
   "outputs": [
    {
     "data": {
      "text/html": [
       "<div>\n",
       "<style scoped>\n",
       "    .dataframe tbody tr th:only-of-type {\n",
       "        vertical-align: middle;\n",
       "    }\n",
       "\n",
       "    .dataframe tbody tr th {\n",
       "        vertical-align: top;\n",
       "    }\n",
       "\n",
       "    .dataframe thead th {\n",
       "        text-align: right;\n",
       "    }\n",
       "</style>\n",
       "<table border=\"1\" class=\"dataframe\">\n",
       "  <thead>\n",
       "    <tr style=\"text-align: right;\">\n",
       "      <th></th>\n",
       "      <th>alcohol</th>\n",
       "      <th>malic_acid</th>\n",
       "      <th>ash</th>\n",
       "      <th>alcalinity_of_ash</th>\n",
       "      <th>magnesium</th>\n",
       "      <th>total_phenols</th>\n",
       "      <th>flavanoids</th>\n",
       "      <th>nonflavanoid_phenols</th>\n",
       "      <th>proanthocyanins</th>\n",
       "      <th>color_intensity</th>\n",
       "      <th>hue</th>\n",
       "      <th>od280/od315_of_diluted_wines</th>\n",
       "      <th>proline</th>\n",
       "    </tr>\n",
       "  </thead>\n",
       "  <tbody>\n",
       "    <tr>\n",
       "      <th>0</th>\n",
       "      <td>1.518613</td>\n",
       "      <td>-0.562250</td>\n",
       "      <td>0.232053</td>\n",
       "      <td>-1.169593</td>\n",
       "      <td>1.913905</td>\n",
       "      <td>0.808997</td>\n",
       "      <td>1.034819</td>\n",
       "      <td>-0.659563</td>\n",
       "      <td>1.224884</td>\n",
       "      <td>0.251717</td>\n",
       "      <td>0.362177</td>\n",
       "      <td>1.847920</td>\n",
       "      <td>1.013009</td>\n",
       "    </tr>\n",
       "    <tr>\n",
       "      <th>1</th>\n",
       "      <td>0.246290</td>\n",
       "      <td>-0.499413</td>\n",
       "      <td>-0.827996</td>\n",
       "      <td>-2.490847</td>\n",
       "      <td>0.018145</td>\n",
       "      <td>0.568648</td>\n",
       "      <td>0.733629</td>\n",
       "      <td>-0.820719</td>\n",
       "      <td>-0.544721</td>\n",
       "      <td>-0.293321</td>\n",
       "      <td>0.406051</td>\n",
       "      <td>1.113449</td>\n",
       "      <td>0.965242</td>\n",
       "    </tr>\n",
       "    <tr>\n",
       "      <th>2</th>\n",
       "      <td>0.196879</td>\n",
       "      <td>0.021231</td>\n",
       "      <td>1.109334</td>\n",
       "      <td>-0.268738</td>\n",
       "      <td>0.088358</td>\n",
       "      <td>0.808997</td>\n",
       "      <td>1.215533</td>\n",
       "      <td>-0.498407</td>\n",
       "      <td>2.135968</td>\n",
       "      <td>0.269020</td>\n",
       "      <td>0.318304</td>\n",
       "      <td>0.788587</td>\n",
       "      <td>1.395148</td>\n",
       "    </tr>\n",
       "    <tr>\n",
       "      <th>3</th>\n",
       "      <td>1.691550</td>\n",
       "      <td>-0.346811</td>\n",
       "      <td>0.487926</td>\n",
       "      <td>-0.809251</td>\n",
       "      <td>0.930918</td>\n",
       "      <td>2.491446</td>\n",
       "      <td>1.466525</td>\n",
       "      <td>-0.981875</td>\n",
       "      <td>1.032155</td>\n",
       "      <td>1.186068</td>\n",
       "      <td>-0.427544</td>\n",
       "      <td>1.184071</td>\n",
       "      <td>2.334574</td>\n",
       "    </tr>\n",
       "    <tr>\n",
       "      <th>4</th>\n",
       "      <td>0.295700</td>\n",
       "      <td>0.227694</td>\n",
       "      <td>1.840403</td>\n",
       "      <td>0.451946</td>\n",
       "      <td>1.281985</td>\n",
       "      <td>0.808997</td>\n",
       "      <td>0.663351</td>\n",
       "      <td>0.226796</td>\n",
       "      <td>0.401404</td>\n",
       "      <td>-0.319276</td>\n",
       "      <td>0.362177</td>\n",
       "      <td>0.449601</td>\n",
       "      <td>-0.037874</td>\n",
       "    </tr>\n",
       "  </tbody>\n",
       "</table>\n",
       "</div>"
      ],
      "text/plain": [
       "    alcohol  malic_acid       ash  alcalinity_of_ash  magnesium  \\\n",
       "0  1.518613   -0.562250  0.232053          -1.169593   1.913905   \n",
       "1  0.246290   -0.499413 -0.827996          -2.490847   0.018145   \n",
       "2  0.196879    0.021231  1.109334          -0.268738   0.088358   \n",
       "3  1.691550   -0.346811  0.487926          -0.809251   0.930918   \n",
       "4  0.295700    0.227694  1.840403           0.451946   1.281985   \n",
       "\n",
       "   total_phenols  flavanoids  nonflavanoid_phenols  proanthocyanins  \\\n",
       "0       0.808997    1.034819             -0.659563         1.224884   \n",
       "1       0.568648    0.733629             -0.820719        -0.544721   \n",
       "2       0.808997    1.215533             -0.498407         2.135968   \n",
       "3       2.491446    1.466525             -0.981875         1.032155   \n",
       "4       0.808997    0.663351              0.226796         0.401404   \n",
       "\n",
       "   color_intensity       hue  od280/od315_of_diluted_wines   proline  \n",
       "0         0.251717  0.362177                      1.847920  1.013009  \n",
       "1        -0.293321  0.406051                      1.113449  0.965242  \n",
       "2         0.269020  0.318304                      0.788587  1.395148  \n",
       "3         1.186068 -0.427544                      1.184071  2.334574  \n",
       "4        -0.319276  0.362177                      0.449601 -0.037874  "
      ]
     },
     "execution_count": 4,
     "metadata": {},
     "output_type": "execute_result"
    }
   ],
   "source": [
    "scaler =StandardScaler()\n",
    "\n",
    "features =scaler.fit(df)\n",
    "features =features.transform(df)\n",
    "\n",
    "scaled_df =pd.DataFrame(features,columns=df.columns)\n",
    "\n",
    "scaled_df.head(5)"
   ]
  },
  {
   "cell_type": "code",
   "execution_count": 5,
   "id": "75729ffe",
   "metadata": {},
   "outputs": [],
   "source": [
    "data = scaled_df.values"
   ]
  },
  {
   "cell_type": "code",
   "execution_count": 6,
   "id": "b2ac5661",
   "metadata": {},
   "outputs": [
    {
     "name": "stderr",
     "output_type": "stream",
     "text": [
      "C:\\ProgramData\\anaconda3\\lib\\site-packages\\sklearn\\cluster\\_kmeans.py:870: FutureWarning: The default value of `n_init` will change from 10 to 'auto' in 1.4. Set the value of `n_init` explicitly to suppress the warning\n",
      "  warnings.warn(\n",
      "C:\\ProgramData\\anaconda3\\lib\\site-packages\\sklearn\\cluster\\_kmeans.py:1382: UserWarning: KMeans is known to have a memory leak on Windows with MKL, when there are less chunks than available threads. You can avoid it by setting the environment variable OMP_NUM_THREADS=1.\n",
      "  warnings.warn(\n",
      "C:\\ProgramData\\anaconda3\\lib\\site-packages\\sklearn\\cluster\\_kmeans.py:870: FutureWarning: The default value of `n_init` will change from 10 to 'auto' in 1.4. Set the value of `n_init` explicitly to suppress the warning\n",
      "  warnings.warn(\n",
      "C:\\ProgramData\\anaconda3\\lib\\site-packages\\sklearn\\cluster\\_kmeans.py:1382: UserWarning: KMeans is known to have a memory leak on Windows with MKL, when there are less chunks than available threads. You can avoid it by setting the environment variable OMP_NUM_THREADS=1.\n",
      "  warnings.warn(\n",
      "C:\\ProgramData\\anaconda3\\lib\\site-packages\\sklearn\\cluster\\_kmeans.py:870: FutureWarning: The default value of `n_init` will change from 10 to 'auto' in 1.4. Set the value of `n_init` explicitly to suppress the warning\n",
      "  warnings.warn(\n",
      "C:\\ProgramData\\anaconda3\\lib\\site-packages\\sklearn\\cluster\\_kmeans.py:1382: UserWarning: KMeans is known to have a memory leak on Windows with MKL, when there are less chunks than available threads. You can avoid it by setting the environment variable OMP_NUM_THREADS=1.\n",
      "  warnings.warn(\n",
      "C:\\ProgramData\\anaconda3\\lib\\site-packages\\sklearn\\cluster\\_kmeans.py:870: FutureWarning: The default value of `n_init` will change from 10 to 'auto' in 1.4. Set the value of `n_init` explicitly to suppress the warning\n",
      "  warnings.warn(\n",
      "C:\\ProgramData\\anaconda3\\lib\\site-packages\\sklearn\\cluster\\_kmeans.py:1382: UserWarning: KMeans is known to have a memory leak on Windows with MKL, when there are less chunks than available threads. You can avoid it by setting the environment variable OMP_NUM_THREADS=1.\n",
      "  warnings.warn(\n",
      "C:\\ProgramData\\anaconda3\\lib\\site-packages\\sklearn\\cluster\\_kmeans.py:870: FutureWarning: The default value of `n_init` will change from 10 to 'auto' in 1.4. Set the value of `n_init` explicitly to suppress the warning\n",
      "  warnings.warn(\n",
      "C:\\ProgramData\\anaconda3\\lib\\site-packages\\sklearn\\cluster\\_kmeans.py:1382: UserWarning: KMeans is known to have a memory leak on Windows with MKL, when there are less chunks than available threads. You can avoid it by setting the environment variable OMP_NUM_THREADS=1.\n",
      "  warnings.warn(\n",
      "C:\\ProgramData\\anaconda3\\lib\\site-packages\\sklearn\\cluster\\_kmeans.py:870: FutureWarning: The default value of `n_init` will change from 10 to 'auto' in 1.4. Set the value of `n_init` explicitly to suppress the warning\n",
      "  warnings.warn(\n",
      "C:\\ProgramData\\anaconda3\\lib\\site-packages\\sklearn\\cluster\\_kmeans.py:1382: UserWarning: KMeans is known to have a memory leak on Windows with MKL, when there are less chunks than available threads. You can avoid it by setting the environment variable OMP_NUM_THREADS=1.\n",
      "  warnings.warn(\n",
      "C:\\ProgramData\\anaconda3\\lib\\site-packages\\sklearn\\cluster\\_kmeans.py:870: FutureWarning: The default value of `n_init` will change from 10 to 'auto' in 1.4. Set the value of `n_init` explicitly to suppress the warning\n",
      "  warnings.warn(\n",
      "C:\\ProgramData\\anaconda3\\lib\\site-packages\\sklearn\\cluster\\_kmeans.py:1382: UserWarning: KMeans is known to have a memory leak on Windows with MKL, when there are less chunks than available threads. You can avoid it by setting the environment variable OMP_NUM_THREADS=1.\n",
      "  warnings.warn(\n",
      "C:\\ProgramData\\anaconda3\\lib\\site-packages\\sklearn\\cluster\\_kmeans.py:870: FutureWarning: The default value of `n_init` will change from 10 to 'auto' in 1.4. Set the value of `n_init` explicitly to suppress the warning\n",
      "  warnings.warn(\n",
      "C:\\ProgramData\\anaconda3\\lib\\site-packages\\sklearn\\cluster\\_kmeans.py:1382: UserWarning: KMeans is known to have a memory leak on Windows with MKL, when there are less chunks than available threads. You can avoid it by setting the environment variable OMP_NUM_THREADS=1.\n",
      "  warnings.warn(\n"
     ]
    }
   ],
   "source": [
    "models = []\n",
    "score1 = []\n",
    "score2 = []\n",
    "for i in range(2, 10):\n",
    "    model = KMeans(n_clusters=i, random_state=42, init='k-means++').fit(data)\n",
    "    models.append(model)\n",
    "    score1.append(model.inertia_)\n",
    "    score2.append(silhouette_score(data, model.labels_))"
   ]
  },
  {
   "cell_type": "code",
   "execution_count": 7,
   "id": "ded0727d",
   "metadata": {},
   "outputs": [
    {
     "data": {
      "image/png": "[encoded data removed]",
      "text/plain": [
       "<Figure size 640x480 with 1 Axes>"
      ]
     },
     "metadata": {},
     "output_type": "display_data"
    }
   ],
   "source": [
    "plt.grid()\n",
    "plt.plot(np.arange(2, 10), score1, marker='o')\n",
    "plt.show()"
   ]
  },
  {
   "cell_type": "code",
   "execution_count": 8,
   "id": "1139daaa",
   "metadata": {},
   "outputs": [
    {
     "data": {
      "image/png": "[encoded data removed]",
      "text/plain": [
       "<Figure size 640x480 with 1 Axes>"
      ]
     },
     "metadata": {},
     "output_type": "display_data"
    }
   ],
   "source": [
    "plt.grid()\n",
    "plt.plot(np.arange(2, 10), score2, marker='o')\n",
    "plt.show()"
   ]
  },
  {
   "cell_type": "code",
   "execution_count": 9,
   "id": "2c3fa483",
   "metadata": {},
   "outputs": [],
   "source": [
    "model1 = KMeans(n_clusters=3, random_state=42, init='k-means++')"
   ]
  },
  {
   "cell_type": "code",
   "execution_count": 10,
   "id": "61587282",
   "metadata": {},
   "outputs": [
    {
     "name": "stderr",
     "output_type": "stream",
     "text": [
      "C:\\ProgramData\\anaconda3\\lib\\site-packages\\sklearn\\cluster\\_kmeans.py:870: FutureWarning: The default value of `n_init` will change from 10 to 'auto' in 1.4. Set the value of `n_init` explicitly to suppress the warning\n",
      "  warnings.warn(\n",
      "C:\\ProgramData\\anaconda3\\lib\\site-packages\\sklearn\\cluster\\_kmeans.py:1382: UserWarning: KMeans is known to have a memory leak on Windows with MKL, when there are less chunks than available threads. You can avoid it by setting the environment variable OMP_NUM_THREADS=1.\n",
      "  warnings.warn(\n"
     ]
    },
    {
     "data": {
      "text/html": [
       "<style>#sk-container-id-1 {color: black;background-color: white;}#sk-container-id-1 pre{padding: 0;}#sk-container-id-1 div.sk-toggleable {background-color: white;}#sk-container-id-1 label.sk-toggleable__label {cursor: pointer;display: block;width: 100%;margin-bottom: 0;padding: 0.3em;box-sizing: border-box;text-align: center;}#sk-container-id-1 label.sk-toggleable__label-arrow:before {content: \"▸\";float: left;margin-right: 0.25em;color: #696969;}#sk-container-id-1 label.sk-toggleable__label-arrow:hover:before {color: black;}#sk-container-id-1 div.sk-estimator:hover label.sk-toggleable__label-arrow:before {color: black;}#sk-container-id-1 div.sk-toggleable__content {max-height: 0;max-width: 0;overflow: hidden;text-align: left;background-color: #f0f8ff;}#sk-container-id-1 div.sk-toggleable__content pre {margin: 0.2em;color: black;border-radius: 0.25em;background-color: #f0f8ff;}#sk-container-id-1 input.sk-toggleable__control:checked~div.sk-toggleable__content {max-height: 200px;max-width: 100%;overflow: auto;}#sk-container-id-1 input.sk-toggleable__control:checked~label.sk-toggleable__label-arrow:before {content: \"▾\";}#sk-container-id-1 div.sk-estimator input.sk-toggleable__control:checked~label.sk-toggleable__label {background-color: #d4ebff;}#sk-container-id-1 div.sk-label input.sk-toggleable__control:checked~label.sk-toggleable__label {background-color: #d4ebff;}#sk-container-id-1 input.sk-hidden--visually {border: 0;clip: rect(1px 1px 1px 1px);clip: rect(1px, 1px, 1px, 1px);height: 1px;margin: -1px;overflow: hidden;padding: 0;position: absolute;width: 1px;}#sk-container-id-1 div.sk-estimator {font-family: monospace;background-color: #f0f8ff;border: 1px dotted black;border-radius: 0.25em;box-sizing: border-box;margin-bottom: 0.5em;}#sk-container-id-1 div.sk-estimator:hover {background-color: #d4ebff;}#sk-container-id-1 div.sk-parallel-item::after {content: \"\";width: 100%;border-bottom: 1px solid gray;flex-grow: 1;}#sk-container-id-1 div.sk-label:hover label.sk-toggleable__label {background-color: #d4ebff;}#sk-container-id-1 div.sk-serial::before {content: \"\";position: absolute;border-left: 1px solid gray;box-sizing: border-box;top: 0;bottom: 0;left: 50%;z-index: 0;}#sk-container-id-1 div.sk-serial {display: flex;flex-direction: column;align-items: center;background-color: white;padding-right: 0.2em;padding-left: 0.2em;position: relative;}#sk-container-id-1 div.sk-item {position: relative;z-index: 1;}#sk-container-id-1 div.sk-parallel {display: flex;align-items: stretch;justify-content: center;background-color: white;position: relative;}#sk-container-id-1 div.sk-item::before, #sk-container-id-1 div.sk-parallel-item::before {content: \"\";position: absolute;border-left: 1px solid gray;box-sizing: border-box;top: 0;bottom: 0;left: 50%;z-index: -1;}#sk-container-id-1 div.sk-parallel-item {display: flex;flex-direction: column;z-index: 1;position: relative;background-color: white;}#sk-container-id-1 div.sk-parallel-item:first-child::after {align-self: flex-end;width: 50%;}#sk-container-id-1 div.sk-parallel-item:last-child::after {align-self: flex-start;width: 50%;}#sk-container-id-1 div.sk-parallel-item:only-child::after {width: 0;}#sk-container-id-1 div.sk-dashed-wrapped {border: 1px dashed gray;margin: 0 0.4em 0.5em 0.4em;box-sizing: border-box;padding-bottom: 0.4em;background-color: white;}#sk-container-id-1 div.sk-label label {font-family: monospace;font-weight: bold;display: inline-block;line-height: 1.2em;}#sk-container-id-1 div.sk-label-container {text-align: center;}#sk-container-id-1 div.sk-container {/* jupyter's `normalize.less` sets `[hidden] { display: none; }` but bootstrap.min.css set `[hidden] { display: none !important; }` so we also need the `!important` here to be able to override the default hidden behavior on the sphinx rendered scikit-learn.org. See: https://github.com/scikit-learn/scikit-learn/issues/21755 */display: inline-block !important;position: relative;}#sk-container-id-1 div.sk-text-repr-fallback {display: none;}</style><div id=\"sk-container-id-1\" class=\"sk-top-container\"><div class=\"sk-text-repr-fallback\"><pre>KMeans(n_clusters=3, random_state=42)</pre><b>In a Jupyter environment, please rerun this cell to show the HTML representation or trust the notebook. <br />On GitHub, the HTML representation is unable to render, please try loading this page with nbviewer.org.</b></div><div class=\"sk-container\" hidden><div class=\"sk-item\"><div class=\"sk-estimator sk-toggleable\"><input class=\"sk-toggleable__control sk-hidden--visually\" id=\"sk-estimator-id-1\" type=\"checkbox\" checked><label for=\"sk-estimator-id-1\" class=\"sk-toggleable__label sk-toggleable__label-arrow\">KMeans</label><div class=\"sk-toggleable__content\"><pre>KMeans(n_clusters=3, random_state=42)</pre></div></div></div></div></div>"
      ],
      "text/plain": [
       "KMeans(n_clusters=3, random_state=42)"
      ]
     },
     "execution_count": 10,
     "metadata": {},
     "output_type": "execute_result"
    }
   ],
   "source": [
    "model1.fit(data)"
   ]
  },
  {
   "cell_type": "code",
   "execution_count": 11,
   "id": "a72a27b8",
   "metadata": {},
   "outputs": [
    {
     "data": {
      "text/plain": [
       "array([[ 0.16490746,  0.87154706,  0.18689833,  0.52436746, -0.07547277,\n",
       "        -0.97933029, -1.21524764,  0.72606354, -0.77970639,  0.94153874,\n",
       "        -1.16478865, -1.29241163, -0.40708796],\n",
       "       [ 0.83523208, -0.30380968,  0.36470604, -0.61019129,  0.5775868 ,\n",
       "         0.88523736,  0.97781956, -0.56208965,  0.58028658,  0.17106348,\n",
       "         0.47398365,  0.77924711,  1.12518529],\n",
       "       [-0.92607185, -0.39404154, -0.49451676,  0.17060184, -0.49171185,\n",
       "        -0.07598265,  0.02081257, -0.03353357,  0.0582655 , -0.90191402,\n",
       "         0.46180361,  0.27076419, -0.75384618]])"
      ]
     },
     "execution_count": 11,
     "metadata": {},
     "output_type": "execute_result"
    }
   ],
   "source": [
    "model1.cluster_centers_"
   ]
  },
  {
   "cell_type": "code",
   "execution_count": 12,
   "id": "da6d497b",
   "metadata": {},
   "outputs": [
    {
     "data": {
      "text/plain": [
       "array([1, 1, 1, 1, 1, 1, 1, 1, 1, 1, 1, 1, 1, 1, 1, 1, 1, 1, 1, 1, 1, 1,\n",
       "       1, 1, 1, 1, 1, 1, 1, 1, 1, 1, 1, 1, 1, 1, 1, 1, 1, 1, 1, 1, 1, 1,\n",
       "       1, 1, 1, 1, 1, 1, 1, 1, 1, 1, 1, 1, 1, 1, 1, 2, 2, 0, 2, 2, 2, 2,\n",
       "       2, 2, 2, 2, 2, 2, 2, 1, 2, 2, 2, 2, 2, 2, 2, 2, 2, 0, 2, 2, 2, 2,\n",
       "       2, 2, 2, 2, 2, 2, 2, 1, 2, 2, 2, 2, 2, 2, 2, 2, 2, 2, 2, 2, 2, 2,\n",
       "       2, 2, 2, 2, 2, 2, 2, 2, 0, 2, 2, 1, 2, 2, 2, 2, 2, 2, 2, 2, 0, 0,\n",
       "       0, 0, 0, 0, 0, 0, 0, 0, 0, 0, 0, 0, 0, 0, 0, 0, 0, 0, 0, 0, 0, 0,\n",
       "       0, 0, 0, 0, 0, 0, 0, 0, 0, 0, 0, 0, 0, 0, 0, 0, 0, 0, 0, 0, 0, 0,\n",
       "       0, 0])"
      ]
     },
     "execution_count": 12,
     "metadata": {},
     "output_type": "execute_result"
    }
   ],
   "source": [
    "model1.labels_"
   ]
  },
  {
   "cell_type": "code",
   "execution_count": 25,
   "id": "82f33664",
   "metadata": {},
   "outputs": [],
   "source": [
    "tsne3D = TSNE(n_components=3)\n",
    "tsne_data3D = tsne2D.fit_transform(data)\n",
    "tsne3D_df = pd.DataFrame(data = tsne_data2D, columns = ['x', 'y', 'z'])\n",
    "\n",
    "tsne3D_df['cluster'] = model1.labels_"
   ]
  },
  {
   "cell_type": "code",
   "execution_count": 27,
   "id": "6e72c8f1",
   "metadata": {},
   "outputs": [
    {
     "data": {
      "application/vnd.plotly.v1+json": {
       "config": {
        "plotlyServerURL": "https://plot.ly"
       },
       "data": [
        {
         "marker": {
          "color": [
           1,
           1,
           1,
           1,
           1,
           1,
           1,
           1,
           1,
           1,
           1,
           1,
           1,
           1,
           1,
           1,
           1,
           1,
           1,
           1,
           1,
           1,
           1,
           1,
           1,
           1,
           1,
           1,
           1,
           1,
           1,
           1,
           1,
           1,
           1,
           1,
           1,
           1,
           1,
           1,
           1,
           1,
           1,
           1,
           1,
           1,
           1,
           1,
           1,
           1,
           1,
           1,
           1,
           1,
           1,
           1,
           1,
           1,
           1,
           2,
           2,
           0,
           2,
           2,
           2,
           2,
           2,
           2,
           2,
           2,
           2,
           2,
           2,
           1,
           2,
           2,
           2,
           2,
           2,
           2,
           2,
           2,
           2,
           0,
           2,
           2,
           2,
           2,
           2,
           2,
           2,
           2,
           2,
           2,
           2,
           1,
           2,
           2,
           2,
           2,
           2,
           2,
           2,
           2,
           2,
           2,
           2,
           2,
           2,
           2,
           2,
           2,
           2,
           2,
           2,
           2,
           2,
           2,
           0,
           2,
           2,
           1,
           2,
           2,
           2,
           2,
           2,
           2,
           2,
           2,
           0,
           0,
           0,
           0,
           0,
           0,
           0,
           0,
           0,
           0,
           0,
           0,
           0,
           0,
           0,
           0,
           0,
           0,
           0,
           0,
           0,
           0,
           0,
           0,
           0,
           0,
           0,
           0,
           0,
           0,
           0,
           0,
           0,
           0,
           0,
           0,
           0,
           0,
           0,
           0,
           0,
           0,
           0,
           0,
           0,
           0,
           0,
           0
          ],
          "size": 4
         },
         "mode": "markers",
         "type": "scatter3d",
         "x": [
          36.860084533691406,
          9.101459503173828,
          36.4383544921875,
          46.461517333984375,
          31.420299530029297,
          45.72907638549805,
          24.777381896972656,
          35.387481689453125,
          19.342449188232422,
          28.039691925048828,
          37.444725036621094,
          18.32956314086914,
          24.904136657714844,
          28.082735061645508,
          36.273014068603516,
          36.197059631347656,
          45.614540100097656,
          38.900123596191406,
          46.43353271484375,
          27.589759826660156,
          29.278928756713867,
          21.0318546295166,
          16.36202621459961,
          14.401638984680176,
          19.142654418945312,
          38.188262939453125,
          25.310789108276367,
          14.003009796142578,
          29.758102416992188,
          19.071441650390625,
          40.209041595458984,
          37.66572952270508,
          23.35202407836914,
          44.89194869995117,
          25.89418601989746,
          20.1948184967041,
          27.059030532836914,
          19.259031295776367,
          7.476024150848389,
          31.042753219604492,
          24.636077880859375,
          11.76223087310791,
          31.871204376220703,
          15.245133399963379,
          16.864307403564453,
          21.164846420288086,
          18.41997528076172,
          23.993268966674805,
          33.68164825439453,
          36.72365951538086,
          28.750228881835938,
          29.02080535888672,
          42.20505905151367,
          42.51741027832031,
          24.394821166992188,
          43.25320053100586,
          31.528406143188477,
          33.43989181518555,
          38.09937286376953,
          -12.758103370666504,
          2.1052751541137695,
          -6.243051052093506,
          0.2351241558790207,
          -7.545162200927734,
          10.017468452453613,
          14.505743026733398,
          -6.483982086181641,
          -2.2879183292388916,
          0.9351162910461426,
          12.590204238891602,
          -19.47025489807129,
          19.33095359802246,
          -20.426795959472656,
          40.56985855102539,
          -0.6417043805122375,
          -10.041301727294922,
          -6.564820289611816,
          -9.953737258911133,
          14.211633682250977,
          10.000849723815918,
          -1.666770100593567,
          2.2964437007904053,
          6.92576265335083,
          -18.46584701538086,
          6.213172435760498,
          3.717177152633667,
          8.389005661010742,
          8.609161376953125,
          -1.2309236526489258,
          -1.7836973667144775,
          -1.5835003852844238,
          0.020856134593486786,
          -5.846227645874023,
          -4.979858875274658,
          -8.826009750366211,
          20.311559677124023,
          -19.72202491760254,
          -7.168864727020264,
          -1.7447937726974487,
          17.029211044311523,
          -12.651820182800293,
          -12.158507347106934,
          0.3935852348804474,
          -18.558860778808594,
          -6.296140670776367,
          -7.287503242492676,
          -6.751175880432129,
          -8.77656364440918,
          -15.548783302307129,
          3.3670573234558105,
          -6.169232368469238,
          -12.485515594482422,
          11.054327011108398,
          7.665274620056152,
          1.180891990661621,
          17.806350708007812,
          -10.642609596252441,
          0.5861695408821106,
          -16.610029220581055,
          -15.609199523925781,
          -2.8923041820526123,
          34.01142120361328,
          4.657268524169922,
          8.951543807983398,
          -0.24972720444202423,
          -6.470875263214111,
          -8.830140113830566,
          4.726068496704102,
          -7.747524261474609,
          -16.324676513671875,
          -26.387451171875,
          -28.499162673950195,
          -35.45389938354492,
          -33.45055389404297,
          -8.234660148620605,
          -16.424415588378906,
          -31.042537689208984,
          -39.75971603393555,
          -20.829425811767578,
          -41.69371795654297,
          -32.5335693359375,
          -27.379243850708008,
          -39.56476593017578,
          -25.645414352416992,
          -27.74694061279297,
          -27.940366744995117,
          -27.01114845275879,
          -29.235794067382812,
          -30.811513900756836,
          -37.595523834228516,
          -44.803714752197266,
          -43.13353729248047,
          -47.44697189331055,
          -31.544729232788086,
          -14.793651580810547,
          -38.751522064208984,
          -36.42783737182617,
          -46.8271369934082,
          -50.66944885253906,
          -44.46805191040039,
          -23.182575225830078,
          -37.277366638183594,
          -36.5183219909668,
          -29.385009765625,
          -34.2999153137207,
          -27.82034683227539,
          -44.85395431518555,
          -26.199716567993164,
          -44.744789123535156,
          -51.93008041381836,
          -21.253236770629883,
          -21.316055297851562,
          -38.358436584472656,
          -36.687679290771484,
          -37.83369064331055,
          -35.524696350097656,
          -32.71494674682617,
          -45.64640426635742
         ],
         "y": [
          36.459205627441406,
          16.92945671081543,
          -4.107269763946533,
          26.484642028808594,
          1.4808225631713867,
          17.239788055419922,
          13.105106353759766,
          21.128150939941406,
          18.50507926940918,
          21.779722213745117,
          8.537531852722168,
          5.755316257476807,
          8.701956748962402,
          13.717777252197266,
          16.906938552856445,
          12.207931518554688,
          6.182051658630371,
          3.8209474086761475,
          16.171218872070312,
          31.465848922729492,
          39.40354537963867,
          25.8336238861084,
          20.827136993408203,
          14.443939208984375,
          15.941367149353027,
          0.17548826336860657,
          14.784714698791504,
          8.804484367370605,
          10.230424880981445,
          18.453134536743164,
          -3.7409257888793945,
          11.512121200561523,
          -0.6292566657066345,
          9.001896858215332,
          9.293806076049805,
          21.77561378479004,
          0.8705606460571289,
          6.075868129730225,
          8.170578956604004,
          39.101680755615234,
          36.70973205566406,
          33.87355041503906,
          24.323566436767578,
          32.51790237426758,
          30.39371681213379,
          37.39080810546875,
          38.12116241455078,
          26.976043701171875,
          2.890946388244629,
          18.82769012451172,
          26.455228805541992,
          3.594547748565674,
          27.546466827392578,
          14.588388442993164,
          29.523990631103516,
          2.974377393722534,
          31.332242965698242,
          12.18567943572998,
          21.923385620117188,
          -3.225287437438965,
          -23.031869888305664,
          -25.502979278564453,
          -2.313547134399414,
          23.490734100341797,
          -13.958580017089844,
          0.5762365460395813,
          16.978872299194336,
          -2.7823657989501953,
          -26.531503677368164,
          -14.414752006530762,
          -12.881086349487305,
          13.0328369140625,
          10.64031982421875,
          -6.520359992980957,
          27.83174705505371,
          -6.551673412322998,
          4.255501747131348,
          -15.509763717651367,
          -14.482462882995605,
          13.994782447814941,
          5.982668876647949,
          13.20203685760498,
          -4.926675796508789,
          -15.831722259521484,
          17.084199905395508,
          4.625833034515381,
          -10.719993591308594,
          -10.970553398132324,
          -4.9710774421691895,
          -3.5300800800323486,
          -12.937249183654785,
          -13.224695205688477,
          -18.905757904052734,
          14.836861610412598,
          23.013280868530273,
          -15.799934387207031,
          -20.693931579589844,
          12.523324012756348,
          25.31756019592285,
          6.706233024597168,
          4.253476142883301,
          -3.304809093475342,
          13.509167671203613,
          3.4569714069366455,
          4.517164707183838,
          -14.68169116973877,
          -3.2175850868225098,
          -11.349082946777344,
          11.595049858093262,
          23.837610244750977,
          33.32765579223633,
          14.196173667907715,
          -21.678091049194336,
          -1.4971565008163452,
          4.328005790710449,
          -6.050197601318359,
          4.7049455642700195,
          5.4346699714660645,
          -15.712011337280273,
          -0.5994757413864136,
          20.614370346069336,
          -0.328047513961792,
          10.982643127441406,
          29.480106353759766,
          29.32076644897461,
          9.519792556762695,
          14.616645812988281,
          0.10185407102108002,
          5.206422805786133,
          -3.5179262161254883,
          -16.00248908996582,
          -20.96282196044922,
          -16.334850311279297,
          -23.153234481811523,
          -29.480501174926758,
          -28.7406063079834,
          -10.1299467086792,
          -13.373287200927734,
          -21.499481201171875,
          -6.209163188934326,
          -6.576850414276123,
          -12.610307693481445,
          -6.326925277709961,
          -12.747856140136719,
          -31.859987258911133,
          -20.949247360229492,
          -20.94734001159668,
          -29.477251052856445,
          -31.042951583862305,
          -29.933874130249023,
          -24.89310073852539,
          -33.5108757019043,
          -18.300352096557617,
          -43.09077072143555,
          -34.69937515258789,
          -28.82604217529297,
          -35.0263786315918,
          -16.150775909423828,
          -41.512481689453125,
          -44.80218505859375,
          -32.95919418334961,
          -15.10519027709961,
          -12.477286338806152,
          -21.980422973632812,
          -31.53786849975586,
          -20.827003479003906,
          -33.8815803527832,
          -33.93966293334961,
          -25.17378807067871,
          -28.23008155822754,
          -21.95578956604004,
          -38.79261779785156,
          -36.61306381225586,
          -23.32190704345703,
          -24.823348999023438,
          -39.16481399536133,
          -43.86781692504883,
          -29.343585968017578
         ],
         "z": [
          12.299501419067383,
          21.52986717224121,
          20.160749435424805,
          12.654191017150879,
          -8.804105758666992,
          16.506776809692383,
          24.562822341918945,
          -2.6752405166625977,
          29.90074348449707,
          18.779613494873047,
          26.586084365844727,
          21.391332626342773,
          16.838863372802734,
          36.828582763671875,
          35.00539016723633,
          0.5343636274337769,
          7.5474467277526855,
          2.9233016967773438,
          25.57645034790039,
          1.806733250617981,
          14.129373550415039,
          -8.030406951904297,
          11.533679962158203,
          4.387208938598633,
          -2.8405814170837402,
          -12.798788070678711,
          9.453014373779297,
          14.051274299621582,
          -7.372771263122559,
          19.563663482666016,
          10.173327445983887,
          18.451181411743164,
          11.400666236877441,
          -4.141026020050049,
          1.4343206882476807,
          2.957278251647949,
          0.23275788128376007,
          5.683084964752197,
          18.522905349731445,
          2.4854204654693604,
          21.355819702148438,
          -2.8444621562957764,
          8.642546653747559,
          -9.517369270324707,
          19.104135513305664,
          -3.5961358547210693,
          7.822927474975586,
          23.821332931518555,
          14.46007251739502,
          24.05316734313965,
          33.14073944091797,
          23.897493362426758,
          21.157297134399414,
          5.172101020812988,
          12.575267791748047,
          17.738000869750977,
          18.146120071411133,
          8.881697654724121,
          14.240816116333008,
          23.285717010498047,
          0.8312191367149353,
          1.7143325805664062,
          18.19761085510254,
          10.416231155395508,
          -5.256850719451904,
          -1.3419116735458374,
          19.316675186157227,
          5.961362838745117,
          7.421614646911621,
          24.115074157714844,
          9.644641876220703,
          -11.86574935913086,
          -14.478935241699219,
          -5.257556915283203,
          3.4934418201446533,
          13.350360870361328,
          19.21596336364746,
          8.196645736694336,
          17.21893310546875,
          -23.906686782836914,
          10.271234512329102,
          4.591580390930176,
          -20.317380905151367,
          -20.928573608398438,
          -7.1920390129089355,
          2.570770263671875,
          -13.714423179626465,
          -25.246797561645508,
          -13.926039695739746,
          -23.05914306640625,
          -8.132040977478027,
          -17.05607032775879,
          -13.035158157348633,
          -1.563817024230957,
          0.8357923626899719,
          21.519821166992188,
          21.5308837890625,
          9.639047622680664,
          14.143412590026855,
          -23.205354690551758,
          11.725723266601562,
          4.412404537200928,
          -16.438817977905273,
          -0.3235169053077698,
          1.8659934997558594,
          -24.19834327697754,
          -3.8082756996154785,
          -14.689318656921387,
          0.5884121656417847,
          -7.178775310516357,
          -13.841805458068848,
          -9.530844688415527,
          -11.0274658203125,
          -11.044475555419922,
          -17.336997985839844,
          -18.186582565307617,
          -4.8188862800598145,
          -6.357632637023926,
          -4.493935585021973,
          -10.154435157775879,
          -12.351667404174805,
          -20.559799194335938,
          -29.402708053588867,
          -19.437084197998047,
          -18.445589065551758,
          -12.6572265625,
          -20.18405532836914,
          -31.684640884399414,
          -21.000850677490234,
          -19.88470458984375,
          17.520238876342773,
          10.26148509979248,
          9.393994331359863,
          15.819672584533691,
          -6.708090305328369,
          -7.55276346206665,
          -23.638004302978516,
          -23.922298431396484,
          -13.000930786132812,
          -12.361734390258789,
          -8.218417167663574,
          -0.00618774676695466,
          -3.8518970012664795,
          -14.441596984863281,
          7.812362194061279,
          -6.488003730773926,
          -28.621414184570312,
          -22.078229904174805,
          -11.927984237670898,
          5.613805770874023,
          9.866312026977539,
          11.561016082763672,
          4.966946125030518,
          -13.277915954589844,
          -0.8698128461837769,
          -26.090810775756836,
          -17.924509048461914,
          -14.324511528015137,
          -12.197793960571289,
          -13.597891807556152,
          -17.272249221801758,
          -4.847059726715088,
          -13.088592529296875,
          1.2523716688156128,
          -3.8108327388763428,
          -18.332130432128906,
          -1.6630995273590088,
          -3.395397424697876,
          -3.3982994556427,
          3.160308837890625,
          2.064781904220581,
          -8.558614730834961,
          -8.960681915283203,
          -19.96405601501465,
          -9.786012649536133,
          4.639728546142578,
          -2.502272129058838,
          -14.609158515930176
         ]
        }
       ],
       "layout": {
        "template": {
         "data": {
          "bar": [
           {
            "error_x": {
             "color": "#2a3f5f"
            },
            "error_y": {
             "color": "#2a3f5f"
            },
            "marker": {
             "line": {
              "color": "#E5ECF6",
              "width": 0.5
             },
             "pattern": {
              "fillmode": "overlay",
              "size": 10,
              "solidity": 0.2
             }
            },
            "type": "bar"
           }
          ],
          "barpolar": [
           {
            "marker": {
             "line": {
              "color": "#E5ECF6",
              "width": 0.5
             },
             "pattern": {
              "fillmode": "overlay",
              "size": 10,
              "solidity": 0.2
             }
            },
            "type": "barpolar"
           }
          ],
          "carpet": [
           {
            "aaxis": {
             "endlinecolor": "#2a3f5f",
             "gridcolor": "white",
             "linecolor": "white",
             "minorgridcolor": "white",
             "startlinecolor": "#2a3f5f"
            },
            "baxis": {
             "endlinecolor": "#2a3f5f",
             "gridcolor": "white",
             "linecolor": "white",
             "minorgridcolor": "white",
             "startlinecolor": "#2a3f5f"
            },
            "type": "carpet"
           }
          ],
          "choropleth": [
           {
            "colorbar": {
             "outlinewidth": 0,
             "ticks": ""
            },
            "type": "choropleth"
           }
          ],
          "contour": [
           {
            "colorbar": {
             "outlinewidth": 0,
             "ticks": ""
            },
            "colorscale": [
             [
              0,
              "#0d0887"
             ],
             [
              0.1111111111111111,
              "#46039f"
             ],
             [
              0.2222222222222222,
              "#7201a8"
             ],
             [
              0.3333333333333333,
              "#9c179e"
             ],
             [
              0.4444444444444444,
              "#bd3786"
             ],
             [
              0.5555555555555556,
              "#d8576b"
             ],
             [
              0.6666666666666666,
              "#ed7953"
             ],
             [
              0.7777777777777778,
              "#fb9f3a"
             ],
             [
              0.8888888888888888,
              "#fdca26"
             ],
             [
              1,
              "#f0f921"
             ]
            ],
            "type": "contour"
           }
          ],
          "contourcarpet": [
           {
            "colorbar": {
             "outlinewidth": 0,
             "ticks": ""
            },
            "type": "contourcarpet"
           }
          ],
          "heatmap": [
           {
            "colorbar": {
             "outlinewidth": 0,
             "ticks": ""
            },
            "colorscale": [
             [
              0,
              "#0d0887"
             ],
             [
              0.1111111111111111,
              "#46039f"
             ],
             [
              0.2222222222222222,
              "#7201a8"
             ],
             [
              0.3333333333333333,
              "#9c179e"
             ],
             [
              0.4444444444444444,
              "#bd3786"
             ],
             [
              0.5555555555555556,
              "#d8576b"
             ],
             [
              0.6666666666666666,
              "#ed7953"
             ],
             [
              0.7777777777777778,
              "#fb9f3a"
             ],
             [
              0.8888888888888888,
              "#fdca26"
             ],
             [
              1,
              "#f0f921"
             ]
            ],
            "type": "heatmap"
           }
          ],
          "heatmapgl": [
           {
            "colorbar": {
             "outlinewidth": 0,
             "ticks": ""
            },
            "colorscale": [
             [
              0,
              "#0d0887"
             ],
             [
              0.1111111111111111,
              "#46039f"
             ],
             [
              0.2222222222222222,
              "#7201a8"
             ],
             [
              0.3333333333333333,
              "#9c179e"
             ],
             [
              0.4444444444444444,
              "#bd3786"
             ],
             [
              0.5555555555555556,
              "#d8576b"
             ],
             [
              0.6666666666666666,
              "#ed7953"
             ],
             [
              0.7777777777777778,
              "#fb9f3a"
             ],
             [
              0.8888888888888888,
              "#fdca26"
             ],
             [
              1,
              "#f0f921"
             ]
            ],
            "type": "heatmapgl"
           }
          ],
          "histogram": [
           {
            "marker": {
             "pattern": {
              "fillmode": "overlay",
              "size": 10,
              "solidity": 0.2
             }
            },
            "type": "histogram"
           }
          ],
          "histogram2d": [
           {
            "colorbar": {
             "outlinewidth": 0,
             "ticks": ""
            },
            "colorscale": [
             [
              0,
              "#0d0887"
             ],
             [
              0.1111111111111111,
              "#46039f"
             ],
             [
              0.2222222222222222,
              "#7201a8"
             ],
             [
              0.3333333333333333,
              "#9c179e"
             ],
             [
              0.4444444444444444,
              "#bd3786"
             ],
             [
              0.5555555555555556,
              "#d8576b"
             ],
             [
              0.6666666666666666,
              "#ed7953"
             ],
             [
              0.7777777777777778,
              "#fb9f3a"
             ],
             [
              0.8888888888888888,
              "#fdca26"
             ],
             [
              1,
              "#f0f921"
             ]
            ],
            "type": "histogram2d"
           }
          ],
          "histogram2dcontour": [
           {
            "colorbar": {
             "outlinewidth": 0,
             "ticks": ""
            },
            "colorscale": [
             [
              0,
              "#0d0887"
             ],
             [
              0.1111111111111111,
              "#46039f"
             ],
             [
              0.2222222222222222,
              "#7201a8"
             ],
             [
              0.3333333333333333,
              "#9c179e"
             ],
             [
              0.4444444444444444,
              "#bd3786"
             ],
             [
              0.5555555555555556,
              "#d8576b"
             ],
             [
              0.6666666666666666,
              "#ed7953"
             ],
             [
              0.7777777777777778,
              "#fb9f3a"
             ],
             [
              0.8888888888888888,
              "#fdca26"
             ],
             [
              1,
              "#f0f921"
             ]
            ],
            "type": "histogram2dcontour"
           }
          ],
          "mesh3d": [
           {
            "colorbar": {
             "outlinewidth": 0,
             "ticks": ""
            },
            "type": "mesh3d"
           }
          ],
          "parcoords": [
           {
            "line": {
             "colorbar": {
              "outlinewidth": 0,
              "ticks": ""
             }
            },
            "type": "parcoords"
           }
          ],
          "pie": [
           {
            "automargin": true,
            "type": "pie"
           }
          ],
          "scatter": [
           {
            "fillpattern": {
             "fillmode": "overlay",
             "size": 10,
             "solidity": 0.2
            },
            "type": "scatter"
           }
          ],
          "scatter3d": [
           {
            "line": {
             "colorbar": {
              "outlinewidth": 0,
              "ticks": ""
             }
            },
            "marker": {
             "colorbar": {
              "outlinewidth": 0,
              "ticks": ""
             }
            },
            "type": "scatter3d"
           }
          ],
          "scattercarpet": [
           {
            "marker": {
             "colorbar": {
              "outlinewidth": 0,
              "ticks": ""
             }
            },
            "type": "scattercarpet"
           }
          ],
          "scattergeo": [
           {
            "marker": {
             "colorbar": {
              "outlinewidth": 0,
              "ticks": ""
             }
            },
            "type": "scattergeo"
           }
          ],
          "scattergl": [
           {
            "marker": {
             "colorbar": {
              "outlinewidth": 0,
              "ticks": ""
             }
            },
            "type": "scattergl"
           }
          ],
          "scattermapbox": [
           {
            "marker": {
             "colorbar": {
              "outlinewidth": 0,
              "ticks": ""
             }
            },
            "type": "scattermapbox"
           }
          ],
          "scatterpolar": [
           {
            "marker": {
             "colorbar": {
              "outlinewidth": 0,
              "ticks": ""
             }
            },
            "type": "scatterpolar"
           }
          ],
          "scatterpolargl": [
           {
            "marker": {
             "colorbar": {
              "outlinewidth": 0,
              "ticks": ""
             }
            },
            "type": "scatterpolargl"
           }
          ],
          "scatterternary": [
           {
            "marker": {
             "colorbar": {
              "outlinewidth": 0,
              "ticks": ""
             }
            },
            "type": "scatterternary"
           }
          ],
          "surface": [
           {
            "colorbar": {
             "outlinewidth": 0,
             "ticks": ""
            },
            "colorscale": [
             [
              0,
              "#0d0887"
             ],
             [
              0.1111111111111111,
              "#46039f"
             ],
             [
              0.2222222222222222,
              "#7201a8"
             ],
             [
              0.3333333333333333,
              "#9c179e"
             ],
             [
              0.4444444444444444,
              "#bd3786"
             ],
             [
              0.5555555555555556,
              "#d8576b"
             ],
             [
              0.6666666666666666,
              "#ed7953"
             ],
             [
              0.7777777777777778,
              "#fb9f3a"
             ],
             [
              0.8888888888888888,
              "#fdca26"
             ],
             [
              1,
              "#f0f921"
             ]
            ],
            "type": "surface"
           }
          ],
          "table": [
           {
            "cells": {
             "fill": {
              "color": "#EBF0F8"
             },
             "line": {
              "color": "white"
             }
            },
            "header": {
             "fill": {
              "color": "#C8D4E3"
             },
             "line": {
              "color": "white"
             }
            },
            "type": "table"
           }
          ]
         },
         "layout": {
          "annotationdefaults": {
           "arrowcolor": "#2a3f5f",
           "arrowhead": 0,
           "arrowwidth": 1
          },
          "autotypenumbers": "strict",
          "coloraxis": {
           "colorbar": {
            "outlinewidth": 0,
            "ticks": ""
           }
          },
          "colorscale": {
           "diverging": [
            [
             0,
             "#8e0152"
            ],
            [
             0.1,
             "#c51b7d"
            ],
            [
             0.2,
             "#de77ae"
            ],
            [
             0.3,
             "#f1b6da"
            ],
            [
             0.4,
             "#fde0ef"
            ],
            [
             0.5,
             "#f7f7f7"
            ],
            [
             0.6,
             "#e6f5d0"
            ],
            [
             0.7,
             "#b8e186"
            ],
            [
             0.8,
             "#7fbc41"
            ],
            [
             0.9,
             "#4d9221"
            ],
            [
             1,
             "#276419"
            ]
           ],
           "sequential": [
            [
             0,
             "#0d0887"
            ],
            [
             0.1111111111111111,
             "#46039f"
            ],
            [
             0.2222222222222222,
             "#7201a8"
            ],
            [
             0.3333333333333333,
             "#9c179e"
            ],
            [
             0.4444444444444444,
             "#bd3786"
            ],
            [
             0.5555555555555556,
             "#d8576b"
            ],
            [
             0.6666666666666666,
             "#ed7953"
            ],
            [
             0.7777777777777778,
             "#fb9f3a"
            ],
            [
             0.8888888888888888,
             "#fdca26"
            ],
            [
             1,
             "#f0f921"
            ]
           ],
           "sequentialminus": [
            [
             0,
             "#0d0887"
            ],
            [
             0.1111111111111111,
             "#46039f"
            ],
            [
             0.2222222222222222,
             "#7201a8"
            ],
            [
             0.3333333333333333,
             "#9c179e"
            ],
            [
             0.4444444444444444,
             "#bd3786"
            ],
            [
             0.5555555555555556,
             "#d8576b"
            ],
            [
             0.6666666666666666,
             "#ed7953"
            ],
            [
             0.7777777777777778,
             "#fb9f3a"
            ],
            [
             0.8888888888888888,
             "#fdca26"
            ],
            [
             1,
             "#f0f921"
            ]
           ]
          },
          "colorway": [
           "#636efa",
           "#EF553B",
           "#00cc96",
           "#ab63fa",
           "#FFA15A",
           "#19d3f3",
           "#FF6692",
           "#B6E880",
           "#FF97FF",
           "#FECB52"
          ],
          "font": {
           "color": "#2a3f5f"
          },
          "geo": {
           "bgcolor": "white",
           "lakecolor": "white",
           "landcolor": "#E5ECF6",
           "showlakes": true,
           "showland": true,
           "subunitcolor": "white"
          },
          "hoverlabel": {
           "align": "left"
          },
          "hovermode": "closest",
          "mapbox": {
           "style": "light"
          },
          "paper_bgcolor": "white",
          "plot_bgcolor": "#E5ECF6",
          "polar": {
           "angularaxis": {
            "gridcolor": "white",
            "linecolor": "white",
            "ticks": ""
           },
           "bgcolor": "#E5ECF6",
           "radialaxis": {
            "gridcolor": "white",
            "linecolor": "white",
            "ticks": ""
           }
          },
          "scene": {
           "xaxis": {
            "backgroundcolor": "#E5ECF6",
            "gridcolor": "white",
            "gridwidth": 2,
            "linecolor": "white",
            "showbackground": true,
            "ticks": "",
            "zerolinecolor": "white"
           },
           "yaxis": {
            "backgroundcolor": "#E5ECF6",
            "gridcolor": "white",
            "gridwidth": 2,
            "linecolor": "white",
            "showbackground": true,
            "ticks": "",
            "zerolinecolor": "white"
           },
           "zaxis": {
            "backgroundcolor": "#E5ECF6",
            "gridcolor": "white",
            "gridwidth": 2,
            "linecolor": "white",
            "showbackground": true,
            "ticks": "",
            "zerolinecolor": "white"
           }
          },
          "shapedefaults": {
           "line": {
            "color": "#2a3f5f"
           }
          },
          "ternary": {
           "aaxis": {
            "gridcolor": "white",
            "linecolor": "white",
            "ticks": ""
           },
           "baxis": {
            "gridcolor": "white",
            "linecolor": "white",
            "ticks": ""
           },
           "bgcolor": "#E5ECF6",
           "caxis": {
            "gridcolor": "white",
            "linecolor": "white",
            "ticks": ""
           }
          },
          "title": {
           "x": 0.05
          },
          "xaxis": {
           "automargin": true,
           "gridcolor": "white",
           "linecolor": "white",
           "ticks": "",
           "title": {
            "standoff": 15
           },
           "zerolinecolor": "white",
           "zerolinewidth": 2
          },
          "yaxis": {
           "automargin": true,
           "gridcolor": "white",
           "linecolor": "white",
           "ticks": "",
           "title": {
            "standoff": 15
           },
           "zerolinecolor": "white",
           "zerolinewidth": 2
          }
         }
        }
       }
      },
      "text/html": [
       "<div>                            <div id=\"e6a52231-fd34-40b1-9172-fdff9501a631\" class=\"plotly-graph-div\" style=\"height:525px; width:100%;\"></div>            <script type=\"text/javascript\">                require([\"plotly\"], function(Plotly) {                    window.PLOTLYENV=window.PLOTLYENV || {};                                    if (document.getElementById(\"e6a52231-fd34-40b1-9172-fdff9501a631\")) {                    Plotly.newPlot(                        \"e6a52231-fd34-40b1-9172-fdff9501a631\",                        [{\"marker\":{\"color\":[1,1,1,1,1,1,1,1,1,1,1,1,1,1,1,1,1,1,1,1,1,1,1,1,1,1,1,1,1,1,1,1,1,1,1,1,1,1,1,1,1,1,1,1,1,1,1,1,1,1,1,1,1,1,1,1,1,1,1,2,2,0,2,2,2,2,2,2,2,2,2,2,2,1,2,2,2,2,2,2,2,2,2,0,2,2,2,2,2,2,2,2,2,2,2,1,2,2,2,2,2,2,2,2,2,2,2,2,2,2,2,2,2,2,2,2,2,2,0,2,2,1,2,2,2,2,2,2,2,2,0,0,0,0,0,0,0,0,0,0,0,0,0,0,0,0,0,0,0,0,0,0,0,0,0,0,0,0,0,0,0,0,0,0,0,0,0,0,0,0,0,0,0,0,0,0,0,0],\"size\":4},\"mode\":\"markers\",\"x\":[36.860084533691406,9.101459503173828,36.4383544921875,46.461517333984375,31.420299530029297,45.72907638549805,24.777381896972656,35.387481689453125,19.342449188232422,28.039691925048828,37.444725036621094,18.32956314086914,24.904136657714844,28.082735061645508,36.273014068603516,36.197059631347656,45.614540100097656,38.900123596191406,46.43353271484375,27.589759826660156,29.278928756713867,21.0318546295166,16.36202621459961,14.401638984680176,19.142654418945312,38.188262939453125,25.310789108276367,14.003009796142578,29.758102416992188,19.071441650390625,40.209041595458984,37.66572952270508,23.35202407836914,44.89194869995117,25.89418601989746,20.1948184967041,27.059030532836914,19.259031295776367,7.476024150848389,31.042753219604492,24.636077880859375,11.76223087310791,31.871204376220703,15.245133399963379,16.864307403564453,21.164846420288086,18.41997528076172,23.993268966674805,33.68164825439453,36.72365951538086,28.750228881835938,29.02080535888672,42.20505905151367,42.51741027832031,24.394821166992188,43.25320053100586,31.528406143188477,33.43989181518555,38.09937286376953,-12.758103370666504,2.1052751541137695,-6.243051052093506,0.2351241558790207,-7.545162200927734,10.017468452453613,14.505743026733398,-6.483982086181641,-2.2879183292388916,0.9351162910461426,12.590204238891602,-19.47025489807129,19.33095359802246,-20.426795959472656,40.56985855102539,-0.6417043805122375,-10.041301727294922,-6.564820289611816,-9.953737258911133,14.211633682250977,10.000849723815918,-1.666770100593567,2.2964437007904053,6.92576265335083,-18.46584701538086,6.213172435760498,3.717177152633667,8.389005661010742,8.609161376953125,-1.2309236526489258,-1.7836973667144775,-1.5835003852844238,0.020856134593486786,-5.846227645874023,-4.979858875274658,-8.826009750366211,20.311559677124023,-19.72202491760254,-7.168864727020264,-1.7447937726974487,17.029211044311523,-12.651820182800293,-12.158507347106934,0.3935852348804474,-18.558860778808594,-6.296140670776367,-7.287503242492676,-6.751175880432129,-8.77656364440918,-15.548783302307129,3.3670573234558105,-6.169232368469238,-12.485515594482422,11.054327011108398,7.665274620056152,1.180891990661621,17.806350708007812,-10.642609596252441,0.5861695408821106,-16.610029220581055,-15.609199523925781,-2.8923041820526123,34.01142120361328,4.657268524169922,8.951543807983398,-0.24972720444202423,-6.470875263214111,-8.830140113830566,4.726068496704102,-7.747524261474609,-16.324676513671875,-26.387451171875,-28.499162673950195,-35.45389938354492,-33.45055389404297,-8.234660148620605,-16.424415588378906,-31.042537689208984,-39.75971603393555,-20.829425811767578,-41.69371795654297,-32.5335693359375,-27.379243850708008,-39.56476593017578,-25.645414352416992,-27.74694061279297,-27.940366744995117,-27.01114845275879,-29.235794067382812,-30.811513900756836,-37.595523834228516,-44.803714752197266,-43.13353729248047,-47.44697189331055,-31.544729232788086,-14.793651580810547,-38.751522064208984,-36.42783737182617,-46.8271369934082,-50.66944885253906,-44.46805191040039,-23.182575225830078,-37.277366638183594,-36.5183219909668,-29.385009765625,-34.2999153137207,-27.82034683227539,-44.85395431518555,-26.199716567993164,-44.744789123535156,-51.93008041381836,-21.253236770629883,-21.316055297851562,-38.358436584472656,-36.687679290771484,-37.83369064331055,-35.524696350097656,-32.71494674682617,-45.64640426635742],\"y\":[36.459205627441406,16.92945671081543,-4.107269763946533,26.484642028808594,1.4808225631713867,17.239788055419922,13.105106353759766,21.128150939941406,18.50507926940918,21.779722213745117,8.537531852722168,5.755316257476807,8.701956748962402,13.717777252197266,16.906938552856445,12.207931518554688,6.182051658630371,3.8209474086761475,16.171218872070312,31.465848922729492,39.40354537963867,25.8336238861084,20.827136993408203,14.443939208984375,15.941367149353027,0.17548826336860657,14.784714698791504,8.804484367370605,10.230424880981445,18.453134536743164,-3.7409257888793945,11.512121200561523,-0.6292566657066345,9.001896858215332,9.293806076049805,21.77561378479004,0.8705606460571289,6.075868129730225,8.170578956604004,39.101680755615234,36.70973205566406,33.87355041503906,24.323566436767578,32.51790237426758,30.39371681213379,37.39080810546875,38.12116241455078,26.976043701171875,2.890946388244629,18.82769012451172,26.455228805541992,3.594547748565674,27.546466827392578,14.588388442993164,29.523990631103516,2.974377393722534,31.332242965698242,12.18567943572998,21.923385620117188,-3.225287437438965,-23.031869888305664,-25.502979278564453,-2.313547134399414,23.490734100341797,-13.958580017089844,0.5762365460395813,16.978872299194336,-2.7823657989501953,-26.531503677368164,-14.414752006530762,-12.881086349487305,13.0328369140625,10.64031982421875,-6.520359992980957,27.83174705505371,-6.551673412322998,4.255501747131348,-15.509763717651367,-14.482462882995605,13.994782447814941,5.982668876647949,13.20203685760498,-4.926675796508789,-15.831722259521484,17.084199905395508,4.625833034515381,-10.719993591308594,-10.970553398132324,-4.9710774421691895,-3.5300800800323486,-12.937249183654785,-13.224695205688477,-18.905757904052734,14.836861610412598,23.013280868530273,-15.799934387207031,-20.693931579589844,12.523324012756348,25.31756019592285,6.706233024597168,4.253476142883301,-3.304809093475342,13.509167671203613,3.4569714069366455,4.517164707183838,-14.68169116973877,-3.2175850868225098,-11.349082946777344,11.595049858093262,23.837610244750977,33.32765579223633,14.196173667907715,-21.678091049194336,-1.4971565008163452,4.328005790710449,-6.050197601318359,4.7049455642700195,5.4346699714660645,-15.712011337280273,-0.5994757413864136,20.614370346069336,-0.328047513961792,10.982643127441406,29.480106353759766,29.32076644897461,9.519792556762695,14.616645812988281,0.10185407102108002,5.206422805786133,-3.5179262161254883,-16.00248908996582,-20.96282196044922,-16.334850311279297,-23.153234481811523,-29.480501174926758,-28.7406063079834,-10.1299467086792,-13.373287200927734,-21.499481201171875,-6.209163188934326,-6.576850414276123,-12.610307693481445,-6.326925277709961,-12.747856140136719,-31.859987258911133,-20.949247360229492,-20.94734001159668,-29.477251052856445,-31.042951583862305,-29.933874130249023,-24.89310073852539,-33.5108757019043,-18.300352096557617,-43.09077072143555,-34.69937515258789,-28.82604217529297,-35.0263786315918,-16.150775909423828,-41.512481689453125,-44.80218505859375,-32.95919418334961,-15.10519027709961,-12.477286338806152,-21.980422973632812,-31.53786849975586,-20.827003479003906,-33.8815803527832,-33.93966293334961,-25.17378807067871,-28.23008155822754,-21.95578956604004,-38.79261779785156,-36.61306381225586,-23.32190704345703,-24.823348999023438,-39.16481399536133,-43.86781692504883,-29.343585968017578],\"z\":[12.299501419067383,21.52986717224121,20.160749435424805,12.654191017150879,-8.804105758666992,16.506776809692383,24.562822341918945,-2.6752405166625977,29.90074348449707,18.779613494873047,26.586084365844727,21.391332626342773,16.838863372802734,36.828582763671875,35.00539016723633,0.5343636274337769,7.5474467277526855,2.9233016967773438,25.57645034790039,1.806733250617981,14.129373550415039,-8.030406951904297,11.533679962158203,4.387208938598633,-2.8405814170837402,-12.798788070678711,9.453014373779297,14.051274299621582,-7.372771263122559,19.563663482666016,10.173327445983887,18.451181411743164,11.400666236877441,-4.141026020050049,1.4343206882476807,2.957278251647949,0.23275788128376007,5.683084964752197,18.522905349731445,2.4854204654693604,21.355819702148438,-2.8444621562957764,8.642546653747559,-9.517369270324707,19.104135513305664,-3.5961358547210693,7.822927474975586,23.821332931518555,14.46007251739502,24.05316734313965,33.14073944091797,23.897493362426758,21.157297134399414,5.172101020812988,12.575267791748047,17.738000869750977,18.146120071411133,8.881697654724121,14.240816116333008,23.285717010498047,0.8312191367149353,1.7143325805664062,18.19761085510254,10.416231155395508,-5.256850719451904,-1.3419116735458374,19.316675186157227,5.961362838745117,7.421614646911621,24.115074157714844,9.644641876220703,-11.86574935913086,-14.478935241699219,-5.257556915283203,3.4934418201446533,13.350360870361328,19.21596336364746,8.196645736694336,17.21893310546875,-23.906686782836914,10.271234512329102,4.591580390930176,-20.317380905151367,-20.928573608398438,-7.1920390129089355,2.570770263671875,-13.714423179626465,-25.246797561645508,-13.926039695739746,-23.05914306640625,-8.132040977478027,-17.05607032775879,-13.035158157348633,-1.563817024230957,0.8357923626899719,21.519821166992188,21.5308837890625,9.639047622680664,14.143412590026855,-23.205354690551758,11.725723266601562,4.412404537200928,-16.438817977905273,-0.3235169053077698,1.8659934997558594,-24.19834327697754,-3.8082756996154785,-14.689318656921387,0.5884121656417847,-7.178775310516357,-13.841805458068848,-9.530844688415527,-11.0274658203125,-11.044475555419922,-17.336997985839844,-18.186582565307617,-4.8188862800598145,-6.357632637023926,-4.493935585021973,-10.154435157775879,-12.351667404174805,-20.559799194335938,-29.402708053588867,-19.437084197998047,-18.445589065551758,-12.6572265625,-20.18405532836914,-31.684640884399414,-21.000850677490234,-19.88470458984375,17.520238876342773,10.26148509979248,9.393994331359863,15.819672584533691,-6.708090305328369,-7.55276346206665,-23.638004302978516,-23.922298431396484,-13.000930786132812,-12.361734390258789,-8.218417167663574,-0.00618774676695466,-3.8518970012664795,-14.441596984863281,7.812362194061279,-6.488003730773926,-28.621414184570312,-22.078229904174805,-11.927984237670898,5.613805770874023,9.866312026977539,11.561016082763672,4.966946125030518,-13.277915954589844,-0.8698128461837769,-26.090810775756836,-17.924509048461914,-14.324511528015137,-12.197793960571289,-13.597891807556152,-17.272249221801758,-4.847059726715088,-13.088592529296875,1.2523716688156128,-3.8108327388763428,-18.332130432128906,-1.6630995273590088,-3.395397424697876,-3.3982994556427,3.160308837890625,2.064781904220581,-8.558614730834961,-8.960681915283203,-19.96405601501465,-9.786012649536133,4.639728546142578,-2.502272129058838,-14.609158515930176],\"type\":\"scatter3d\"}],                        {\"template\":{\"data\":{\"histogram2dcontour\":[{\"type\":\"histogram2dcontour\",\"colorbar\":{\"outlinewidth\":0,\"ticks\":\"\"},\"colorscale\":[[0.0,\"#0d0887\"],[0.1111111111111111,\"#46039f\"],[0.2222222222222222,\"#7201a8\"],[0.3333333333333333,\"#9c179e\"],[0.4444444444444444,\"#bd3786\"],[0.5555555555555556,\"#d8576b\"],[0.6666666666666666,\"#ed7953\"],[0.7777777777777778,\"#fb9f3a\"],[0.8888888888888888,\"#fdca26\"],[1.0,\"#f0f921\"]]}],\"choropleth\":[{\"type\":\"choropleth\",\"colorbar\":{\"outlinewidth\":0,\"ticks\":\"\"}}],\"histogram2d\":[{\"type\":\"histogram2d\",\"colorbar\":{\"outlinewidth\":0,\"ticks\":\"\"},\"colorscale\":[[0.0,\"#0d0887\"],[0.1111111111111111,\"#46039f\"],[0.2222222222222222,\"#7201a8\"],[0.3333333333333333,\"#9c179e\"],[0.4444444444444444,\"#bd3786\"],[0.5555555555555556,\"#d8576b\"],[0.6666666666666666,\"#ed7953\"],[0.7777777777777778,\"#fb9f3a\"],[0.8888888888888888,\"#fdca26\"],[1.0,\"#f0f921\"]]}],\"heatmap\":[{\"type\":\"heatmap\",\"colorbar\":{\"outlinewidth\":0,\"ticks\":\"\"},\"colorscale\":[[0.0,\"#0d0887\"],[0.1111111111111111,\"#46039f\"],[0.2222222222222222,\"#7201a8\"],[0.3333333333333333,\"#9c179e\"],[0.4444444444444444,\"#bd3786\"],[0.5555555555555556,\"#d8576b\"],[0.6666666666666666,\"#ed7953\"],[0.7777777777777778,\"#fb9f3a\"],[0.8888888888888888,\"#fdca26\"],[1.0,\"#f0f921\"]]}],\"heatmapgl\":[{\"type\":\"heatmapgl\",\"colorbar\":{\"outlinewidth\":0,\"ticks\":\"\"},\"colorscale\":[[0.0,\"#0d0887\"],[0.1111111111111111,\"#46039f\"],[0.2222222222222222,\"#7201a8\"],[0.3333333333333333,\"#9c179e\"],[0.4444444444444444,\"#bd3786\"],[0.5555555555555556,\"#d8576b\"],[0.6666666666666666,\"#ed7953\"],[0.7777777777777778,\"#fb9f3a\"],[0.8888888888888888,\"#fdca26\"],[1.0,\"#f0f921\"]]}],\"contourcarpet\":[{\"type\":\"contourcarpet\",\"colorbar\":{\"outlinewidth\":0,\"ticks\":\"\"}}],\"contour\":[{\"type\":\"contour\",\"colorbar\":{\"outlinewidth\":0,\"ticks\":\"\"},\"colorscale\":[[0.0,\"#0d0887\"],[0.1111111111111111,\"#46039f\"],[0.2222222222222222,\"#7201a8\"],[0.3333333333333333,\"#9c179e\"],[0.4444444444444444,\"#bd3786\"],[0.5555555555555556,\"#d8576b\"],[0.6666666666666666,\"#ed7953\"],[0.7777777777777778,\"#fb9f3a\"],[0.8888888888888888,\"#fdca26\"],[1.0,\"#f0f921\"]]}],\"surface\":[{\"type\":\"surface\",\"colorbar\":{\"outlinewidth\":0,\"ticks\":\"\"},\"colorscale\":[[0.0,\"#0d0887\"],[0.1111111111111111,\"#46039f\"],[0.2222222222222222,\"#7201a8\"],[0.3333333333333333,\"#9c179e\"],[0.4444444444444444,\"#bd3786\"],[0.5555555555555556,\"#d8576b\"],[0.6666666666666666,\"#ed7953\"],[0.7777777777777778,\"#fb9f3a\"],[0.8888888888888888,\"#fdca26\"],[1.0,\"#f0f921\"]]}],\"mesh3d\":[{\"type\":\"mesh3d\",\"colorbar\":{\"outlinewidth\":0,\"ticks\":\"\"}}],\"scatter\":[{\"fillpattern\":{\"fillmode\":\"overlay\",\"size\":10,\"solidity\":0.2},\"type\":\"scatter\"}],\"parcoords\":[{\"type\":\"parcoords\",\"line\":{\"colorbar\":{\"outlinewidth\":0,\"ticks\":\"\"}}}],\"scatterpolargl\":[{\"type\":\"scatterpolargl\",\"marker\":{\"colorbar\":{\"outlinewidth\":0,\"ticks\":\"\"}}}],\"bar\":[{\"error_x\":{\"color\":\"#2a3f5f\"},\"error_y\":{\"color\":\"#2a3f5f\"},\"marker\":{\"line\":{\"color\":\"#E5ECF6\",\"width\":0.5},\"pattern\":{\"fillmode\":\"overlay\",\"size\":10,\"solidity\":0.2}},\"type\":\"bar\"}],\"scattergeo\":[{\"type\":\"scattergeo\",\"marker\":{\"colorbar\":{\"outlinewidth\":0,\"ticks\":\"\"}}}],\"scatterpolar\":[{\"type\":\"scatterpolar\",\"marker\":{\"colorbar\":{\"outlinewidth\":0,\"ticks\":\"\"}}}],\"histogram\":[{\"marker\":{\"pattern\":{\"fillmode\":\"overlay\",\"size\":10,\"solidity\":0.2}},\"type\":\"histogram\"}],\"scattergl\":[{\"type\":\"scattergl\",\"marker\":{\"colorbar\":{\"outlinewidth\":0,\"ticks\":\"\"}}}],\"scatter3d\":[{\"type\":\"scatter3d\",\"line\":{\"colorbar\":{\"outlinewidth\":0,\"ticks\":\"\"}},\"marker\":{\"colorbar\":{\"outlinewidth\":0,\"ticks\":\"\"}}}],\"scattermapbox\":[{\"type\":\"scattermapbox\",\"marker\":{\"colorbar\":{\"outlinewidth\":0,\"ticks\":\"\"}}}],\"scatterternary\":[{\"type\":\"scatterternary\",\"marker\":{\"colorbar\":{\"outlinewidth\":0,\"ticks\":\"\"}}}],\"scattercarpet\":[{\"type\":\"scattercarpet\",\"marker\":{\"colorbar\":{\"outlinewidth\":0,\"ticks\":\"\"}}}],\"carpet\":[{\"aaxis\":{\"endlinecolor\":\"#2a3f5f\",\"gridcolor\":\"white\",\"linecolor\":\"white\",\"minorgridcolor\":\"white\",\"startlinecolor\":\"#2a3f5f\"},\"baxis\":{\"endlinecolor\":\"#2a3f5f\",\"gridcolor\":\"white\",\"linecolor\":\"white\",\"minorgridcolor\":\"white\",\"startlinecolor\":\"#2a3f5f\"},\"type\":\"carpet\"}],\"table\":[{\"cells\":{\"fill\":{\"color\":\"#EBF0F8\"},\"line\":{\"color\":\"white\"}},\"header\":{\"fill\":{\"color\":\"#C8D4E3\"},\"line\":{\"color\":\"white\"}},\"type\":\"table\"}],\"barpolar\":[{\"marker\":{\"line\":{\"color\":\"#E5ECF6\",\"width\":0.5},\"pattern\":{\"fillmode\":\"overlay\",\"size\":10,\"solidity\":0.2}},\"type\":\"barpolar\"}],\"pie\":[{\"automargin\":true,\"type\":\"pie\"}]},\"layout\":{\"autotypenumbers\":\"strict\",\"colorway\":[\"#636efa\",\"#EF553B\",\"#00cc96\",\"#ab63fa\",\"#FFA15A\",\"#19d3f3\",\"#FF6692\",\"#B6E880\",\"#FF97FF\",\"#FECB52\"],\"font\":{\"color\":\"#2a3f5f\"},\"hovermode\":\"closest\",\"hoverlabel\":{\"align\":\"left\"},\"paper_bgcolor\":\"white\",\"plot_bgcolor\":\"#E5ECF6\",\"polar\":{\"bgcolor\":\"#E5ECF6\",\"angularaxis\":{\"gridcolor\":\"white\",\"linecolor\":\"white\",\"ticks\":\"\"},\"radialaxis\":{\"gridcolor\":\"white\",\"linecolor\":\"white\",\"ticks\":\"\"}},\"ternary\":{\"bgcolor\":\"#E5ECF6\",\"aaxis\":{\"gridcolor\":\"white\",\"linecolor\":\"white\",\"ticks\":\"\"},\"baxis\":{\"gridcolor\":\"white\",\"linecolor\":\"white\",\"ticks\":\"\"},\"caxis\":{\"gridcolor\":\"white\",\"linecolor\":\"white\",\"ticks\":\"\"}},\"coloraxis\":{\"colorbar\":{\"outlinewidth\":0,\"ticks\":\"\"}},\"colorscale\":{\"sequential\":[[0.0,\"#0d0887\"],[0.1111111111111111,\"#46039f\"],[0.2222222222222222,\"#7201a8\"],[0.3333333333333333,\"#9c179e\"],[0.4444444444444444,\"#bd3786\"],[0.5555555555555556,\"#d8576b\"],[0.6666666666666666,\"#ed7953\"],[0.7777777777777778,\"#fb9f3a\"],[0.8888888888888888,\"#fdca26\"],[1.0,\"#f0f921\"]],\"sequentialminus\":[[0.0,\"#0d0887\"],[0.1111111111111111,\"#46039f\"],[0.2222222222222222,\"#7201a8\"],[0.3333333333333333,\"#9c179e\"],[0.4444444444444444,\"#bd3786\"],[0.5555555555555556,\"#d8576b\"],[0.6666666666666666,\"#ed7953\"],[0.7777777777777778,\"#fb9f3a\"],[0.8888888888888888,\"#fdca26\"],[1.0,\"#f0f921\"]],\"diverging\":[[0,\"#8e0152\"],[0.1,\"#c51b7d\"],[0.2,\"#de77ae\"],[0.3,\"#f1b6da\"],[0.4,\"#fde0ef\"],[0.5,\"#f7f7f7\"],[0.6,\"#e6f5d0\"],[0.7,\"#b8e186\"],[0.8,\"#7fbc41\"],[0.9,\"#4d9221\"],[1,\"#276419\"]]},\"xaxis\":{\"gridcolor\":\"white\",\"linecolor\":\"white\",\"ticks\":\"\",\"title\":{\"standoff\":15},\"zerolinecolor\":\"white\",\"automargin\":true,\"zerolinewidth\":2},\"yaxis\":{\"gridcolor\":\"white\",\"linecolor\":\"white\",\"ticks\":\"\",\"title\":{\"standoff\":15},\"zerolinecolor\":\"white\",\"automargin\":true,\"zerolinewidth\":2},\"scene\":{\"xaxis\":{\"backgroundcolor\":\"#E5ECF6\",\"gridcolor\":\"white\",\"linecolor\":\"white\",\"showbackground\":true,\"ticks\":\"\",\"zerolinecolor\":\"white\",\"gridwidth\":2},\"yaxis\":{\"backgroundcolor\":\"#E5ECF6\",\"gridcolor\":\"white\",\"linecolor\":\"white\",\"showbackground\":true,\"ticks\":\"\",\"zerolinecolor\":\"white\",\"gridwidth\":2},\"zaxis\":{\"backgroundcolor\":\"#E5ECF6\",\"gridcolor\":\"white\",\"linecolor\":\"white\",\"showbackground\":true,\"ticks\":\"\",\"zerolinecolor\":\"white\",\"gridwidth\":2}},\"shapedefaults\":{\"line\":{\"color\":\"#2a3f5f\"}},\"annotationdefaults\":{\"arrowcolor\":\"#2a3f5f\",\"arrowhead\":0,\"arrowwidth\":1},\"geo\":{\"bgcolor\":\"white\",\"landcolor\":\"#E5ECF6\",\"subunitcolor\":\"white\",\"showland\":true,\"showlakes\":true,\"lakecolor\":\"white\"},\"title\":{\"x\":0.05},\"mapbox\":{\"style\":\"light\"}}}},                        {\"responsive\": true}                    ).then(function(){\n",
       "                            \n",
       "var gd = document.getElementById('e6a52231-fd34-40b1-9172-fdff9501a631');\n",
       "var x = new MutationObserver(function (mutations, observer) {{\n",
       "        var display = window.getComputedStyle(gd).display;\n",
       "        if (!display || display === 'none') {{\n",
       "            console.log([gd, 'removed!']);\n",
       "            Plotly.purge(gd);\n",
       "            observer.disconnect();\n",
       "        }}\n",
       "}});\n",
       "\n",
       "// Listen for the removal of the full notebook cells\n",
       "var notebookContainer = gd.closest('#notebook-container');\n",
       "if (notebookContainer) {{\n",
       "    x.observe(notebookContainer, {childList: true});\n",
       "}}\n",
       "\n",
       "// Listen for the clearing of the current output cell\n",
       "var outputEl = gd.closest('.output');\n",
       "if (outputEl) {{\n",
       "    x.observe(outputEl, {childList: true});\n",
       "}}\n",
       "\n",
       "                        })                };                });            </script>        </div>"
      ]
     },
     "metadata": {},
     "output_type": "display_data"
    }
   ],
   "source": [
    "fig = go.Figure(data=[go.Scatter3d(x=tsne3D_df['x'], y=tsne3D_df['y'], z=tsne3D_df['z'],\n",
    "                                   mode='markers', marker_color=model1.labels_, marker_size = 4)])\n",
    "fig.show()"
   ]
  },
  {
   "cell_type": "code",
   "execution_count": 28,
   "id": "0fb7c166",
   "metadata": {},
   "outputs": [],
   "source": [
    "model2 = AgglomerativeClustering(3, compute_distances=True)\n",
    "clastering = model2.fit(data)"
   ]
  },
  {
   "cell_type": "code",
   "execution_count": 29,
   "id": "acb36386",
   "metadata": {},
   "outputs": [
    {
     "data": {
      "application/vnd.plotly.v1+json": {
       "config": {
        "plotlyServerURL": "https://plot.ly"
       },
       "data": [
        {
         "marker": {
          "color": [
           2,
           2,
           2,
           2,
           2,
           2,
           2,
           2,
           2,
           2,
           2,
           2,
           2,
           2,
           2,
           2,
           2,
           2,
           2,
           2,
           2,
           2,
           2,
           2,
           2,
           2,
           2,
           2,
           2,
           2,
           2,
           2,
           2,
           2,
           2,
           2,
           2,
           2,
           2,
           2,
           2,
           2,
           2,
           2,
           2,
           2,
           2,
           2,
           2,
           2,
           2,
           2,
           2,
           2,
           2,
           2,
           2,
           2,
           2,
           0,
           1,
           1,
           0,
           0,
           0,
           2,
           2,
           0,
           1,
           0,
           1,
           2,
           0,
           2,
           0,
           0,
           0,
           1,
           0,
           0,
           0,
           0,
           0,
           1,
           0,
           0,
           0,
           0,
           0,
           0,
           0,
           0,
           0,
           0,
           0,
           0,
           1,
           0,
           0,
           0,
           0,
           0,
           0,
           0,
           0,
           0,
           0,
           0,
           0,
           0,
           0,
           0,
           0,
           0,
           0,
           0,
           0,
           0,
           1,
           0,
           0,
           2,
           0,
           0,
           0,
           0,
           0,
           0,
           0,
           0,
           1,
           1,
           1,
           1,
           1,
           1,
           1,
           1,
           1,
           1,
           1,
           1,
           1,
           1,
           1,
           1,
           1,
           1,
           1,
           1,
           1,
           1,
           1,
           1,
           1,
           1,
           1,
           1,
           1,
           1,
           1,
           1,
           1,
           1,
           1,
           1,
           1,
           1,
           1,
           1,
           1,
           1,
           1,
           1,
           1,
           1,
           1,
           1
          ],
          "size": 4
         },
         "mode": "markers",
         "type": "scatter3d",
         "x": [
          36.860084533691406,
          9.101459503173828,
          36.4383544921875,
          46.461517333984375,
          31.420299530029297,
          45.72907638549805,
          24.777381896972656,
          35.387481689453125,
          19.342449188232422,
          28.039691925048828,
          37.444725036621094,
          18.32956314086914,
          24.904136657714844,
          28.082735061645508,
          36.273014068603516,
          36.197059631347656,
          45.614540100097656,
          38.900123596191406,
          46.43353271484375,
          27.589759826660156,
          29.278928756713867,
          21.0318546295166,
          16.36202621459961,
          14.401638984680176,
          19.142654418945312,
          38.188262939453125,
          25.310789108276367,
          14.003009796142578,
          29.758102416992188,
          19.071441650390625,
          40.209041595458984,
          37.66572952270508,
          23.35202407836914,
          44.89194869995117,
          25.89418601989746,
          20.1948184967041,
          27.059030532836914,
          19.259031295776367,
          7.476024150848389,
          31.042753219604492,
          24.636077880859375,
          11.76223087310791,
          31.871204376220703,
          15.245133399963379,
          16.864307403564453,
          21.164846420288086,
          18.41997528076172,
          23.993268966674805,
          33.68164825439453,
          36.72365951538086,
          28.750228881835938,
          29.02080535888672,
          42.20505905151367,
          42.51741027832031,
          24.394821166992188,
          43.25320053100586,
          31.528406143188477,
          33.43989181518555,
          38.09937286376953,
          -12.758103370666504,
          2.1052751541137695,
          -6.243051052093506,
          0.2351241558790207,
          -7.545162200927734,
          10.017468452453613,
          14.505743026733398,
          -6.483982086181641,
          -2.2879183292388916,
          0.9351162910461426,
          12.590204238891602,
          -19.47025489807129,
          19.33095359802246,
          -20.426795959472656,
          40.56985855102539,
          -0.6417043805122375,
          -10.041301727294922,
          -6.564820289611816,
          -9.953737258911133,
          14.211633682250977,
          10.000849723815918,
          -1.666770100593567,
          2.2964437007904053,
          6.92576265335083,
          -18.46584701538086,
          6.213172435760498,
          3.717177152633667,
          8.389005661010742,
          8.609161376953125,
          -1.2309236526489258,
          -1.7836973667144775,
          -1.5835003852844238,
          0.020856134593486786,
          -5.846227645874023,
          -4.979858875274658,
          -8.826009750366211,
          20.311559677124023,
          -19.72202491760254,
          -7.168864727020264,
          -1.7447937726974487,
          17.029211044311523,
          -12.651820182800293,
          -12.158507347106934,
          0.3935852348804474,
          -18.558860778808594,
          -6.296140670776367,
          -7.287503242492676,
          -6.751175880432129,
          -8.77656364440918,
          -15.548783302307129,
          3.3670573234558105,
          -6.169232368469238,
          -12.485515594482422,
          11.054327011108398,
          7.665274620056152,
          1.180891990661621,
          17.806350708007812,
          -10.642609596252441,
          0.5861695408821106,
          -16.610029220581055,
          -15.609199523925781,
          -2.8923041820526123,
          34.01142120361328,
          4.657268524169922,
          8.951543807983398,
          -0.24972720444202423,
          -6.470875263214111,
          -8.830140113830566,
          4.726068496704102,
          -7.747524261474609,
          -16.324676513671875,
          -26.387451171875,
          -28.499162673950195,
          -35.45389938354492,
          -33.45055389404297,
          -8.234660148620605,
          -16.424415588378906,
          -31.042537689208984,
          -39.75971603393555,
          -20.829425811767578,
          -41.69371795654297,
          -32.5335693359375,
          -27.379243850708008,
          -39.56476593017578,
          -25.645414352416992,
          -27.74694061279297,
          -27.940366744995117,
          -27.01114845275879,
          -29.235794067382812,
          -30.811513900756836,
          -37.595523834228516,
          -44.803714752197266,
          -43.13353729248047,
          -47.44697189331055,
          -31.544729232788086,
          -14.793651580810547,
          -38.751522064208984,
          -36.42783737182617,
          -46.8271369934082,
          -50.66944885253906,
          -44.46805191040039,
          -23.182575225830078,
          -37.277366638183594,
          -36.5183219909668,
          -29.385009765625,
          -34.2999153137207,
          -27.82034683227539,
          -44.85395431518555,
          -26.199716567993164,
          -44.744789123535156,
          -51.93008041381836,
          -21.253236770629883,
          -21.316055297851562,
          -38.358436584472656,
          -36.687679290771484,
          -37.83369064331055,
          -35.524696350097656,
          -32.71494674682617,
          -45.64640426635742
         ],
         "y": [
          36.459205627441406,
          16.92945671081543,
          -4.107269763946533,
          26.484642028808594,
          1.4808225631713867,
          17.239788055419922,
          13.105106353759766,
          21.128150939941406,
          18.50507926940918,
          21.779722213745117,
          8.537531852722168,
          5.755316257476807,
          8.701956748962402,
          13.717777252197266,
          16.906938552856445,
          12.207931518554688,
          6.182051658630371,
          3.8209474086761475,
          16.171218872070312,
          31.465848922729492,
          39.40354537963867,
          25.8336238861084,
          20.827136993408203,
          14.443939208984375,
          15.941367149353027,
          0.17548826336860657,
          14.784714698791504,
          8.804484367370605,
          10.230424880981445,
          18.453134536743164,
          -3.7409257888793945,
          11.512121200561523,
          -0.6292566657066345,
          9.001896858215332,
          9.293806076049805,
          21.77561378479004,
          0.8705606460571289,
          6.075868129730225,
          8.170578956604004,
          39.101680755615234,
          36.70973205566406,
          33.87355041503906,
          24.323566436767578,
          32.51790237426758,
          30.39371681213379,
          37.39080810546875,
          38.12116241455078,
          26.976043701171875,
          2.890946388244629,
          18.82769012451172,
          26.455228805541992,
          3.594547748565674,
          27.546466827392578,
          14.588388442993164,
          29.523990631103516,
          2.974377393722534,
          31.332242965698242,
          12.18567943572998,
          21.923385620117188,
          -3.225287437438965,
          -23.031869888305664,
          -25.502979278564453,
          -2.313547134399414,
          23.490734100341797,
          -13.958580017089844,
          0.5762365460395813,
          16.978872299194336,
          -2.7823657989501953,
          -26.531503677368164,
          -14.414752006530762,
          -12.881086349487305,
          13.0328369140625,
          10.64031982421875,
          -6.520359992980957,
          27.83174705505371,
          -6.551673412322998,
          4.255501747131348,
          -15.509763717651367,
          -14.482462882995605,
          13.994782447814941,
          5.982668876647949,
          13.20203685760498,
          -4.926675796508789,
          -15.831722259521484,
          17.084199905395508,
          4.625833034515381,
          -10.719993591308594,
          -10.970553398132324,
          -4.9710774421691895,
          -3.5300800800323486,
          -12.937249183654785,
          -13.224695205688477,
          -18.905757904052734,
          14.836861610412598,
          23.013280868530273,
          -15.799934387207031,
          -20.693931579589844,
          12.523324012756348,
          25.31756019592285,
          6.706233024597168,
          4.253476142883301,
          -3.304809093475342,
          13.509167671203613,
          3.4569714069366455,
          4.517164707183838,
          -14.68169116973877,
          -3.2175850868225098,
          -11.349082946777344,
          11.595049858093262,
          23.837610244750977,
          33.32765579223633,
          14.196173667907715,
          -21.678091049194336,
          -1.4971565008163452,
          4.328005790710449,
          -6.050197601318359,
          4.7049455642700195,
          5.4346699714660645,
          -15.712011337280273,
          -0.5994757413864136,
          20.614370346069336,
          -0.328047513961792,
          10.982643127441406,
          29.480106353759766,
          29.32076644897461,
          9.519792556762695,
          14.616645812988281,
          0.10185407102108002,
          5.206422805786133,
          -3.5179262161254883,
          -16.00248908996582,
          -20.96282196044922,
          -16.334850311279297,
          -23.153234481811523,
          -29.480501174926758,
          -28.7406063079834,
          -10.1299467086792,
          -13.373287200927734,
          -21.499481201171875,
          -6.209163188934326,
          -6.576850414276123,
          -12.610307693481445,
          -6.326925277709961,
          -12.747856140136719,
          -31.859987258911133,
          -20.949247360229492,
          -20.94734001159668,
          -29.477251052856445,
          -31.042951583862305,
          -29.933874130249023,
          -24.89310073852539,
          -33.5108757019043,
          -18.300352096557617,
          -43.09077072143555,
          -34.69937515258789,
          -28.82604217529297,
          -35.0263786315918,
          -16.150775909423828,
          -41.512481689453125,
          -44.80218505859375,
          -32.95919418334961,
          -15.10519027709961,
          -12.477286338806152,
          -21.980422973632812,
          -31.53786849975586,
          -20.827003479003906,
          -33.8815803527832,
          -33.93966293334961,
          -25.17378807067871,
          -28.23008155822754,
          -21.95578956604004,
          -38.79261779785156,
          -36.61306381225586,
          -23.32190704345703,
          -24.823348999023438,
          -39.16481399536133,
          -43.86781692504883,
          -29.343585968017578
         ],
         "z": [
          12.299501419067383,
          21.52986717224121,
          20.160749435424805,
          12.654191017150879,
          -8.804105758666992,
          16.506776809692383,
          24.562822341918945,
          -2.6752405166625977,
          29.90074348449707,
          18.779613494873047,
          26.586084365844727,
          21.391332626342773,
          16.838863372802734,
          36.828582763671875,
          35.00539016723633,
          0.5343636274337769,
          7.5474467277526855,
          2.9233016967773438,
          25.57645034790039,
          1.806733250617981,
          14.129373550415039,
          -8.030406951904297,
          11.533679962158203,
          4.387208938598633,
          -2.8405814170837402,
          -12.798788070678711,
          9.453014373779297,
          14.051274299621582,
          -7.372771263122559,
          19.563663482666016,
          10.173327445983887,
          18.451181411743164,
          11.400666236877441,
          -4.141026020050049,
          1.4343206882476807,
          2.957278251647949,
          0.23275788128376007,
          5.683084964752197,
          18.522905349731445,
          2.4854204654693604,
          21.355819702148438,
          -2.8444621562957764,
          8.642546653747559,
          -9.517369270324707,
          19.104135513305664,
          -3.5961358547210693,
          7.822927474975586,
          23.821332931518555,
          14.46007251739502,
          24.05316734313965,
          33.14073944091797,
          23.897493362426758,
          21.157297134399414,
          5.172101020812988,
          12.575267791748047,
          17.738000869750977,
          18.146120071411133,
          8.881697654724121,
          14.240816116333008,
          23.285717010498047,
          0.8312191367149353,
          1.7143325805664062,
          18.19761085510254,
          10.416231155395508,
          -5.256850719451904,
          -1.3419116735458374,
          19.316675186157227,
          5.961362838745117,
          7.421614646911621,
          24.115074157714844,
          9.644641876220703,
          -11.86574935913086,
          -14.478935241699219,
          -5.257556915283203,
          3.4934418201446533,
          13.350360870361328,
          19.21596336364746,
          8.196645736694336,
          17.21893310546875,
          -23.906686782836914,
          10.271234512329102,
          4.591580390930176,
          -20.317380905151367,
          -20.928573608398438,
          -7.1920390129089355,
          2.570770263671875,
          -13.714423179626465,
          -25.246797561645508,
          -13.926039695739746,
          -23.05914306640625,
          -8.132040977478027,
          -17.05607032775879,
          -13.035158157348633,
          -1.563817024230957,
          0.8357923626899719,
          21.519821166992188,
          21.5308837890625,
          9.639047622680664,
          14.143412590026855,
          -23.205354690551758,
          11.725723266601562,
          4.412404537200928,
          -16.438817977905273,
          -0.3235169053077698,
          1.8659934997558594,
          -24.19834327697754,
          -3.8082756996154785,
          -14.689318656921387,
          0.5884121656417847,
          -7.178775310516357,
          -13.841805458068848,
          -9.530844688415527,
          -11.0274658203125,
          -11.044475555419922,
          -17.336997985839844,
          -18.186582565307617,
          -4.8188862800598145,
          -6.357632637023926,
          -4.493935585021973,
          -10.154435157775879,
          -12.351667404174805,
          -20.559799194335938,
          -29.402708053588867,
          -19.437084197998047,
          -18.445589065551758,
          -12.6572265625,
          -20.18405532836914,
          -31.684640884399414,
          -21.000850677490234,
          -19.88470458984375,
          17.520238876342773,
          10.26148509979248,
          9.393994331359863,
          15.819672584533691,
          -6.708090305328369,
          -7.55276346206665,
          -23.638004302978516,
          -23.922298431396484,
          -13.000930786132812,
          -12.361734390258789,
          -8.218417167663574,
          -0.00618774676695466,
          -3.8518970012664795,
          -14.441596984863281,
          7.812362194061279,
          -6.488003730773926,
          -28.621414184570312,
          -22.078229904174805,
          -11.927984237670898,
          5.613805770874023,
          9.866312026977539,
          11.561016082763672,
          4.966946125030518,
          -13.277915954589844,
          -0.8698128461837769,
          -26.090810775756836,
          -17.924509048461914,
          -14.324511528015137,
          -12.197793960571289,
          -13.597891807556152,
          -17.272249221801758,
          -4.847059726715088,
          -13.088592529296875,
          1.2523716688156128,
          -3.8108327388763428,
          -18.332130432128906,
          -1.6630995273590088,
          -3.395397424697876,
          -3.3982994556427,
          3.160308837890625,
          2.064781904220581,
          -8.558614730834961,
          -8.960681915283203,
          -19.96405601501465,
          -9.786012649536133,
          4.639728546142578,
          -2.502272129058838,
          -14.609158515930176
         ]
        }
       ],
       "layout": {
        "template": {
         "data": {
          "bar": [
           {
            "error_x": {
             "color": "#2a3f5f"
            },
            "error_y": {
             "color": "#2a3f5f"
            },
            "marker": {
             "line": {
              "color": "#E5ECF6",
              "width": 0.5
             },
             "pattern": {
              "fillmode": "overlay",
              "size": 10,
              "solidity": 0.2
             }
            },
            "type": "bar"
           }
          ],
          "barpolar": [
           {
            "marker": {
             "line": {
              "color": "#E5ECF6",
              "width": 0.5
             },
             "pattern": {
              "fillmode": "overlay",
              "size": 10,
              "solidity": 0.2
             }
            },
            "type": "barpolar"
           }
          ],
          "carpet": [
           {
            "aaxis": {
             "endlinecolor": "#2a3f5f",
             "gridcolor": "white",
             "linecolor": "white",
             "minorgridcolor": "white",
             "startlinecolor": "#2a3f5f"
            },
            "baxis": {
             "endlinecolor": "#2a3f5f",
             "gridcolor": "white",
             "linecolor": "white",
             "minorgridcolor": "white",
             "startlinecolor": "#2a3f5f"
            },
            "type": "carpet"
           }
          ],
          "choropleth": [
           {
            "colorbar": {
             "outlinewidth": 0,
             "ticks": ""
            },
            "type": "choropleth"
           }
          ],
          "contour": [
           {
            "colorbar": {
             "outlinewidth": 0,
             "ticks": ""
            },
            "colorscale": [
             [
              0,
              "#0d0887"
             ],
             [
              0.1111111111111111,
              "#46039f"
             ],
             [
              0.2222222222222222,
              "#7201a8"
             ],
             [
              0.3333333333333333,
              "#9c179e"
             ],
             [
              0.4444444444444444,
              "#bd3786"
             ],
             [
              0.5555555555555556,
              "#d8576b"
             ],
             [
              0.6666666666666666,
              "#ed7953"
             ],
             [
              0.7777777777777778,
              "#fb9f3a"
             ],
             [
              0.8888888888888888,
              "#fdca26"
             ],
             [
              1,
              "#f0f921"
             ]
            ],
            "type": "contour"
           }
          ],
          "contourcarpet": [
           {
            "colorbar": {
             "outlinewidth": 0,
             "ticks": ""
            },
            "type": "contourcarpet"
           }
          ],
          "heatmap": [
           {
            "colorbar": {
             "outlinewidth": 0,
             "ticks": ""
            },
            "colorscale": [
             [
              0,
              "#0d0887"
             ],
             [
              0.1111111111111111,
              "#46039f"
             ],
             [
              0.2222222222222222,
              "#7201a8"
             ],
             [
              0.3333333333333333,
              "#9c179e"
             ],
             [
              0.4444444444444444,
              "#bd3786"
             ],
             [
              0.5555555555555556,
              "#d8576b"
             ],
             [
              0.6666666666666666,
              "#ed7953"
             ],
             [
              0.7777777777777778,
              "#fb9f3a"
             ],
             [
              0.8888888888888888,
              "#fdca26"
             ],
             [
              1,
              "#f0f921"
             ]
            ],
            "type": "heatmap"
           }
          ],
          "heatmapgl": [
           {
            "colorbar": {
             "outlinewidth": 0,
             "ticks": ""
            },
            "colorscale": [
             [
              0,
              "#0d0887"
             ],
             [
              0.1111111111111111,
              "#46039f"
             ],
             [
              0.2222222222222222,
              "#7201a8"
             ],
             [
              0.3333333333333333,
              "#9c179e"
             ],
             [
              0.4444444444444444,
              "#bd3786"
             ],
             [
              0.5555555555555556,
              "#d8576b"
             ],
             [
              0.6666666666666666,
              "#ed7953"
             ],
             [
              0.7777777777777778,
              "#fb9f3a"
             ],
             [
              0.8888888888888888,
              "#fdca26"
             ],
             [
              1,
              "#f0f921"
             ]
            ],
            "type": "heatmapgl"
           }
          ],
          "histogram": [
           {
            "marker": {
             "pattern": {
              "fillmode": "overlay",
              "size": 10,
              "solidity": 0.2
             }
            },
            "type": "histogram"
           }
          ],
          "histogram2d": [
           {
            "colorbar": {
             "outlinewidth": 0,
             "ticks": ""
            },
            "colorscale": [
             [
              0,
              "#0d0887"
             ],
             [
              0.1111111111111111,
              "#46039f"
             ],
             [
              0.2222222222222222,
              "#7201a8"
             ],
             [
              0.3333333333333333,
              "#9c179e"
             ],
             [
              0.4444444444444444,
              "#bd3786"
             ],
             [
              0.5555555555555556,
              "#d8576b"
             ],
             [
              0.6666666666666666,
              "#ed7953"
             ],
             [
              0.7777777777777778,
              "#fb9f3a"
             ],
             [
              0.8888888888888888,
              "#fdca26"
             ],
             [
              1,
              "#f0f921"
             ]
            ],
            "type": "histogram2d"
           }
          ],
          "histogram2dcontour": [
           {
            "colorbar": {
             "outlinewidth": 0,
             "ticks": ""
            },
            "colorscale": [
             [
              0,
              "#0d0887"
             ],
             [
              0.1111111111111111,
              "#46039f"
             ],
             [
              0.2222222222222222,
              "#7201a8"
             ],
             [
              0.3333333333333333,
              "#9c179e"
             ],
             [
              0.4444444444444444,
              "#bd3786"
             ],
             [
              0.5555555555555556,
              "#d8576b"
             ],
             [
              0.6666666666666666,
              "#ed7953"
             ],
             [
              0.7777777777777778,
              "#fb9f3a"
             ],
             [
              0.8888888888888888,
              "#fdca26"
             ],
             [
              1,
              "#f0f921"
             ]
            ],
            "type": "histogram2dcontour"
           }
          ],
          "mesh3d": [
           {
            "colorbar": {
             "outlinewidth": 0,
             "ticks": ""
            },
            "type": "mesh3d"
           }
          ],
          "parcoords": [
           {
            "line": {
             "colorbar": {
              "outlinewidth": 0,
              "ticks": ""
             }
            },
            "type": "parcoords"
           }
          ],
          "pie": [
           {
            "automargin": true,
            "type": "pie"
           }
          ],
          "scatter": [
           {
            "fillpattern": {
             "fillmode": "overlay",
             "size": 10,
             "solidity": 0.2
            },
            "type": "scatter"
           }
          ],
          "scatter3d": [
           {
            "line": {
             "colorbar": {
              "outlinewidth": 0,
              "ticks": ""
             }
            },
            "marker": {
             "colorbar": {
              "outlinewidth": 0,
              "ticks": ""
             }
            },
            "type": "scatter3d"
           }
          ],
          "scattercarpet": [
           {
            "marker": {
             "colorbar": {
              "outlinewidth": 0,
              "ticks": ""
             }
            },
            "type": "scattercarpet"
           }
          ],
          "scattergeo": [
           {
            "marker": {
             "colorbar": {
              "outlinewidth": 0,
              "ticks": ""
             }
            },
            "type": "scattergeo"
           }
          ],
          "scattergl": [
           {
            "marker": {
             "colorbar": {
              "outlinewidth": 0,
              "ticks": ""
             }
            },
            "type": "scattergl"
           }
          ],
          "scattermapbox": [
           {
            "marker": {
             "colorbar": {
              "outlinewidth": 0,
              "ticks": ""
             }
            },
            "type": "scattermapbox"
           }
          ],
          "scatterpolar": [
           {
            "marker": {
             "colorbar": {
              "outlinewidth": 0,
              "ticks": ""
             }
            },
            "type": "scatterpolar"
           }
          ],
          "scatterpolargl": [
           {
            "marker": {
             "colorbar": {
              "outlinewidth": 0,
              "ticks": ""
             }
            },
            "type": "scatterpolargl"
           }
          ],
          "scatterternary": [
           {
            "marker": {
             "colorbar": {
              "outlinewidth": 0,
              "ticks": ""
             }
            },
            "type": "scatterternary"
           }
          ],
          "surface": [
           {
            "colorbar": {
             "outlinewidth": 0,
             "ticks": ""
            },
            "colorscale": [
             [
              0,
              "#0d0887"
             ],
             [
              0.1111111111111111,
              "#46039f"
             ],
             [
              0.2222222222222222,
              "#7201a8"
             ],
             [
              0.3333333333333333,
              "#9c179e"
             ],
             [
              0.4444444444444444,
              "#bd3786"
             ],
             [
              0.5555555555555556,
              "#d8576b"
             ],
             [
              0.6666666666666666,
              "#ed7953"
             ],
             [
              0.7777777777777778,
              "#fb9f3a"
             ],
             [
              0.8888888888888888,
              "#fdca26"
             ],
             [
              1,
              "#f0f921"
             ]
            ],
            "type": "surface"
           }
          ],
          "table": [
           {
            "cells": {
             "fill": {
              "color": "#EBF0F8"
             },
             "line": {
              "color": "white"
             }
            },
            "header": {
             "fill": {
              "color": "#C8D4E3"
             },
             "line": {
              "color": "white"
             }
            },
            "type": "table"
           }
          ]
         },
         "layout": {
          "annotationdefaults": {
           "arrowcolor": "#2a3f5f",
           "arrowhead": 0,
           "arrowwidth": 1
          },
          "autotypenumbers": "strict",
          "coloraxis": {
           "colorbar": {
            "outlinewidth": 0,
            "ticks": ""
           }
          },
          "colorscale": {
           "diverging": [
            [
             0,
             "#8e0152"
            ],
            [
             0.1,
             "#c51b7d"
            ],
            [
             0.2,
             "#de77ae"
            ],
            [
             0.3,
             "#f1b6da"
            ],
            [
             0.4,
             "#fde0ef"
            ],
            [
             0.5,
             "#f7f7f7"
            ],
            [
             0.6,
             "#e6f5d0"
            ],
            [
             0.7,
             "#b8e186"
            ],
            [
             0.8,
             "#7fbc41"
            ],
            [
             0.9,
             "#4d9221"
            ],
            [
             1,
             "#276419"
            ]
           ],
           "sequential": [
            [
             0,
             "#0d0887"
            ],
            [
             0.1111111111111111,
             "#46039f"
            ],
            [
             0.2222222222222222,
             "#7201a8"
            ],
            [
             0.3333333333333333,
             "#9c179e"
            ],
            [
             0.4444444444444444,
             "#bd3786"
            ],
            [
             0.5555555555555556,
             "#d8576b"
            ],
            [
             0.6666666666666666,
             "#ed7953"
            ],
            [
             0.7777777777777778,
             "#fb9f3a"
            ],
            [
             0.8888888888888888,
             "#fdca26"
            ],
            [
             1,
             "#f0f921"
            ]
           ],
           "sequentialminus": [
            [
             0,
             "#0d0887"
            ],
            [
             0.1111111111111111,
             "#46039f"
            ],
            [
             0.2222222222222222,
             "#7201a8"
            ],
            [
             0.3333333333333333,
             "#9c179e"
            ],
            [
             0.4444444444444444,
             "#bd3786"
            ],
            [
             0.5555555555555556,
             "#d8576b"
            ],
            [
             0.6666666666666666,
             "#ed7953"
            ],
            [
             0.7777777777777778,
             "#fb9f3a"
            ],
            [
             0.8888888888888888,
             "#fdca26"
            ],
            [
             1,
             "#f0f921"
            ]
           ]
          },
          "colorway": [
           "#636efa",
           "#EF553B",
           "#00cc96",
           "#ab63fa",
           "#FFA15A",
           "#19d3f3",
           "#FF6692",
           "#B6E880",
           "#FF97FF",
           "#FECB52"
          ],
          "font": {
           "color": "#2a3f5f"
          },
          "geo": {
           "bgcolor": "white",
           "lakecolor": "white",
           "landcolor": "#E5ECF6",
           "showlakes": true,
           "showland": true,
           "subunitcolor": "white"
          },
          "hoverlabel": {
           "align": "left"
          },
          "hovermode": "closest",
          "mapbox": {
           "style": "light"
          },
          "paper_bgcolor": "white",
          "plot_bgcolor": "#E5ECF6",
          "polar": {
           "angularaxis": {
            "gridcolor": "white",
            "linecolor": "white",
            "ticks": ""
           },
           "bgcolor": "#E5ECF6",
           "radialaxis": {
            "gridcolor": "white",
            "linecolor": "white",
            "ticks": ""
           }
          },
          "scene": {
           "xaxis": {
            "backgroundcolor": "#E5ECF6",
            "gridcolor": "white",
            "gridwidth": 2,
            "linecolor": "white",
            "showbackground": true,
            "ticks": "",
            "zerolinecolor": "white"
           },
           "yaxis": {
            "backgroundcolor": "#E5ECF6",
            "gridcolor": "white",
            "gridwidth": 2,
            "linecolor": "white",
            "showbackground": true,
            "ticks": "",
            "zerolinecolor": "white"
           },
           "zaxis": {
            "backgroundcolor": "#E5ECF6",
            "gridcolor": "white",
            "gridwidth": 2,
            "linecolor": "white",
            "showbackground": true,
            "ticks": "",
            "zerolinecolor": "white"
           }
          },
          "shapedefaults": {
           "line": {
            "color": "#2a3f5f"
           }
          },
          "ternary": {
           "aaxis": {
            "gridcolor": "white",
            "linecolor": "white",
            "ticks": ""
           },
           "baxis": {
            "gridcolor": "white",
            "linecolor": "white",
            "ticks": ""
           },
           "bgcolor": "#E5ECF6",
           "caxis": {
            "gridcolor": "white",
            "linecolor": "white",
            "ticks": ""
           }
          },
          "title": {
           "x": 0.05
          },
          "xaxis": {
           "automargin": true,
           "gridcolor": "white",
           "linecolor": "white",
           "ticks": "",
           "title": {
            "standoff": 15
           },
           "zerolinecolor": "white",
           "zerolinewidth": 2
          },
          "yaxis": {
           "automargin": true,
           "gridcolor": "white",
           "linecolor": "white",
           "ticks": "",
           "title": {
            "standoff": 15
           },
           "zerolinecolor": "white",
           "zerolinewidth": 2
          }
         }
        }
       }
      },
      "text/html": [
       "<div>                            <div id=\"64afbea9-341d-4749-a6b4-99e01854f3bf\" class=\"plotly-graph-div\" style=\"height:525px; width:100%;\"></div>            <script type=\"text/javascript\">                require([\"plotly\"], function(Plotly) {                    window.PLOTLYENV=window.PLOTLYENV || {};                                    if (document.getElementById(\"64afbea9-341d-4749-a6b4-99e01854f3bf\")) {                    Plotly.newPlot(                        \"64afbea9-341d-4749-a6b4-99e01854f3bf\",                        [{\"marker\":{\"color\":[2,2,2,2,2,2,2,2,2,2,2,2,2,2,2,2,2,2,2,2,2,2,2,2,2,2,2,2,2,2,2,2,2,2,2,2,2,2,2,2,2,2,2,2,2,2,2,2,2,2,2,2,2,2,2,2,2,2,2,0,1,1,0,0,0,2,2,0,1,0,1,2,0,2,0,0,0,1,0,0,0,0,0,1,0,0,0,0,0,0,0,0,0,0,0,0,1,0,0,0,0,0,0,0,0,0,0,0,0,0,0,0,0,0,0,0,0,0,1,0,0,2,0,0,0,0,0,0,0,0,1,1,1,1,1,1,1,1,1,1,1,1,1,1,1,1,1,1,1,1,1,1,1,1,1,1,1,1,1,1,1,1,1,1,1,1,1,1,1,1,1,1,1,1,1,1,1,1],\"size\":4},\"mode\":\"markers\",\"x\":[36.860084533691406,9.101459503173828,36.4383544921875,46.461517333984375,31.420299530029297,45.72907638549805,24.777381896972656,35.387481689453125,19.342449188232422,28.039691925048828,37.444725036621094,18.32956314086914,24.904136657714844,28.082735061645508,36.273014068603516,36.197059631347656,45.614540100097656,38.900123596191406,46.43353271484375,27.589759826660156,29.278928756713867,21.0318546295166,16.36202621459961,14.401638984680176,19.142654418945312,38.188262939453125,25.310789108276367,14.003009796142578,29.758102416992188,19.071441650390625,40.209041595458984,37.66572952270508,23.35202407836914,44.89194869995117,25.89418601989746,20.1948184967041,27.059030532836914,19.259031295776367,7.476024150848389,31.042753219604492,24.636077880859375,11.76223087310791,31.871204376220703,15.245133399963379,16.864307403564453,21.164846420288086,18.41997528076172,23.993268966674805,33.68164825439453,36.72365951538086,28.750228881835938,29.02080535888672,42.20505905151367,42.51741027832031,24.394821166992188,43.25320053100586,31.528406143188477,33.43989181518555,38.09937286376953,-12.758103370666504,2.1052751541137695,-6.243051052093506,0.2351241558790207,-7.545162200927734,10.017468452453613,14.505743026733398,-6.483982086181641,-2.2879183292388916,0.9351162910461426,12.590204238891602,-19.47025489807129,19.33095359802246,-20.426795959472656,40.56985855102539,-0.6417043805122375,-10.041301727294922,-6.564820289611816,-9.953737258911133,14.211633682250977,10.000849723815918,-1.666770100593567,2.2964437007904053,6.92576265335083,-18.46584701538086,6.213172435760498,3.717177152633667,8.389005661010742,8.609161376953125,-1.2309236526489258,-1.7836973667144775,-1.5835003852844238,0.020856134593486786,-5.846227645874023,-4.979858875274658,-8.826009750366211,20.311559677124023,-19.72202491760254,-7.168864727020264,-1.7447937726974487,17.029211044311523,-12.651820182800293,-12.158507347106934,0.3935852348804474,-18.558860778808594,-6.296140670776367,-7.287503242492676,-6.751175880432129,-8.77656364440918,-15.548783302307129,3.3670573234558105,-6.169232368469238,-12.485515594482422,11.054327011108398,7.665274620056152,1.180891990661621,17.806350708007812,-10.642609596252441,0.5861695408821106,-16.610029220581055,-15.609199523925781,-2.8923041820526123,34.01142120361328,4.657268524169922,8.951543807983398,-0.24972720444202423,-6.470875263214111,-8.830140113830566,4.726068496704102,-7.747524261474609,-16.324676513671875,-26.387451171875,-28.499162673950195,-35.45389938354492,-33.45055389404297,-8.234660148620605,-16.424415588378906,-31.042537689208984,-39.75971603393555,-20.829425811767578,-41.69371795654297,-32.5335693359375,-27.379243850708008,-39.56476593017578,-25.645414352416992,-27.74694061279297,-27.940366744995117,-27.01114845275879,-29.235794067382812,-30.811513900756836,-37.595523834228516,-44.803714752197266,-43.13353729248047,-47.44697189331055,-31.544729232788086,-14.793651580810547,-38.751522064208984,-36.42783737182617,-46.8271369934082,-50.66944885253906,-44.46805191040039,-23.182575225830078,-37.277366638183594,-36.5183219909668,-29.385009765625,-34.2999153137207,-27.82034683227539,-44.85395431518555,-26.199716567993164,-44.744789123535156,-51.93008041381836,-21.253236770629883,-21.316055297851562,-38.358436584472656,-36.687679290771484,-37.83369064331055,-35.524696350097656,-32.71494674682617,-45.64640426635742],\"y\":[36.459205627441406,16.92945671081543,-4.107269763946533,26.484642028808594,1.4808225631713867,17.239788055419922,13.105106353759766,21.128150939941406,18.50507926940918,21.779722213745117,8.537531852722168,5.755316257476807,8.701956748962402,13.717777252197266,16.906938552856445,12.207931518554688,6.182051658630371,3.8209474086761475,16.171218872070312,31.465848922729492,39.40354537963867,25.8336238861084,20.827136993408203,14.443939208984375,15.941367149353027,0.17548826336860657,14.784714698791504,8.804484367370605,10.230424880981445,18.453134536743164,-3.7409257888793945,11.512121200561523,-0.6292566657066345,9.001896858215332,9.293806076049805,21.77561378479004,0.8705606460571289,6.075868129730225,8.170578956604004,39.101680755615234,36.70973205566406,33.87355041503906,24.323566436767578,32.51790237426758,30.39371681213379,37.39080810546875,38.12116241455078,26.976043701171875,2.890946388244629,18.82769012451172,26.455228805541992,3.594547748565674,27.546466827392578,14.588388442993164,29.523990631103516,2.974377393722534,31.332242965698242,12.18567943572998,21.923385620117188,-3.225287437438965,-23.031869888305664,-25.502979278564453,-2.313547134399414,23.490734100341797,-13.958580017089844,0.5762365460395813,16.978872299194336,-2.7823657989501953,-26.531503677368164,-14.414752006530762,-12.881086349487305,13.0328369140625,10.64031982421875,-6.520359992980957,27.83174705505371,-6.551673412322998,4.255501747131348,-15.509763717651367,-14.482462882995605,13.994782447814941,5.982668876647949,13.20203685760498,-4.926675796508789,-15.831722259521484,17.084199905395508,4.625833034515381,-10.719993591308594,-10.970553398132324,-4.9710774421691895,-3.5300800800323486,-12.937249183654785,-13.224695205688477,-18.905757904052734,14.836861610412598,23.013280868530273,-15.799934387207031,-20.693931579589844,12.523324012756348,25.31756019592285,6.706233024597168,4.253476142883301,-3.304809093475342,13.509167671203613,3.4569714069366455,4.517164707183838,-14.68169116973877,-3.2175850868225098,-11.349082946777344,11.595049858093262,23.837610244750977,33.32765579223633,14.196173667907715,-21.678091049194336,-1.4971565008163452,4.328005790710449,-6.050197601318359,4.7049455642700195,5.4346699714660645,-15.712011337280273,-0.5994757413864136,20.614370346069336,-0.328047513961792,10.982643127441406,29.480106353759766,29.32076644897461,9.519792556762695,14.616645812988281,0.10185407102108002,5.206422805786133,-3.5179262161254883,-16.00248908996582,-20.96282196044922,-16.334850311279297,-23.153234481811523,-29.480501174926758,-28.7406063079834,-10.1299467086792,-13.373287200927734,-21.499481201171875,-6.209163188934326,-6.576850414276123,-12.610307693481445,-6.326925277709961,-12.747856140136719,-31.859987258911133,-20.949247360229492,-20.94734001159668,-29.477251052856445,-31.042951583862305,-29.933874130249023,-24.89310073852539,-33.5108757019043,-18.300352096557617,-43.09077072143555,-34.69937515258789,-28.82604217529297,-35.0263786315918,-16.150775909423828,-41.512481689453125,-44.80218505859375,-32.95919418334961,-15.10519027709961,-12.477286338806152,-21.980422973632812,-31.53786849975586,-20.827003479003906,-33.8815803527832,-33.93966293334961,-25.17378807067871,-28.23008155822754,-21.95578956604004,-38.79261779785156,-36.61306381225586,-23.32190704345703,-24.823348999023438,-39.16481399536133,-43.86781692504883,-29.343585968017578],\"z\":[12.299501419067383,21.52986717224121,20.160749435424805,12.654191017150879,-8.804105758666992,16.506776809692383,24.562822341918945,-2.6752405166625977,29.90074348449707,18.779613494873047,26.586084365844727,21.391332626342773,16.838863372802734,36.828582763671875,35.00539016723633,0.5343636274337769,7.5474467277526855,2.9233016967773438,25.57645034790039,1.806733250617981,14.129373550415039,-8.030406951904297,11.533679962158203,4.387208938598633,-2.8405814170837402,-12.798788070678711,9.453014373779297,14.051274299621582,-7.372771263122559,19.563663482666016,10.173327445983887,18.451181411743164,11.400666236877441,-4.141026020050049,1.4343206882476807,2.957278251647949,0.23275788128376007,5.683084964752197,18.522905349731445,2.4854204654693604,21.355819702148438,-2.8444621562957764,8.642546653747559,-9.517369270324707,19.104135513305664,-3.5961358547210693,7.822927474975586,23.821332931518555,14.46007251739502,24.05316734313965,33.14073944091797,23.897493362426758,21.157297134399414,5.172101020812988,12.575267791748047,17.738000869750977,18.146120071411133,8.881697654724121,14.240816116333008,23.285717010498047,0.8312191367149353,1.7143325805664062,18.19761085510254,10.416231155395508,-5.256850719451904,-1.3419116735458374,19.316675186157227,5.961362838745117,7.421614646911621,24.115074157714844,9.644641876220703,-11.86574935913086,-14.478935241699219,-5.257556915283203,3.4934418201446533,13.350360870361328,19.21596336364746,8.196645736694336,17.21893310546875,-23.906686782836914,10.271234512329102,4.591580390930176,-20.317380905151367,-20.928573608398438,-7.1920390129089355,2.570770263671875,-13.714423179626465,-25.246797561645508,-13.926039695739746,-23.05914306640625,-8.132040977478027,-17.05607032775879,-13.035158157348633,-1.563817024230957,0.8357923626899719,21.519821166992188,21.5308837890625,9.639047622680664,14.143412590026855,-23.205354690551758,11.725723266601562,4.412404537200928,-16.438817977905273,-0.3235169053077698,1.8659934997558594,-24.19834327697754,-3.8082756996154785,-14.689318656921387,0.5884121656417847,-7.178775310516357,-13.841805458068848,-9.530844688415527,-11.0274658203125,-11.044475555419922,-17.336997985839844,-18.186582565307617,-4.8188862800598145,-6.357632637023926,-4.493935585021973,-10.154435157775879,-12.351667404174805,-20.559799194335938,-29.402708053588867,-19.437084197998047,-18.445589065551758,-12.6572265625,-20.18405532836914,-31.684640884399414,-21.000850677490234,-19.88470458984375,17.520238876342773,10.26148509979248,9.393994331359863,15.819672584533691,-6.708090305328369,-7.55276346206665,-23.638004302978516,-23.922298431396484,-13.000930786132812,-12.361734390258789,-8.218417167663574,-0.00618774676695466,-3.8518970012664795,-14.441596984863281,7.812362194061279,-6.488003730773926,-28.621414184570312,-22.078229904174805,-11.927984237670898,5.613805770874023,9.866312026977539,11.561016082763672,4.966946125030518,-13.277915954589844,-0.8698128461837769,-26.090810775756836,-17.924509048461914,-14.324511528015137,-12.197793960571289,-13.597891807556152,-17.272249221801758,-4.847059726715088,-13.088592529296875,1.2523716688156128,-3.8108327388763428,-18.332130432128906,-1.6630995273590088,-3.395397424697876,-3.3982994556427,3.160308837890625,2.064781904220581,-8.558614730834961,-8.960681915283203,-19.96405601501465,-9.786012649536133,4.639728546142578,-2.502272129058838,-14.609158515930176],\"type\":\"scatter3d\"}],                        {\"template\":{\"data\":{\"histogram2dcontour\":[{\"type\":\"histogram2dcontour\",\"colorbar\":{\"outlinewidth\":0,\"ticks\":\"\"},\"colorscale\":[[0.0,\"#0d0887\"],[0.1111111111111111,\"#46039f\"],[0.2222222222222222,\"#7201a8\"],[0.3333333333333333,\"#9c179e\"],[0.4444444444444444,\"#bd3786\"],[0.5555555555555556,\"#d8576b\"],[0.6666666666666666,\"#ed7953\"],[0.7777777777777778,\"#fb9f3a\"],[0.8888888888888888,\"#fdca26\"],[1.0,\"#f0f921\"]]}],\"choropleth\":[{\"type\":\"choropleth\",\"colorbar\":{\"outlinewidth\":0,\"ticks\":\"\"}}],\"histogram2d\":[{\"type\":\"histogram2d\",\"colorbar\":{\"outlinewidth\":0,\"ticks\":\"\"},\"colorscale\":[[0.0,\"#0d0887\"],[0.1111111111111111,\"#46039f\"],[0.2222222222222222,\"#7201a8\"],[0.3333333333333333,\"#9c179e\"],[0.4444444444444444,\"#bd3786\"],[0.5555555555555556,\"#d8576b\"],[0.6666666666666666,\"#ed7953\"],[0.7777777777777778,\"#fb9f3a\"],[0.8888888888888888,\"#fdca26\"],[1.0,\"#f0f921\"]]}],\"heatmap\":[{\"type\":\"heatmap\",\"colorbar\":{\"outlinewidth\":0,\"ticks\":\"\"},\"colorscale\":[[0.0,\"#0d0887\"],[0.1111111111111111,\"#46039f\"],[0.2222222222222222,\"#7201a8\"],[0.3333333333333333,\"#9c179e\"],[0.4444444444444444,\"#bd3786\"],[0.5555555555555556,\"#d8576b\"],[0.6666666666666666,\"#ed7953\"],[0.7777777777777778,\"#fb9f3a\"],[0.8888888888888888,\"#fdca26\"],[1.0,\"#f0f921\"]]}],\"heatmapgl\":[{\"type\":\"heatmapgl\",\"colorbar\":{\"outlinewidth\":0,\"ticks\":\"\"},\"colorscale\":[[0.0,\"#0d0887\"],[0.1111111111111111,\"#46039f\"],[0.2222222222222222,\"#7201a8\"],[0.3333333333333333,\"#9c179e\"],[0.4444444444444444,\"#bd3786\"],[0.5555555555555556,\"#d8576b\"],[0.6666666666666666,\"#ed7953\"],[0.7777777777777778,\"#fb9f3a\"],[0.8888888888888888,\"#fdca26\"],[1.0,\"#f0f921\"]]}],\"contourcarpet\":[{\"type\":\"contourcarpet\",\"colorbar\":{\"outlinewidth\":0,\"ticks\":\"\"}}],\"contour\":[{\"type\":\"contour\",\"colorbar\":{\"outlinewidth\":0,\"ticks\":\"\"},\"colorscale\":[[0.0,\"#0d0887\"],[0.1111111111111111,\"#46039f\"],[0.2222222222222222,\"#7201a8\"],[0.3333333333333333,\"#9c179e\"],[0.4444444444444444,\"#bd3786\"],[0.5555555555555556,\"#d8576b\"],[0.6666666666666666,\"#ed7953\"],[0.7777777777777778,\"#fb9f3a\"],[0.8888888888888888,\"#fdca26\"],[1.0,\"#f0f921\"]]}],\"surface\":[{\"type\":\"surface\",\"colorbar\":{\"outlinewidth\":0,\"ticks\":\"\"},\"colorscale\":[[0.0,\"#0d0887\"],[0.1111111111111111,\"#46039f\"],[0.2222222222222222,\"#7201a8\"],[0.3333333333333333,\"#9c179e\"],[0.4444444444444444,\"#bd3786\"],[0.5555555555555556,\"#d8576b\"],[0.6666666666666666,\"#ed7953\"],[0.7777777777777778,\"#fb9f3a\"],[0.8888888888888888,\"#fdca26\"],[1.0,\"#f0f921\"]]}],\"mesh3d\":[{\"type\":\"mesh3d\",\"colorbar\":{\"outlinewidth\":0,\"ticks\":\"\"}}],\"scatter\":[{\"fillpattern\":{\"fillmode\":\"overlay\",\"size\":10,\"solidity\":0.2},\"type\":\"scatter\"}],\"parcoords\":[{\"type\":\"parcoords\",\"line\":{\"colorbar\":{\"outlinewidth\":0,\"ticks\":\"\"}}}],\"scatterpolargl\":[{\"type\":\"scatterpolargl\",\"marker\":{\"colorbar\":{\"outlinewidth\":0,\"ticks\":\"\"}}}],\"bar\":[{\"error_x\":{\"color\":\"#2a3f5f\"},\"error_y\":{\"color\":\"#2a3f5f\"},\"marker\":{\"line\":{\"color\":\"#E5ECF6\",\"width\":0.5},\"pattern\":{\"fillmode\":\"overlay\",\"size\":10,\"solidity\":0.2}},\"type\":\"bar\"}],\"scattergeo\":[{\"type\":\"scattergeo\",\"marker\":{\"colorbar\":{\"outlinewidth\":0,\"ticks\":\"\"}}}],\"scatterpolar\":[{\"type\":\"scatterpolar\",\"marker\":{\"colorbar\":{\"outlinewidth\":0,\"ticks\":\"\"}}}],\"histogram\":[{\"marker\":{\"pattern\":{\"fillmode\":\"overlay\",\"size\":10,\"solidity\":0.2}},\"type\":\"histogram\"}],\"scattergl\":[{\"type\":\"scattergl\",\"marker\":{\"colorbar\":{\"outlinewidth\":0,\"ticks\":\"\"}}}],\"scatter3d\":[{\"type\":\"scatter3d\",\"line\":{\"colorbar\":{\"outlinewidth\":0,\"ticks\":\"\"}},\"marker\":{\"colorbar\":{\"outlinewidth\":0,\"ticks\":\"\"}}}],\"scattermapbox\":[{\"type\":\"scattermapbox\",\"marker\":{\"colorbar\":{\"outlinewidth\":0,\"ticks\":\"\"}}}],\"scatterternary\":[{\"type\":\"scatterternary\",\"marker\":{\"colorbar\":{\"outlinewidth\":0,\"ticks\":\"\"}}}],\"scattercarpet\":[{\"type\":\"scattercarpet\",\"marker\":{\"colorbar\":{\"outlinewidth\":0,\"ticks\":\"\"}}}],\"carpet\":[{\"aaxis\":{\"endlinecolor\":\"#2a3f5f\",\"gridcolor\":\"white\",\"linecolor\":\"white\",\"minorgridcolor\":\"white\",\"startlinecolor\":\"#2a3f5f\"},\"baxis\":{\"endlinecolor\":\"#2a3f5f\",\"gridcolor\":\"white\",\"linecolor\":\"white\",\"minorgridcolor\":\"white\",\"startlinecolor\":\"#2a3f5f\"},\"type\":\"carpet\"}],\"table\":[{\"cells\":{\"fill\":{\"color\":\"#EBF0F8\"},\"line\":{\"color\":\"white\"}},\"header\":{\"fill\":{\"color\":\"#C8D4E3\"},\"line\":{\"color\":\"white\"}},\"type\":\"table\"}],\"barpolar\":[{\"marker\":{\"line\":{\"color\":\"#E5ECF6\",\"width\":0.5},\"pattern\":{\"fillmode\":\"overlay\",\"size\":10,\"solidity\":0.2}},\"type\":\"barpolar\"}],\"pie\":[{\"automargin\":true,\"type\":\"pie\"}]},\"layout\":{\"autotypenumbers\":\"strict\",\"colorway\":[\"#636efa\",\"#EF553B\",\"#00cc96\",\"#ab63fa\",\"#FFA15A\",\"#19d3f3\",\"#FF6692\",\"#B6E880\",\"#FF97FF\",\"#FECB52\"],\"font\":{\"color\":\"#2a3f5f\"},\"hovermode\":\"closest\",\"hoverlabel\":{\"align\":\"left\"},\"paper_bgcolor\":\"white\",\"plot_bgcolor\":\"#E5ECF6\",\"polar\":{\"bgcolor\":\"#E5ECF6\",\"angularaxis\":{\"gridcolor\":\"white\",\"linecolor\":\"white\",\"ticks\":\"\"},\"radialaxis\":{\"gridcolor\":\"white\",\"linecolor\":\"white\",\"ticks\":\"\"}},\"ternary\":{\"bgcolor\":\"#E5ECF6\",\"aaxis\":{\"gridcolor\":\"white\",\"linecolor\":\"white\",\"ticks\":\"\"},\"baxis\":{\"gridcolor\":\"white\",\"linecolor\":\"white\",\"ticks\":\"\"},\"caxis\":{\"gridcolor\":\"white\",\"linecolor\":\"white\",\"ticks\":\"\"}},\"coloraxis\":{\"colorbar\":{\"outlinewidth\":0,\"ticks\":\"\"}},\"colorscale\":{\"sequential\":[[0.0,\"#0d0887\"],[0.1111111111111111,\"#46039f\"],[0.2222222222222222,\"#7201a8\"],[0.3333333333333333,\"#9c179e\"],[0.4444444444444444,\"#bd3786\"],[0.5555555555555556,\"#d8576b\"],[0.6666666666666666,\"#ed7953\"],[0.7777777777777778,\"#fb9f3a\"],[0.8888888888888888,\"#fdca26\"],[1.0,\"#f0f921\"]],\"sequentialminus\":[[0.0,\"#0d0887\"],[0.1111111111111111,\"#46039f\"],[0.2222222222222222,\"#7201a8\"],[0.3333333333333333,\"#9c179e\"],[0.4444444444444444,\"#bd3786\"],[0.5555555555555556,\"#d8576b\"],[0.6666666666666666,\"#ed7953\"],[0.7777777777777778,\"#fb9f3a\"],[0.8888888888888888,\"#fdca26\"],[1.0,\"#f0f921\"]],\"diverging\":[[0,\"#8e0152\"],[0.1,\"#c51b7d\"],[0.2,\"#de77ae\"],[0.3,\"#f1b6da\"],[0.4,\"#fde0ef\"],[0.5,\"#f7f7f7\"],[0.6,\"#e6f5d0\"],[0.7,\"#b8e186\"],[0.8,\"#7fbc41\"],[0.9,\"#4d9221\"],[1,\"#276419\"]]},\"xaxis\":{\"gridcolor\":\"white\",\"linecolor\":\"white\",\"ticks\":\"\",\"title\":{\"standoff\":15},\"zerolinecolor\":\"white\",\"automargin\":true,\"zerolinewidth\":2},\"yaxis\":{\"gridcolor\":\"white\",\"linecolor\":\"white\",\"ticks\":\"\",\"title\":{\"standoff\":15},\"zerolinecolor\":\"white\",\"automargin\":true,\"zerolinewidth\":2},\"scene\":{\"xaxis\":{\"backgroundcolor\":\"#E5ECF6\",\"gridcolor\":\"white\",\"linecolor\":\"white\",\"showbackground\":true,\"ticks\":\"\",\"zerolinecolor\":\"white\",\"gridwidth\":2},\"yaxis\":{\"backgroundcolor\":\"#E5ECF6\",\"gridcolor\":\"white\",\"linecolor\":\"white\",\"showbackground\":true,\"ticks\":\"\",\"zerolinecolor\":\"white\",\"gridwidth\":2},\"zaxis\":{\"backgroundcolor\":\"#E5ECF6\",\"gridcolor\":\"white\",\"linecolor\":\"white\",\"showbackground\":true,\"ticks\":\"\",\"zerolinecolor\":\"white\",\"gridwidth\":2}},\"shapedefaults\":{\"line\":{\"color\":\"#2a3f5f\"}},\"annotationdefaults\":{\"arrowcolor\":\"#2a3f5f\",\"arrowhead\":0,\"arrowwidth\":1},\"geo\":{\"bgcolor\":\"white\",\"landcolor\":\"#E5ECF6\",\"subunitcolor\":\"white\",\"showland\":true,\"showlakes\":true,\"lakecolor\":\"white\"},\"title\":{\"x\":0.05},\"mapbox\":{\"style\":\"light\"}}}},                        {\"responsive\": true}                    ).then(function(){\n",
       "                            \n",
       "var gd = document.getElementById('64afbea9-341d-4749-a6b4-99e01854f3bf');\n",
       "var x = new MutationObserver(function (mutations, observer) {{\n",
       "        var display = window.getComputedStyle(gd).display;\n",
       "        if (!display || display === 'none') {{\n",
       "            console.log([gd, 'removed!']);\n",
       "            Plotly.purge(gd);\n",
       "            observer.disconnect();\n",
       "        }}\n",
       "}});\n",
       "\n",
       "// Listen for the removal of the full notebook cells\n",
       "var notebookContainer = gd.closest('#notebook-container');\n",
       "if (notebookContainer) {{\n",
       "    x.observe(notebookContainer, {childList: true});\n",
       "}}\n",
       "\n",
       "// Listen for the clearing of the current output cell\n",
       "var outputEl = gd.closest('.output');\n",
       "if (outputEl) {{\n",
       "    x.observe(outputEl, {childList: true});\n",
       "}}\n",
       "\n",
       "                        })                };                });            </script>        </div>"
      ]
     },
     "metadata": {},
     "output_type": "display_data"
    }
   ],
   "source": [
    "fig = go.Figure(data=[go.Scatter3d(x=tsne3D_df['x'], y=tsne3D_df['y'], z=tsne3D_df['z'],\n",
    "                                   mode='markers', marker_color=model2.labels_, marker_size = 4)])\n",
    "fig.show()"
   ]
  },
  {
   "cell_type": "code",
   "execution_count": 40,
   "id": "c68580b3",
   "metadata": {},
   "outputs": [],
   "source": [
    "model3 = DBSCAN(eps=1.06, min_samples=10).fit(reduced_X)"
   ]
  },
  {
   "cell_type": "code",
   "execution_count": 41,
   "id": "36ae8ade",
   "metadata": {},
   "outputs": [
    {
     "data": {
      "text/plain": [
       "array([ 0, -1,  0,  0, -1,  0,  0,  0,  0,  0,  0,  0,  0,  0, -1,  0,  0,\n",
       "        0,  0,  0,  0,  0,  0,  0,  0, -1,  0, -1,  0,  0,  0,  0,  0,  0,\n",
       "        0,  0,  0,  0, -1,  0,  0,  0,  0,  0,  0,  0,  0,  0,  0,  0,  0,\n",
       "        0,  0,  0,  0,  0,  0,  0,  0, -1, -1, -1, -1,  1,  1,  1, -1,  1,\n",
       "       -1, -1,  1, -1,  1, -1,  1, -1, -1,  1, -1,  1, -1,  1,  1,  2,  1,\n",
       "        1,  1,  1,  1,  1,  1,  1,  1,  1,  1,  0,  1,  1,  1,  1,  1,  1,\n",
       "        1,  1,  1,  1,  1,  1,  1, -1,  1,  1, -1,  1,  1, -1,  1,  1, -1,\n",
       "        1,  1, -1, -1,  1,  1,  1,  1, -1,  1,  1,  2,  2,  2,  2,  2,  2,\n",
       "        2, -1,  2, -1,  2,  2, -1,  2,  2,  2, -1,  2,  2,  2,  2,  2, -1,\n",
       "        2,  2,  2,  2, -1, -1, -1,  2,  2,  2,  2,  2,  2,  2,  2,  2, -1,\n",
       "        2,  2,  2,  2,  2,  2,  2, -1], dtype=int64)"
      ]
     },
     "execution_count": 41,
     "metadata": {},
     "output_type": "execute_result"
    }
   ],
   "source": [
    "model3.labels_"
   ]
  },
  {
   "cell_type": "code",
   "execution_count": 42,
   "id": "3a543c19",
   "metadata": {},
   "outputs": [
    {
     "data": {
      "application/vnd.plotly.v1+json": {
       "config": {
        "plotlyServerURL": "https://plot.ly"
       },
       "data": [
        {
         "marker": {
          "color": [
           0,
           -1,
           0,
           0,
           -1,
           0,
           0,
           0,
           0,
           0,
           0,
           0,
           0,
           0,
           -1,
           0,
           0,
           0,
           0,
           0,
           0,
           0,
           0,
           0,
           0,
           -1,
           0,
           -1,
           0,
           0,
           0,
           0,
           0,
           0,
           0,
           0,
           0,
           0,
           -1,
           0,
           0,
           0,
           0,
           0,
           0,
           0,
           0,
           0,
           0,
           0,
           0,
           0,
           0,
           0,
           0,
           0,
           0,
           0,
           0,
           -1,
           -1,
           -1,
           -1,
           1,
           1,
           1,
           -1,
           1,
           -1,
           -1,
           1,
           -1,
           1,
           -1,
           1,
           -1,
           -1,
           1,
           -1,
           1,
           -1,
           1,
           1,
           2,
           1,
           1,
           1,
           1,
           1,
           1,
           1,
           1,
           1,
           1,
           1,
           0,
           1,
           1,
           1,
           1,
           1,
           1,
           1,
           1,
           1,
           1,
           1,
           1,
           1,
           -1,
           1,
           1,
           -1,
           1,
           1,
           -1,
           1,
           1,
           -1,
           1,
           1,
           -1,
           -1,
           1,
           1,
           1,
           1,
           -1,
           1,
           1,
           2,
           2,
           2,
           2,
           2,
           2,
           2,
           -1,
           2,
           -1,
           2,
           2,
           -1,
           2,
           2,
           2,
           -1,
           2,
           2,
           2,
           2,
           2,
           -1,
           2,
           2,
           2,
           2,
           -1,
           -1,
           -1,
           2,
           2,
           2,
           2,
           2,
           2,
           2,
           2,
           2,
           -1,
           2,
           2,
           2,
           2,
           2,
           2,
           2,
           -1
          ],
          "size": 4
         },
         "mode": "markers",
         "type": "scatter3d",
         "x": [
          36.860084533691406,
          9.101459503173828,
          36.4383544921875,
          46.461517333984375,
          31.420299530029297,
          45.72907638549805,
          24.777381896972656,
          35.387481689453125,
          19.342449188232422,
          28.039691925048828,
          37.444725036621094,
          18.32956314086914,
          24.904136657714844,
          28.082735061645508,
          36.273014068603516,
          36.197059631347656,
          45.614540100097656,
          38.900123596191406,
          46.43353271484375,
          27.589759826660156,
          29.278928756713867,
          21.0318546295166,
          16.36202621459961,
          14.401638984680176,
          19.142654418945312,
          38.188262939453125,
          25.310789108276367,
          14.003009796142578,
          29.758102416992188,
          19.071441650390625,
          40.209041595458984,
          37.66572952270508,
          23.35202407836914,
          44.89194869995117,
          25.89418601989746,
          20.1948184967041,
          27.059030532836914,
          19.259031295776367,
          7.476024150848389,
          31.042753219604492,
          24.636077880859375,
          11.76223087310791,
          31.871204376220703,
          15.245133399963379,
          16.864307403564453,
          21.164846420288086,
          18.41997528076172,
          23.993268966674805,
          33.68164825439453,
          36.72365951538086,
          28.750228881835938,
          29.02080535888672,
          42.20505905151367,
          42.51741027832031,
          24.394821166992188,
          43.25320053100586,
          31.528406143188477,
          33.43989181518555,
          38.09937286376953,
          -12.758103370666504,
          2.1052751541137695,
          -6.243051052093506,
          0.2351241558790207,
          -7.545162200927734,
          10.017468452453613,
          14.505743026733398,
          -6.483982086181641,
          -2.2879183292388916,
          0.9351162910461426,
          12.590204238891602,
          -19.47025489807129,
          19.33095359802246,
          -20.426795959472656,
          40.56985855102539,
          -0.6417043805122375,
          -10.041301727294922,
          -6.564820289611816,
          -9.953737258911133,
          14.211633682250977,
          10.000849723815918,
          -1.666770100593567,
          2.2964437007904053,
          6.92576265335083,
          -18.46584701538086,
          6.213172435760498,
          3.717177152633667,
          8.389005661010742,
          8.609161376953125,
          -1.2309236526489258,
          -1.7836973667144775,
          -1.5835003852844238,
          0.020856134593486786,
          -5.846227645874023,
          -4.979858875274658,
          -8.826009750366211,
          20.311559677124023,
          -19.72202491760254,
          -7.168864727020264,
          -1.7447937726974487,
          17.029211044311523,
          -12.651820182800293,
          -12.158507347106934,
          0.3935852348804474,
          -18.558860778808594,
          -6.296140670776367,
          -7.287503242492676,
          -6.751175880432129,
          -8.77656364440918,
          -15.548783302307129,
          3.3670573234558105,
          -6.169232368469238,
          -12.485515594482422,
          11.054327011108398,
          7.665274620056152,
          1.180891990661621,
          17.806350708007812,
          -10.642609596252441,
          0.5861695408821106,
          -16.610029220581055,
          -15.609199523925781,
          -2.8923041820526123,
          34.01142120361328,
          4.657268524169922,
          8.951543807983398,
          -0.24972720444202423,
          -6.470875263214111,
          -8.830140113830566,
          4.726068496704102,
          -7.747524261474609,
          -16.324676513671875,
          -26.387451171875,
          -28.499162673950195,
          -35.45389938354492,
          -33.45055389404297,
          -8.234660148620605,
          -16.424415588378906,
          -31.042537689208984,
          -39.75971603393555,
          -20.829425811767578,
          -41.69371795654297,
          -32.5335693359375,
          -27.379243850708008,
          -39.56476593017578,
          -25.645414352416992,
          -27.74694061279297,
          -27.940366744995117,
          -27.01114845275879,
          -29.235794067382812,
          -30.811513900756836,
          -37.595523834228516,
          -44.803714752197266,
          -43.13353729248047,
          -47.44697189331055,
          -31.544729232788086,
          -14.793651580810547,
          -38.751522064208984,
          -36.42783737182617,
          -46.8271369934082,
          -50.66944885253906,
          -44.46805191040039,
          -23.182575225830078,
          -37.277366638183594,
          -36.5183219909668,
          -29.385009765625,
          -34.2999153137207,
          -27.82034683227539,
          -44.85395431518555,
          -26.199716567993164,
          -44.744789123535156,
          -51.93008041381836,
          -21.253236770629883,
          -21.316055297851562,
          -38.358436584472656,
          -36.687679290771484,
          -37.83369064331055,
          -35.524696350097656,
          -32.71494674682617,
          -45.64640426635742
         ],
         "y": [
          36.459205627441406,
          16.92945671081543,
          -4.107269763946533,
          26.484642028808594,
          1.4808225631713867,
          17.239788055419922,
          13.105106353759766,
          21.128150939941406,
          18.50507926940918,
          21.779722213745117,
          8.537531852722168,
          5.755316257476807,
          8.701956748962402,
          13.717777252197266,
          16.906938552856445,
          12.207931518554688,
          6.182051658630371,
          3.8209474086761475,
          16.171218872070312,
          31.465848922729492,
          39.40354537963867,
          25.8336238861084,
          20.827136993408203,
          14.443939208984375,
          15.941367149353027,
          0.17548826336860657,
          14.784714698791504,
          8.804484367370605,
          10.230424880981445,
          18.453134536743164,
          -3.7409257888793945,
          11.512121200561523,
          -0.6292566657066345,
          9.001896858215332,
          9.293806076049805,
          21.77561378479004,
          0.8705606460571289,
          6.075868129730225,
          8.170578956604004,
          39.101680755615234,
          36.70973205566406,
          33.87355041503906,
          24.323566436767578,
          32.51790237426758,
          30.39371681213379,
          37.39080810546875,
          38.12116241455078,
          26.976043701171875,
          2.890946388244629,
          18.82769012451172,
          26.455228805541992,
          3.594547748565674,
          27.546466827392578,
          14.588388442993164,
          29.523990631103516,
          2.974377393722534,
          31.332242965698242,
          12.18567943572998,
          21.923385620117188,
          -3.225287437438965,
          -23.031869888305664,
          -25.502979278564453,
          -2.313547134399414,
          23.490734100341797,
          -13.958580017089844,
          0.5762365460395813,
          16.978872299194336,
          -2.7823657989501953,
          -26.531503677368164,
          -14.414752006530762,
          -12.881086349487305,
          13.0328369140625,
          10.64031982421875,
          -6.520359992980957,
          27.83174705505371,
          -6.551673412322998,
          4.255501747131348,
          -15.509763717651367,
          -14.482462882995605,
          13.994782447814941,
          5.982668876647949,
          13.20203685760498,
          -4.926675796508789,
          -15.831722259521484,
          17.084199905395508,
          4.625833034515381,
          -10.719993591308594,
          -10.970553398132324,
          -4.9710774421691895,
          -3.5300800800323486,
          -12.937249183654785,
          -13.224695205688477,
          -18.905757904052734,
          14.836861610412598,
          23.013280868530273,
          -15.799934387207031,
          -20.693931579589844,
          12.523324012756348,
          25.31756019592285,
          6.706233024597168,
          4.253476142883301,
          -3.304809093475342,
          13.509167671203613,
          3.4569714069366455,
          4.517164707183838,
          -14.68169116973877,
          -3.2175850868225098,
          -11.349082946777344,
          11.595049858093262,
          23.837610244750977,
          33.32765579223633,
          14.196173667907715,
          -21.678091049194336,
          -1.4971565008163452,
          4.328005790710449,
          -6.050197601318359,
          4.7049455642700195,
          5.4346699714660645,
          -15.712011337280273,
          -0.5994757413864136,
          20.614370346069336,
          -0.328047513961792,
          10.982643127441406,
          29.480106353759766,
          29.32076644897461,
          9.519792556762695,
          14.616645812988281,
          0.10185407102108002,
          5.206422805786133,
          -3.5179262161254883,
          -16.00248908996582,
          -20.96282196044922,
          -16.334850311279297,
          -23.153234481811523,
          -29.480501174926758,
          -28.7406063079834,
          -10.1299467086792,
          -13.373287200927734,
          -21.499481201171875,
          -6.209163188934326,
          -6.576850414276123,
          -12.610307693481445,
          -6.326925277709961,
          -12.747856140136719,
          -31.859987258911133,
          -20.949247360229492,
          -20.94734001159668,
          -29.477251052856445,
          -31.042951583862305,
          -29.933874130249023,
          -24.89310073852539,
          -33.5108757019043,
          -18.300352096557617,
          -43.09077072143555,
          -34.69937515258789,
          -28.82604217529297,
          -35.0263786315918,
          -16.150775909423828,
          -41.512481689453125,
          -44.80218505859375,
          -32.95919418334961,
          -15.10519027709961,
          -12.477286338806152,
          -21.980422973632812,
          -31.53786849975586,
          -20.827003479003906,
          -33.8815803527832,
          -33.93966293334961,
          -25.17378807067871,
          -28.23008155822754,
          -21.95578956604004,
          -38.79261779785156,
          -36.61306381225586,
          -23.32190704345703,
          -24.823348999023438,
          -39.16481399536133,
          -43.86781692504883,
          -29.343585968017578
         ],
         "z": [
          12.299501419067383,
          21.52986717224121,
          20.160749435424805,
          12.654191017150879,
          -8.804105758666992,
          16.506776809692383,
          24.562822341918945,
          -2.6752405166625977,
          29.90074348449707,
          18.779613494873047,
          26.586084365844727,
          21.391332626342773,
          16.838863372802734,
          36.828582763671875,
          35.00539016723633,
          0.5343636274337769,
          7.5474467277526855,
          2.9233016967773438,
          25.57645034790039,
          1.806733250617981,
          14.129373550415039,
          -8.030406951904297,
          11.533679962158203,
          4.387208938598633,
          -2.8405814170837402,
          -12.798788070678711,
          9.453014373779297,
          14.051274299621582,
          -7.372771263122559,
          19.563663482666016,
          10.173327445983887,
          18.451181411743164,
          11.400666236877441,
          -4.141026020050049,
          1.4343206882476807,
          2.957278251647949,
          0.23275788128376007,
          5.683084964752197,
          18.522905349731445,
          2.4854204654693604,
          21.355819702148438,
          -2.8444621562957764,
          8.642546653747559,
          -9.517369270324707,
          19.104135513305664,
          -3.5961358547210693,
          7.822927474975586,
          23.821332931518555,
          14.46007251739502,
          24.05316734313965,
          33.14073944091797,
          23.897493362426758,
          21.157297134399414,
          5.172101020812988,
          12.575267791748047,
          17.738000869750977,
          18.146120071411133,
          8.881697654724121,
          14.240816116333008,
          23.285717010498047,
          0.8312191367149353,
          1.7143325805664062,
          18.19761085510254,
          10.416231155395508,
          -5.256850719451904,
          -1.3419116735458374,
          19.316675186157227,
          5.961362838745117,
          7.421614646911621,
          24.115074157714844,
          9.644641876220703,
          -11.86574935913086,
          -14.478935241699219,
          -5.257556915283203,
          3.4934418201446533,
          13.350360870361328,
          19.21596336364746,
          8.196645736694336,
          17.21893310546875,
          -23.906686782836914,
          10.271234512329102,
          4.591580390930176,
          -20.317380905151367,
          -20.928573608398438,
          -7.1920390129089355,
          2.570770263671875,
          -13.714423179626465,
          -25.246797561645508,
          -13.926039695739746,
          -23.05914306640625,
          -8.132040977478027,
          -17.05607032775879,
          -13.035158157348633,
          -1.563817024230957,
          0.8357923626899719,
          21.519821166992188,
          21.5308837890625,
          9.639047622680664,
          14.143412590026855,
          -23.205354690551758,
          11.725723266601562,
          4.412404537200928,
          -16.438817977905273,
          -0.3235169053077698,
          1.8659934997558594,
          -24.19834327697754,
          -3.8082756996154785,
          -14.689318656921387,
          0.5884121656417847,
          -7.178775310516357,
          -13.841805458068848,
          -9.530844688415527,
          -11.0274658203125,
          -11.044475555419922,
          -17.336997985839844,
          -18.186582565307617,
          -4.8188862800598145,
          -6.357632637023926,
          -4.493935585021973,
          -10.154435157775879,
          -12.351667404174805,
          -20.559799194335938,
          -29.402708053588867,
          -19.437084197998047,
          -18.445589065551758,
          -12.6572265625,
          -20.18405532836914,
          -31.684640884399414,
          -21.000850677490234,
          -19.88470458984375,
          17.520238876342773,
          10.26148509979248,
          9.393994331359863,
          15.819672584533691,
          -6.708090305328369,
          -7.55276346206665,
          -23.638004302978516,
          -23.922298431396484,
          -13.000930786132812,
          -12.361734390258789,
          -8.218417167663574,
          -0.00618774676695466,
          -3.8518970012664795,
          -14.441596984863281,
          7.812362194061279,
          -6.488003730773926,
          -28.621414184570312,
          -22.078229904174805,
          -11.927984237670898,
          5.613805770874023,
          9.866312026977539,
          11.561016082763672,
          4.966946125030518,
          -13.277915954589844,
          -0.8698128461837769,
          -26.090810775756836,
          -17.924509048461914,
          -14.324511528015137,
          -12.197793960571289,
          -13.597891807556152,
          -17.272249221801758,
          -4.847059726715088,
          -13.088592529296875,
          1.2523716688156128,
          -3.8108327388763428,
          -18.332130432128906,
          -1.6630995273590088,
          -3.395397424697876,
          -3.3982994556427,
          3.160308837890625,
          2.064781904220581,
          -8.558614730834961,
          -8.960681915283203,
          -19.96405601501465,
          -9.786012649536133,
          4.639728546142578,
          -2.502272129058838,
          -14.609158515930176
         ]
        }
       ],
       "layout": {
        "template": {
         "data": {
          "bar": [
           {
            "error_x": {
             "color": "#2a3f5f"
            },
            "error_y": {
             "color": "#2a3f5f"
            },
            "marker": {
             "line": {
              "color": "#E5ECF6",
              "width": 0.5
             },
             "pattern": {
              "fillmode": "overlay",
              "size": 10,
              "solidity": 0.2
             }
            },
            "type": "bar"
           }
          ],
          "barpolar": [
           {
            "marker": {
             "line": {
              "color": "#E5ECF6",
              "width": 0.5
             },
             "pattern": {
              "fillmode": "overlay",
              "size": 10,
              "solidity": 0.2
             }
            },
            "type": "barpolar"
           }
          ],
          "carpet": [
           {
            "aaxis": {
             "endlinecolor": "#2a3f5f",
             "gridcolor": "white",
             "linecolor": "white",
             "minorgridcolor": "white",
             "startlinecolor": "#2a3f5f"
            },
            "baxis": {
             "endlinecolor": "#2a3f5f",
             "gridcolor": "white",
             "linecolor": "white",
             "minorgridcolor": "white",
             "startlinecolor": "#2a3f5f"
            },
            "type": "carpet"
           }
          ],
          "choropleth": [
           {
            "colorbar": {
             "outlinewidth": 0,
             "ticks": ""
            },
            "type": "choropleth"
           }
          ],
          "contour": [
           {
            "colorbar": {
             "outlinewidth": 0,
             "ticks": ""
            },
            "colorscale": [
             [
              0,
              "#0d0887"
             ],
             [
              0.1111111111111111,
              "#46039f"
             ],
             [
              0.2222222222222222,
              "#7201a8"
             ],
             [
              0.3333333333333333,
              "#9c179e"
             ],
             [
              0.4444444444444444,
              "#bd3786"
             ],
             [
              0.5555555555555556,
              "#d8576b"
             ],
             [
              0.6666666666666666,
              "#ed7953"
             ],
             [
              0.7777777777777778,
              "#fb9f3a"
             ],
             [
              0.8888888888888888,
              "#fdca26"
             ],
             [
              1,
              "#f0f921"
             ]
            ],
            "type": "contour"
           }
          ],
          "contourcarpet": [
           {
            "colorbar": {
             "outlinewidth": 0,
             "ticks": ""
            },
            "type": "contourcarpet"
           }
          ],
          "heatmap": [
           {
            "colorbar": {
             "outlinewidth": 0,
             "ticks": ""
            },
            "colorscale": [
             [
              0,
              "#0d0887"
             ],
             [
              0.1111111111111111,
              "#46039f"
             ],
             [
              0.2222222222222222,
              "#7201a8"
             ],
             [
              0.3333333333333333,
              "#9c179e"
             ],
             [
              0.4444444444444444,
              "#bd3786"
             ],
             [
              0.5555555555555556,
              "#d8576b"
             ],
             [
              0.6666666666666666,
              "#ed7953"
             ],
             [
              0.7777777777777778,
              "#fb9f3a"
             ],
             [
              0.8888888888888888,
              "#fdca26"
             ],
             [
              1,
              "#f0f921"
             ]
            ],
            "type": "heatmap"
           }
          ],
          "heatmapgl": [
           {
            "colorbar": {
             "outlinewidth": 0,
             "ticks": ""
            },
            "colorscale": [
             [
              0,
              "#0d0887"
             ],
             [
              0.1111111111111111,
              "#46039f"
             ],
             [
              0.2222222222222222,
              "#7201a8"
             ],
             [
              0.3333333333333333,
              "#9c179e"
             ],
             [
              0.4444444444444444,
              "#bd3786"
             ],
             [
              0.5555555555555556,
              "#d8576b"
             ],
             [
              0.6666666666666666,
              "#ed7953"
             ],
             [
              0.7777777777777778,
              "#fb9f3a"
             ],
             [
              0.8888888888888888,
              "#fdca26"
             ],
             [
              1,
              "#f0f921"
             ]
            ],
            "type": "heatmapgl"
           }
          ],
          "histogram": [
           {
            "marker": {
             "pattern": {
              "fillmode": "overlay",
              "size": 10,
              "solidity": 0.2
             }
            },
            "type": "histogram"
           }
          ],
          "histogram2d": [
           {
            "colorbar": {
             "outlinewidth": 0,
             "ticks": ""
            },
            "colorscale": [
             [
              0,
              "#0d0887"
             ],
             [
              0.1111111111111111,
              "#46039f"
             ],
             [
              0.2222222222222222,
              "#7201a8"
             ],
             [
              0.3333333333333333,
              "#9c179e"
             ],
             [
              0.4444444444444444,
              "#bd3786"
             ],
             [
              0.5555555555555556,
              "#d8576b"
             ],
             [
              0.6666666666666666,
              "#ed7953"
             ],
             [
              0.7777777777777778,
              "#fb9f3a"
             ],
             [
              0.8888888888888888,
              "#fdca26"
             ],
             [
              1,
              "#f0f921"
             ]
            ],
            "type": "histogram2d"
           }
          ],
          "histogram2dcontour": [
           {
            "colorbar": {
             "outlinewidth": 0,
             "ticks": ""
            },
            "colorscale": [
             [
              0,
              "#0d0887"
             ],
             [
              0.1111111111111111,
              "#46039f"
             ],
             [
              0.2222222222222222,
              "#7201a8"
             ],
             [
              0.3333333333333333,
              "#9c179e"
             ],
             [
              0.4444444444444444,
              "#bd3786"
             ],
             [
              0.5555555555555556,
              "#d8576b"
             ],
             [
              0.6666666666666666,
              "#ed7953"
             ],
             [
              0.7777777777777778,
              "#fb9f3a"
             ],
             [
              0.8888888888888888,
              "#fdca26"
             ],
             [
              1,
              "#f0f921"
             ]
            ],
            "type": "histogram2dcontour"
           }
          ],
          "mesh3d": [
           {
            "colorbar": {
             "outlinewidth": 0,
             "ticks": ""
            },
            "type": "mesh3d"
           }
          ],
          "parcoords": [
           {
            "line": {
             "colorbar": {
              "outlinewidth": 0,
              "ticks": ""
             }
            },
            "type": "parcoords"
           }
          ],
          "pie": [
           {
            "automargin": true,
            "type": "pie"
           }
          ],
          "scatter": [
           {
            "fillpattern": {
             "fillmode": "overlay",
             "size": 10,
             "solidity": 0.2
            },
            "type": "scatter"
           }
          ],
          "scatter3d": [
           {
            "line": {
             "colorbar": {
              "outlinewidth": 0,
              "ticks": ""
             }
            },
            "marker": {
             "colorbar": {
              "outlinewidth": 0,
              "ticks": ""
             }
            },
            "type": "scatter3d"
           }
          ],
          "scattercarpet": [
           {
            "marker": {
             "colorbar": {
              "outlinewidth": 0,
              "ticks": ""
             }
            },
            "type": "scattercarpet"
           }
          ],
          "scattergeo": [
           {
            "marker": {
             "colorbar": {
              "outlinewidth": 0,
              "ticks": ""
             }
            },
            "type": "scattergeo"
           }
          ],
          "scattergl": [
           {
            "marker": {
             "colorbar": {
              "outlinewidth": 0,
              "ticks": ""
             }
            },
            "type": "scattergl"
           }
          ],
          "scattermapbox": [
           {
            "marker": {
             "colorbar": {
              "outlinewidth": 0,
              "ticks": ""
             }
            },
            "type": "scattermapbox"
           }
          ],
          "scatterpolar": [
           {
            "marker": {
             "colorbar": {
              "outlinewidth": 0,
              "ticks": ""
             }
            },
            "type": "scatterpolar"
           }
          ],
          "scatterpolargl": [
           {
            "marker": {
             "colorbar": {
              "outlinewidth": 0,
              "ticks": ""
             }
            },
            "type": "scatterpolargl"
           }
          ],
          "scatterternary": [
           {
            "marker": {
             "colorbar": {
              "outlinewidth": 0,
              "ticks": ""
             }
            },
            "type": "scatterternary"
           }
          ],
          "surface": [
           {
            "colorbar": {
             "outlinewidth": 0,
             "ticks": ""
            },
            "colorscale": [
             [
              0,
              "#0d0887"
             ],
             [
              0.1111111111111111,
              "#46039f"
             ],
             [
              0.2222222222222222,
              "#7201a8"
             ],
             [
              0.3333333333333333,
              "#9c179e"
             ],
             [
              0.4444444444444444,
              "#bd3786"
             ],
             [
              0.5555555555555556,
              "#d8576b"
             ],
             [
              0.6666666666666666,
              "#ed7953"
             ],
             [
              0.7777777777777778,
              "#fb9f3a"
             ],
             [
              0.8888888888888888,
              "#fdca26"
             ],
             [
              1,
              "#f0f921"
             ]
            ],
            "type": "surface"
           }
          ],
          "table": [
           {
            "cells": {
             "fill": {
              "color": "#EBF0F8"
             },
             "line": {
              "color": "white"
             }
            },
            "header": {
             "fill": {
              "color": "#C8D4E3"
             },
             "line": {
              "color": "white"
             }
            },
            "type": "table"
           }
          ]
         },
         "layout": {
          "annotationdefaults": {
           "arrowcolor": "#2a3f5f",
           "arrowhead": 0,
           "arrowwidth": 1
          },
          "autotypenumbers": "strict",
          "coloraxis": {
           "colorbar": {
            "outlinewidth": 0,
            "ticks": ""
           }
          },
          "colorscale": {
           "diverging": [
            [
             0,
             "#8e0152"
            ],
            [
             0.1,
             "#c51b7d"
            ],
            [
             0.2,
             "#de77ae"
            ],
            [
             0.3,
             "#f1b6da"
            ],
            [
             0.4,
             "#fde0ef"
            ],
            [
             0.5,
             "#f7f7f7"
            ],
            [
             0.6,
             "#e6f5d0"
            ],
            [
             0.7,
             "#b8e186"
            ],
            [
             0.8,
             "#7fbc41"
            ],
            [
             0.9,
             "#4d9221"
            ],
            [
             1,
             "#276419"
            ]
           ],
           "sequential": [
            [
             0,
             "#0d0887"
            ],
            [
             0.1111111111111111,
             "#46039f"
            ],
            [
             0.2222222222222222,
             "#7201a8"
            ],
            [
             0.3333333333333333,
             "#9c179e"
            ],
            [
             0.4444444444444444,
             "#bd3786"
            ],
            [
             0.5555555555555556,
             "#d8576b"
            ],
            [
             0.6666666666666666,
             "#ed7953"
            ],
            [
             0.7777777777777778,
             "#fb9f3a"
            ],
            [
             0.8888888888888888,
             "#fdca26"
            ],
            [
             1,
             "#f0f921"
            ]
           ],
           "sequentialminus": [
            [
             0,
             "#0d0887"
            ],
            [
             0.1111111111111111,
             "#46039f"
            ],
            [
             0.2222222222222222,
             "#7201a8"
            ],
            [
             0.3333333333333333,
             "#9c179e"
            ],
            [
             0.4444444444444444,
             "#bd3786"
            ],
            [
             0.5555555555555556,
             "#d8576b"
            ],
            [
             0.6666666666666666,
             "#ed7953"
            ],
            [
             0.7777777777777778,
             "#fb9f3a"
            ],
            [
             0.8888888888888888,
             "#fdca26"
            ],
            [
             1,
             "#f0f921"
            ]
           ]
          },
          "colorway": [
           "#636efa",
           "#EF553B",
           "#00cc96",
           "#ab63fa",
           "#FFA15A",
           "#19d3f3",
           "#FF6692",
           "#B6E880",
           "#FF97FF",
           "#FECB52"
          ],
          "font": {
           "color": "#2a3f5f"
          },
          "geo": {
           "bgcolor": "white",
           "lakecolor": "white",
           "landcolor": "#E5ECF6",
           "showlakes": true,
           "showland": true,
           "subunitcolor": "white"
          },
          "hoverlabel": {
           "align": "left"
          },
          "hovermode": "closest",
          "mapbox": {
           "style": "light"
          },
          "paper_bgcolor": "white",
          "plot_bgcolor": "#E5ECF6",
          "polar": {
           "angularaxis": {
            "gridcolor": "white",
            "linecolor": "white",
            "ticks": ""
           },
           "bgcolor": "#E5ECF6",
           "radialaxis": {
            "gridcolor": "white",
            "linecolor": "white",
            "ticks": ""
           }
          },
          "scene": {
           "xaxis": {
            "backgroundcolor": "#E5ECF6",
            "gridcolor": "white",
            "gridwidth": 2,
            "linecolor": "white",
            "showbackground": true,
            "ticks": "",
            "zerolinecolor": "white"
           },
           "yaxis": {
            "backgroundcolor": "#E5ECF6",
            "gridcolor": "white",
            "gridwidth": 2,
            "linecolor": "white",
            "showbackground": true,
            "ticks": "",
            "zerolinecolor": "white"
           },
           "zaxis": {
            "backgroundcolor": "#E5ECF6",
            "gridcolor": "white",
            "gridwidth": 2,
            "linecolor": "white",
            "showbackground": true,
            "ticks": "",
            "zerolinecolor": "white"
           }
          },
          "shapedefaults": {
           "line": {
            "color": "#2a3f5f"
           }
          },
          "ternary": {
           "aaxis": {
            "gridcolor": "white",
            "linecolor": "white",
            "ticks": ""
           },
           "baxis": {
            "gridcolor": "white",
            "linecolor": "white",
            "ticks": ""
           },
           "bgcolor": "#E5ECF6",
           "caxis": {
            "gridcolor": "white",
            "linecolor": "white",
            "ticks": ""
           }
          },
          "title": {
           "x": 0.05
          },
          "xaxis": {
           "automargin": true,
           "gridcolor": "white",
           "linecolor": "white",
           "ticks": "",
           "title": {
            "standoff": 15
           },
           "zerolinecolor": "white",
           "zerolinewidth": 2
          },
          "yaxis": {
           "automargin": true,
           "gridcolor": "white",
           "linecolor": "white",
           "ticks": "",
           "title": {
            "standoff": 15
           },
           "zerolinecolor": "white",
           "zerolinewidth": 2
          }
         }
        }
       }
      },
      "text/html": [
       "<div>                            <div id=\"c7a1c260-c945-445a-8766-a6dfe72b2218\" class=\"plotly-graph-div\" style=\"height:525px; width:100%;\"></div>            <script type=\"text/javascript\">                require([\"plotly\"], function(Plotly) {                    window.PLOTLYENV=window.PLOTLYENV || {};                                    if (document.getElementById(\"c7a1c260-c945-445a-8766-a6dfe72b2218\")) {                    Plotly.newPlot(                        \"c7a1c260-c945-445a-8766-a6dfe72b2218\",                        [{\"marker\":{\"color\":[0,-1,0,0,-1,0,0,0,0,0,0,0,0,0,-1,0,0,0,0,0,0,0,0,0,0,-1,0,-1,0,0,0,0,0,0,0,0,0,0,-1,0,0,0,0,0,0,0,0,0,0,0,0,0,0,0,0,0,0,0,0,-1,-1,-1,-1,1,1,1,-1,1,-1,-1,1,-1,1,-1,1,-1,-1,1,-1,1,-1,1,1,2,1,1,1,1,1,1,1,1,1,1,1,0,1,1,1,1,1,1,1,1,1,1,1,1,1,-1,1,1,-1,1,1,-1,1,1,-1,1,1,-1,-1,1,1,1,1,-1,1,1,2,2,2,2,2,2,2,-1,2,-1,2,2,-1,2,2,2,-1,2,2,2,2,2,-1,2,2,2,2,-1,-1,-1,2,2,2,2,2,2,2,2,2,-1,2,2,2,2,2,2,2,-1],\"size\":4},\"mode\":\"markers\",\"x\":[36.860084533691406,9.101459503173828,36.4383544921875,46.461517333984375,31.420299530029297,45.72907638549805,24.777381896972656,35.387481689453125,19.342449188232422,28.039691925048828,37.444725036621094,18.32956314086914,24.904136657714844,28.082735061645508,36.273014068603516,36.197059631347656,45.614540100097656,38.900123596191406,46.43353271484375,27.589759826660156,29.278928756713867,21.0318546295166,16.36202621459961,14.401638984680176,19.142654418945312,38.188262939453125,25.310789108276367,14.003009796142578,29.758102416992188,19.071441650390625,40.209041595458984,37.66572952270508,23.35202407836914,44.89194869995117,25.89418601989746,20.1948184967041,27.059030532836914,19.259031295776367,7.476024150848389,31.042753219604492,24.636077880859375,11.76223087310791,31.871204376220703,15.245133399963379,16.864307403564453,21.164846420288086,18.41997528076172,23.993268966674805,33.68164825439453,36.72365951538086,28.750228881835938,29.02080535888672,42.20505905151367,42.51741027832031,24.394821166992188,43.25320053100586,31.528406143188477,33.43989181518555,38.09937286376953,-12.758103370666504,2.1052751541137695,-6.243051052093506,0.2351241558790207,-7.545162200927734,10.017468452453613,14.505743026733398,-6.483982086181641,-2.2879183292388916,0.9351162910461426,12.590204238891602,-19.47025489807129,19.33095359802246,-20.426795959472656,40.56985855102539,-0.6417043805122375,-10.041301727294922,-6.564820289611816,-9.953737258911133,14.211633682250977,10.000849723815918,-1.666770100593567,2.2964437007904053,6.92576265335083,-18.46584701538086,6.213172435760498,3.717177152633667,8.389005661010742,8.609161376953125,-1.2309236526489258,-1.7836973667144775,-1.5835003852844238,0.020856134593486786,-5.846227645874023,-4.979858875274658,-8.826009750366211,20.311559677124023,-19.72202491760254,-7.168864727020264,-1.7447937726974487,17.029211044311523,-12.651820182800293,-12.158507347106934,0.3935852348804474,-18.558860778808594,-6.296140670776367,-7.287503242492676,-6.751175880432129,-8.77656364440918,-15.548783302307129,3.3670573234558105,-6.169232368469238,-12.485515594482422,11.054327011108398,7.665274620056152,1.180891990661621,17.806350708007812,-10.642609596252441,0.5861695408821106,-16.610029220581055,-15.609199523925781,-2.8923041820526123,34.01142120361328,4.657268524169922,8.951543807983398,-0.24972720444202423,-6.470875263214111,-8.830140113830566,4.726068496704102,-7.747524261474609,-16.324676513671875,-26.387451171875,-28.499162673950195,-35.45389938354492,-33.45055389404297,-8.234660148620605,-16.424415588378906,-31.042537689208984,-39.75971603393555,-20.829425811767578,-41.69371795654297,-32.5335693359375,-27.379243850708008,-39.56476593017578,-25.645414352416992,-27.74694061279297,-27.940366744995117,-27.01114845275879,-29.235794067382812,-30.811513900756836,-37.595523834228516,-44.803714752197266,-43.13353729248047,-47.44697189331055,-31.544729232788086,-14.793651580810547,-38.751522064208984,-36.42783737182617,-46.8271369934082,-50.66944885253906,-44.46805191040039,-23.182575225830078,-37.277366638183594,-36.5183219909668,-29.385009765625,-34.2999153137207,-27.82034683227539,-44.85395431518555,-26.199716567993164,-44.744789123535156,-51.93008041381836,-21.253236770629883,-21.316055297851562,-38.358436584472656,-36.687679290771484,-37.83369064331055,-35.524696350097656,-32.71494674682617,-45.64640426635742],\"y\":[36.459205627441406,16.92945671081543,-4.107269763946533,26.484642028808594,1.4808225631713867,17.239788055419922,13.105106353759766,21.128150939941406,18.50507926940918,21.779722213745117,8.537531852722168,5.755316257476807,8.701956748962402,13.717777252197266,16.906938552856445,12.207931518554688,6.182051658630371,3.8209474086761475,16.171218872070312,31.465848922729492,39.40354537963867,25.8336238861084,20.827136993408203,14.443939208984375,15.941367149353027,0.17548826336860657,14.784714698791504,8.804484367370605,10.230424880981445,18.453134536743164,-3.7409257888793945,11.512121200561523,-0.6292566657066345,9.001896858215332,9.293806076049805,21.77561378479004,0.8705606460571289,6.075868129730225,8.170578956604004,39.101680755615234,36.70973205566406,33.87355041503906,24.323566436767578,32.51790237426758,30.39371681213379,37.39080810546875,38.12116241455078,26.976043701171875,2.890946388244629,18.82769012451172,26.455228805541992,3.594547748565674,27.546466827392578,14.588388442993164,29.523990631103516,2.974377393722534,31.332242965698242,12.18567943572998,21.923385620117188,-3.225287437438965,-23.031869888305664,-25.502979278564453,-2.313547134399414,23.490734100341797,-13.958580017089844,0.5762365460395813,16.978872299194336,-2.7823657989501953,-26.531503677368164,-14.414752006530762,-12.881086349487305,13.0328369140625,10.64031982421875,-6.520359992980957,27.83174705505371,-6.551673412322998,4.255501747131348,-15.509763717651367,-14.482462882995605,13.994782447814941,5.982668876647949,13.20203685760498,-4.926675796508789,-15.831722259521484,17.084199905395508,4.625833034515381,-10.719993591308594,-10.970553398132324,-4.9710774421691895,-3.5300800800323486,-12.937249183654785,-13.224695205688477,-18.905757904052734,14.836861610412598,23.013280868530273,-15.799934387207031,-20.693931579589844,12.523324012756348,25.31756019592285,6.706233024597168,4.253476142883301,-3.304809093475342,13.509167671203613,3.4569714069366455,4.517164707183838,-14.68169116973877,-3.2175850868225098,-11.349082946777344,11.595049858093262,23.837610244750977,33.32765579223633,14.196173667907715,-21.678091049194336,-1.4971565008163452,4.328005790710449,-6.050197601318359,4.7049455642700195,5.4346699714660645,-15.712011337280273,-0.5994757413864136,20.614370346069336,-0.328047513961792,10.982643127441406,29.480106353759766,29.32076644897461,9.519792556762695,14.616645812988281,0.10185407102108002,5.206422805786133,-3.5179262161254883,-16.00248908996582,-20.96282196044922,-16.334850311279297,-23.153234481811523,-29.480501174926758,-28.7406063079834,-10.1299467086792,-13.373287200927734,-21.499481201171875,-6.209163188934326,-6.576850414276123,-12.610307693481445,-6.326925277709961,-12.747856140136719,-31.859987258911133,-20.949247360229492,-20.94734001159668,-29.477251052856445,-31.042951583862305,-29.933874130249023,-24.89310073852539,-33.5108757019043,-18.300352096557617,-43.09077072143555,-34.69937515258789,-28.82604217529297,-35.0263786315918,-16.150775909423828,-41.512481689453125,-44.80218505859375,-32.95919418334961,-15.10519027709961,-12.477286338806152,-21.980422973632812,-31.53786849975586,-20.827003479003906,-33.8815803527832,-33.93966293334961,-25.17378807067871,-28.23008155822754,-21.95578956604004,-38.79261779785156,-36.61306381225586,-23.32190704345703,-24.823348999023438,-39.16481399536133,-43.86781692504883,-29.343585968017578],\"z\":[12.299501419067383,21.52986717224121,20.160749435424805,12.654191017150879,-8.804105758666992,16.506776809692383,24.562822341918945,-2.6752405166625977,29.90074348449707,18.779613494873047,26.586084365844727,21.391332626342773,16.838863372802734,36.828582763671875,35.00539016723633,0.5343636274337769,7.5474467277526855,2.9233016967773438,25.57645034790039,1.806733250617981,14.129373550415039,-8.030406951904297,11.533679962158203,4.387208938598633,-2.8405814170837402,-12.798788070678711,9.453014373779297,14.051274299621582,-7.372771263122559,19.563663482666016,10.173327445983887,18.451181411743164,11.400666236877441,-4.141026020050049,1.4343206882476807,2.957278251647949,0.23275788128376007,5.683084964752197,18.522905349731445,2.4854204654693604,21.355819702148438,-2.8444621562957764,8.642546653747559,-9.517369270324707,19.104135513305664,-3.5961358547210693,7.822927474975586,23.821332931518555,14.46007251739502,24.05316734313965,33.14073944091797,23.897493362426758,21.157297134399414,5.172101020812988,12.575267791748047,17.738000869750977,18.146120071411133,8.881697654724121,14.240816116333008,23.285717010498047,0.8312191367149353,1.7143325805664062,18.19761085510254,10.416231155395508,-5.256850719451904,-1.3419116735458374,19.316675186157227,5.961362838745117,7.421614646911621,24.115074157714844,9.644641876220703,-11.86574935913086,-14.478935241699219,-5.257556915283203,3.4934418201446533,13.350360870361328,19.21596336364746,8.196645736694336,17.21893310546875,-23.906686782836914,10.271234512329102,4.591580390930176,-20.317380905151367,-20.928573608398438,-7.1920390129089355,2.570770263671875,-13.714423179626465,-25.246797561645508,-13.926039695739746,-23.05914306640625,-8.132040977478027,-17.05607032775879,-13.035158157348633,-1.563817024230957,0.8357923626899719,21.519821166992188,21.5308837890625,9.639047622680664,14.143412590026855,-23.205354690551758,11.725723266601562,4.412404537200928,-16.438817977905273,-0.3235169053077698,1.8659934997558594,-24.19834327697754,-3.8082756996154785,-14.689318656921387,0.5884121656417847,-7.178775310516357,-13.841805458068848,-9.530844688415527,-11.0274658203125,-11.044475555419922,-17.336997985839844,-18.186582565307617,-4.8188862800598145,-6.357632637023926,-4.493935585021973,-10.154435157775879,-12.351667404174805,-20.559799194335938,-29.402708053588867,-19.437084197998047,-18.445589065551758,-12.6572265625,-20.18405532836914,-31.684640884399414,-21.000850677490234,-19.88470458984375,17.520238876342773,10.26148509979248,9.393994331359863,15.819672584533691,-6.708090305328369,-7.55276346206665,-23.638004302978516,-23.922298431396484,-13.000930786132812,-12.361734390258789,-8.218417167663574,-0.00618774676695466,-3.8518970012664795,-14.441596984863281,7.812362194061279,-6.488003730773926,-28.621414184570312,-22.078229904174805,-11.927984237670898,5.613805770874023,9.866312026977539,11.561016082763672,4.966946125030518,-13.277915954589844,-0.8698128461837769,-26.090810775756836,-17.924509048461914,-14.324511528015137,-12.197793960571289,-13.597891807556152,-17.272249221801758,-4.847059726715088,-13.088592529296875,1.2523716688156128,-3.8108327388763428,-18.332130432128906,-1.6630995273590088,-3.395397424697876,-3.3982994556427,3.160308837890625,2.064781904220581,-8.558614730834961,-8.960681915283203,-19.96405601501465,-9.786012649536133,4.639728546142578,-2.502272129058838,-14.609158515930176],\"type\":\"scatter3d\"}],                        {\"template\":{\"data\":{\"histogram2dcontour\":[{\"type\":\"histogram2dcontour\",\"colorbar\":{\"outlinewidth\":0,\"ticks\":\"\"},\"colorscale\":[[0.0,\"#0d0887\"],[0.1111111111111111,\"#46039f\"],[0.2222222222222222,\"#7201a8\"],[0.3333333333333333,\"#9c179e\"],[0.4444444444444444,\"#bd3786\"],[0.5555555555555556,\"#d8576b\"],[0.6666666666666666,\"#ed7953\"],[0.7777777777777778,\"#fb9f3a\"],[0.8888888888888888,\"#fdca26\"],[1.0,\"#f0f921\"]]}],\"choropleth\":[{\"type\":\"choropleth\",\"colorbar\":{\"outlinewidth\":0,\"ticks\":\"\"}}],\"histogram2d\":[{\"type\":\"histogram2d\",\"colorbar\":{\"outlinewidth\":0,\"ticks\":\"\"},\"colorscale\":[[0.0,\"#0d0887\"],[0.1111111111111111,\"#46039f\"],[0.2222222222222222,\"#7201a8\"],[0.3333333333333333,\"#9c179e\"],[0.4444444444444444,\"#bd3786\"],[0.5555555555555556,\"#d8576b\"],[0.6666666666666666,\"#ed7953\"],[0.7777777777777778,\"#fb9f3a\"],[0.8888888888888888,\"#fdca26\"],[1.0,\"#f0f921\"]]}],\"heatmap\":[{\"type\":\"heatmap\",\"colorbar\":{\"outlinewidth\":0,\"ticks\":\"\"},\"colorscale\":[[0.0,\"#0d0887\"],[0.1111111111111111,\"#46039f\"],[0.2222222222222222,\"#7201a8\"],[0.3333333333333333,\"#9c179e\"],[0.4444444444444444,\"#bd3786\"],[0.5555555555555556,\"#d8576b\"],[0.6666666666666666,\"#ed7953\"],[0.7777777777777778,\"#fb9f3a\"],[0.8888888888888888,\"#fdca26\"],[1.0,\"#f0f921\"]]}],\"heatmapgl\":[{\"type\":\"heatmapgl\",\"colorbar\":{\"outlinewidth\":0,\"ticks\":\"\"},\"colorscale\":[[0.0,\"#0d0887\"],[0.1111111111111111,\"#46039f\"],[0.2222222222222222,\"#7201a8\"],[0.3333333333333333,\"#9c179e\"],[0.4444444444444444,\"#bd3786\"],[0.5555555555555556,\"#d8576b\"],[0.6666666666666666,\"#ed7953\"],[0.7777777777777778,\"#fb9f3a\"],[0.8888888888888888,\"#fdca26\"],[1.0,\"#f0f921\"]]}],\"contourcarpet\":[{\"type\":\"contourcarpet\",\"colorbar\":{\"outlinewidth\":0,\"ticks\":\"\"}}],\"contour\":[{\"type\":\"contour\",\"colorbar\":{\"outlinewidth\":0,\"ticks\":\"\"},\"colorscale\":[[0.0,\"#0d0887\"],[0.1111111111111111,\"#46039f\"],[0.2222222222222222,\"#7201a8\"],[0.3333333333333333,\"#9c179e\"],[0.4444444444444444,\"#bd3786\"],[0.5555555555555556,\"#d8576b\"],[0.6666666666666666,\"#ed7953\"],[0.7777777777777778,\"#fb9f3a\"],[0.8888888888888888,\"#fdca26\"],[1.0,\"#f0f921\"]]}],\"surface\":[{\"type\":\"surface\",\"colorbar\":{\"outlinewidth\":0,\"ticks\":\"\"},\"colorscale\":[[0.0,\"#0d0887\"],[0.1111111111111111,\"#46039f\"],[0.2222222222222222,\"#7201a8\"],[0.3333333333333333,\"#9c179e\"],[0.4444444444444444,\"#bd3786\"],[0.5555555555555556,\"#d8576b\"],[0.6666666666666666,\"#ed7953\"],[0.7777777777777778,\"#fb9f3a\"],[0.8888888888888888,\"#fdca26\"],[1.0,\"#f0f921\"]]}],\"mesh3d\":[{\"type\":\"mesh3d\",\"colorbar\":{\"outlinewidth\":0,\"ticks\":\"\"}}],\"scatter\":[{\"fillpattern\":{\"fillmode\":\"overlay\",\"size\":10,\"solidity\":0.2},\"type\":\"scatter\"}],\"parcoords\":[{\"type\":\"parcoords\",\"line\":{\"colorbar\":{\"outlinewidth\":0,\"ticks\":\"\"}}}],\"scatterpolargl\":[{\"type\":\"scatterpolargl\",\"marker\":{\"colorbar\":{\"outlinewidth\":0,\"ticks\":\"\"}}}],\"bar\":[{\"error_x\":{\"color\":\"#2a3f5f\"},\"error_y\":{\"color\":\"#2a3f5f\"},\"marker\":{\"line\":{\"color\":\"#E5ECF6\",\"width\":0.5},\"pattern\":{\"fillmode\":\"overlay\",\"size\":10,\"solidity\":0.2}},\"type\":\"bar\"}],\"scattergeo\":[{\"type\":\"scattergeo\",\"marker\":{\"colorbar\":{\"outlinewidth\":0,\"ticks\":\"\"}}}],\"scatterpolar\":[{\"type\":\"scatterpolar\",\"marker\":{\"colorbar\":{\"outlinewidth\":0,\"ticks\":\"\"}}}],\"histogram\":[{\"marker\":{\"pattern\":{\"fillmode\":\"overlay\",\"size\":10,\"solidity\":0.2}},\"type\":\"histogram\"}],\"scattergl\":[{\"type\":\"scattergl\",\"marker\":{\"colorbar\":{\"outlinewidth\":0,\"ticks\":\"\"}}}],\"scatter3d\":[{\"type\":\"scatter3d\",\"line\":{\"colorbar\":{\"outlinewidth\":0,\"ticks\":\"\"}},\"marker\":{\"colorbar\":{\"outlinewidth\":0,\"ticks\":\"\"}}}],\"scattermapbox\":[{\"type\":\"scattermapbox\",\"marker\":{\"colorbar\":{\"outlinewidth\":0,\"ticks\":\"\"}}}],\"scatterternary\":[{\"type\":\"scatterternary\",\"marker\":{\"colorbar\":{\"outlinewidth\":0,\"ticks\":\"\"}}}],\"scattercarpet\":[{\"type\":\"scattercarpet\",\"marker\":{\"colorbar\":{\"outlinewidth\":0,\"ticks\":\"\"}}}],\"carpet\":[{\"aaxis\":{\"endlinecolor\":\"#2a3f5f\",\"gridcolor\":\"white\",\"linecolor\":\"white\",\"minorgridcolor\":\"white\",\"startlinecolor\":\"#2a3f5f\"},\"baxis\":{\"endlinecolor\":\"#2a3f5f\",\"gridcolor\":\"white\",\"linecolor\":\"white\",\"minorgridcolor\":\"white\",\"startlinecolor\":\"#2a3f5f\"},\"type\":\"carpet\"}],\"table\":[{\"cells\":{\"fill\":{\"color\":\"#EBF0F8\"},\"line\":{\"color\":\"white\"}},\"header\":{\"fill\":{\"color\":\"#C8D4E3\"},\"line\":{\"color\":\"white\"}},\"type\":\"table\"}],\"barpolar\":[{\"marker\":{\"line\":{\"color\":\"#E5ECF6\",\"width\":0.5},\"pattern\":{\"fillmode\":\"overlay\",\"size\":10,\"solidity\":0.2}},\"type\":\"barpolar\"}],\"pie\":[{\"automargin\":true,\"type\":\"pie\"}]},\"layout\":{\"autotypenumbers\":\"strict\",\"colorway\":[\"#636efa\",\"#EF553B\",\"#00cc96\",\"#ab63fa\",\"#FFA15A\",\"#19d3f3\",\"#FF6692\",\"#B6E880\",\"#FF97FF\",\"#FECB52\"],\"font\":{\"color\":\"#2a3f5f\"},\"hovermode\":\"closest\",\"hoverlabel\":{\"align\":\"left\"},\"paper_bgcolor\":\"white\",\"plot_bgcolor\":\"#E5ECF6\",\"polar\":{\"bgcolor\":\"#E5ECF6\",\"angularaxis\":{\"gridcolor\":\"white\",\"linecolor\":\"white\",\"ticks\":\"\"},\"radialaxis\":{\"gridcolor\":\"white\",\"linecolor\":\"white\",\"ticks\":\"\"}},\"ternary\":{\"bgcolor\":\"#E5ECF6\",\"aaxis\":{\"gridcolor\":\"white\",\"linecolor\":\"white\",\"ticks\":\"\"},\"baxis\":{\"gridcolor\":\"white\",\"linecolor\":\"white\",\"ticks\":\"\"},\"caxis\":{\"gridcolor\":\"white\",\"linecolor\":\"white\",\"ticks\":\"\"}},\"coloraxis\":{\"colorbar\":{\"outlinewidth\":0,\"ticks\":\"\"}},\"colorscale\":{\"sequential\":[[0.0,\"#0d0887\"],[0.1111111111111111,\"#46039f\"],[0.2222222222222222,\"#7201a8\"],[0.3333333333333333,\"#9c179e\"],[0.4444444444444444,\"#bd3786\"],[0.5555555555555556,\"#d8576b\"],[0.6666666666666666,\"#ed7953\"],[0.7777777777777778,\"#fb9f3a\"],[0.8888888888888888,\"#fdca26\"],[1.0,\"#f0f921\"]],\"sequentialminus\":[[0.0,\"#0d0887\"],[0.1111111111111111,\"#46039f\"],[0.2222222222222222,\"#7201a8\"],[0.3333333333333333,\"#9c179e\"],[0.4444444444444444,\"#bd3786\"],[0.5555555555555556,\"#d8576b\"],[0.6666666666666666,\"#ed7953\"],[0.7777777777777778,\"#fb9f3a\"],[0.8888888888888888,\"#fdca26\"],[1.0,\"#f0f921\"]],\"diverging\":[[0,\"#8e0152\"],[0.1,\"#c51b7d\"],[0.2,\"#de77ae\"],[0.3,\"#f1b6da\"],[0.4,\"#fde0ef\"],[0.5,\"#f7f7f7\"],[0.6,\"#e6f5d0\"],[0.7,\"#b8e186\"],[0.8,\"#7fbc41\"],[0.9,\"#4d9221\"],[1,\"#276419\"]]},\"xaxis\":{\"gridcolor\":\"white\",\"linecolor\":\"white\",\"ticks\":\"\",\"title\":{\"standoff\":15},\"zerolinecolor\":\"white\",\"automargin\":true,\"zerolinewidth\":2},\"yaxis\":{\"gridcolor\":\"white\",\"linecolor\":\"white\",\"ticks\":\"\",\"title\":{\"standoff\":15},\"zerolinecolor\":\"white\",\"automargin\":true,\"zerolinewidth\":2},\"scene\":{\"xaxis\":{\"backgroundcolor\":\"#E5ECF6\",\"gridcolor\":\"white\",\"linecolor\":\"white\",\"showbackground\":true,\"ticks\":\"\",\"zerolinecolor\":\"white\",\"gridwidth\":2},\"yaxis\":{\"backgroundcolor\":\"#E5ECF6\",\"gridcolor\":\"white\",\"linecolor\":\"white\",\"showbackground\":true,\"ticks\":\"\",\"zerolinecolor\":\"white\",\"gridwidth\":2},\"zaxis\":{\"backgroundcolor\":\"#E5ECF6\",\"gridcolor\":\"white\",\"linecolor\":\"white\",\"showbackground\":true,\"ticks\":\"\",\"zerolinecolor\":\"white\",\"gridwidth\":2}},\"shapedefaults\":{\"line\":{\"color\":\"#2a3f5f\"}},\"annotationdefaults\":{\"arrowcolor\":\"#2a3f5f\",\"arrowhead\":0,\"arrowwidth\":1},\"geo\":{\"bgcolor\":\"white\",\"landcolor\":\"#E5ECF6\",\"subunitcolor\":\"white\",\"showland\":true,\"showlakes\":true,\"lakecolor\":\"white\"},\"title\":{\"x\":0.05},\"mapbox\":{\"style\":\"light\"}}}},                        {\"responsive\": true}                    ).then(function(){\n",
       "                            \n",
       "var gd = document.getElementById('c7a1c260-c945-445a-8766-a6dfe72b2218');\n",
       "var x = new MutationObserver(function (mutations, observer) {{\n",
       "        var display = window.getComputedStyle(gd).display;\n",
       "        if (!display || display === 'none') {{\n",
       "            console.log([gd, 'removed!']);\n",
       "            Plotly.purge(gd);\n",
       "            observer.disconnect();\n",
       "        }}\n",
       "}});\n",
       "\n",
       "// Listen for the removal of the full notebook cells\n",
       "var notebookContainer = gd.closest('#notebook-container');\n",
       "if (notebookContainer) {{\n",
       "    x.observe(notebookContainer, {childList: true});\n",
       "}}\n",
       "\n",
       "// Listen for the clearing of the current output cell\n",
       "var outputEl = gd.closest('.output');\n",
       "if (outputEl) {{\n",
       "    x.observe(outputEl, {childList: true});\n",
       "}}\n",
       "\n",
       "                        })                };                });            </script>        </div>"
      ]
     },
     "metadata": {},
     "output_type": "display_data"
    }
   ],
   "source": [
    "fig = go.Figure(data=[go.Scatter3d(x=tsne3D_df['x'], y=tsne3D_df['y'], z=tsne3D_df['z'],\n",
    "                                   mode='markers', marker_color=model3.labels_, marker_size = 4)])\n",
    "fig.show()"
   ]
  },
  {
   "cell_type": "code",
   "execution_count": null,
   "id": "9ef9cbf0",
   "metadata": {},
   "outputs": [],
   "source": []
  }
 ],
 "metadata": {
  "kernelspec": {
   "display_name": "Python 3 (ipykernel)",
   "language": "python",
   "name": "python3"
  },
  "language_info": {
   "codemirror_mode": {
    "name": "ipython",
    "version": 3
   },
   "file_extension": ".py",
   "mimetype": "text/x-python",
   "name": "python",
   "nbconvert_exporter": "python",
   "pygments_lexer": "ipython3",
   "version": "3.10.9"
  }
 },
 "nbformat": 4,
 "nbformat_minor": 5
}
